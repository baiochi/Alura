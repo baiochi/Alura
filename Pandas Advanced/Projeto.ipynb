{
 "cells": [
  {
   "cell_type": "markdown",
   "metadata": {
    "id": "VvKng5_devgH"
   },
   "source": [
    "# PANDAS AVANÇADO\n",
    "---"
   ]
  },
  {
   "cell_type": "markdown",
   "metadata": {
    "id": "99IUfbszevgO"
   },
   "source": [
    "# CARREGANDO OS DADOS\n",
    "---"
   ]
  },
  {
   "cell_type": "markdown",
   "metadata": {
    "id": "VYIHv0csevgP"
   },
   "source": [
    "## Configurações do projeto"
   ]
  },
  {
   "cell_type": "markdown",
   "metadata": {
    "id": "P_gXKCYpevgP"
   },
   "source": [
    "### Importando pacotes"
   ]
  },
  {
   "cell_type": "code",
   "execution_count": 1,
   "metadata": {},
   "outputs": [],
   "source": [
    "import numpy as np\n",
    "import pandas as pd\n",
    "import seaborn as sns"
   ]
  },
  {
   "cell_type": "code",
   "execution_count": 2,
   "metadata": {
    "ExecuteTime": {
     "end_time": "2020-10-25T16:41:53.996410Z",
     "start_time": "2020-10-25T16:41:53.989428Z"
    },
    "id": "s-xCbXDzevgQ"
   },
   "outputs": [
    {
     "name": "stdout",
     "output_type": "stream",
     "text": [
      "Pandas 1.2.4\n"
     ]
    }
   ],
   "source": [
    "print(f'Pandas {pd.__version__}')"
   ]
  },
  {
   "cell_type": "markdown",
   "metadata": {
    "id": "4S6wyakFevgQ"
   },
   "source": [
    "### Opções de configuração\n",
    "\n",
    "[Documentação](https://pandas.pydata.org/pandas-docs/stable/user_guide/options.html)"
   ]
  },
  {
   "cell_type": "code",
   "execution_count": 3,
   "metadata": {
    "id": "6UVcvI0-evgR"
   },
   "outputs": [
    {
     "data": {
      "text/plain": [
       "60"
      ]
     },
     "execution_count": 3,
     "metadata": {},
     "output_type": "execute_result"
    }
   ],
   "source": [
    "pd.get_option('display.max_rows')"
   ]
  },
  {
   "cell_type": "code",
   "execution_count": 4,
   "metadata": {
    "id": "A8Nvt66tevgR"
   },
   "outputs": [
    {
     "data": {
      "text/plain": [
       "20"
      ]
     },
     "execution_count": 4,
     "metadata": {},
     "output_type": "execute_result"
    }
   ],
   "source": [
    "pd.get_option('display.max_columns')"
   ]
  },
  {
   "cell_type": "markdown",
   "metadata": {
    "id": "xmP4ARNSevgR"
   },
   "source": [
    "[Opções disponíveis](https://pandas.pydata.org/pandas-docs/stable/user_guide/options.html#available-options)"
   ]
  },
  {
   "cell_type": "code",
   "execution_count": 5,
   "metadata": {
    "id": "rKUvxnvnevgS"
   },
   "outputs": [
    {
     "name": "stdout",
     "output_type": "stream",
     "text": [
      "display.max_rows : int\n",
      "    If max_rows is exceeded, switch to truncate view. Depending on\n",
      "    `large_repr`, objects are either centrally truncated or printed as\n",
      "    a summary view. 'None' value means unlimited.\n",
      "\n",
      "    In case python/IPython is running in a terminal and `large_repr`\n",
      "    equals 'truncate' this can be set to 0 and pandas will auto-detect\n",
      "    the height of the terminal and print a truncated object which fits\n",
      "    the screen height. The IPython notebook, IPython qtconsole, or\n",
      "    IDLE do not run in a terminal and hence it is not possible to do\n",
      "    correct auto-detection.\n",
      "    [default: 60] [currently: 60]\n"
     ]
    }
   ],
   "source": [
    "pd.describe_option('display.max_rows')"
   ]
  },
  {
   "cell_type": "code",
   "execution_count": 6,
   "metadata": {
    "id": "Gptfp9ygevgS"
   },
   "outputs": [],
   "source": [
    "df = pd.DataFrame(np.arange(10000).reshape(100,100))"
   ]
  },
  {
   "cell_type": "code",
   "execution_count": 7,
   "metadata": {
    "id": "QIif0CPGevgS"
   },
   "outputs": [
    {
     "data": {
      "text/html": [
       "<div>\n",
       "<style scoped>\n",
       "    .dataframe tbody tr th:only-of-type {\n",
       "        vertical-align: middle;\n",
       "    }\n",
       "\n",
       "    .dataframe tbody tr th {\n",
       "        vertical-align: top;\n",
       "    }\n",
       "\n",
       "    .dataframe thead th {\n",
       "        text-align: right;\n",
       "    }\n",
       "</style>\n",
       "<table border=\"1\" class=\"dataframe\">\n",
       "  <thead>\n",
       "    <tr style=\"text-align: right;\">\n",
       "      <th></th>\n",
       "      <th>0</th>\n",
       "      <th>1</th>\n",
       "      <th>2</th>\n",
       "      <th>3</th>\n",
       "      <th>4</th>\n",
       "      <th>5</th>\n",
       "      <th>6</th>\n",
       "      <th>7</th>\n",
       "      <th>8</th>\n",
       "      <th>9</th>\n",
       "      <th>...</th>\n",
       "      <th>90</th>\n",
       "      <th>91</th>\n",
       "      <th>92</th>\n",
       "      <th>93</th>\n",
       "      <th>94</th>\n",
       "      <th>95</th>\n",
       "      <th>96</th>\n",
       "      <th>97</th>\n",
       "      <th>98</th>\n",
       "      <th>99</th>\n",
       "    </tr>\n",
       "  </thead>\n",
       "  <tbody>\n",
       "    <tr>\n",
       "      <th>0</th>\n",
       "      <td>0</td>\n",
       "      <td>1</td>\n",
       "      <td>2</td>\n",
       "      <td>3</td>\n",
       "      <td>4</td>\n",
       "      <td>5</td>\n",
       "      <td>6</td>\n",
       "      <td>7</td>\n",
       "      <td>8</td>\n",
       "      <td>9</td>\n",
       "      <td>...</td>\n",
       "      <td>90</td>\n",
       "      <td>91</td>\n",
       "      <td>92</td>\n",
       "      <td>93</td>\n",
       "      <td>94</td>\n",
       "      <td>95</td>\n",
       "      <td>96</td>\n",
       "      <td>97</td>\n",
       "      <td>98</td>\n",
       "      <td>99</td>\n",
       "    </tr>\n",
       "    <tr>\n",
       "      <th>1</th>\n",
       "      <td>100</td>\n",
       "      <td>101</td>\n",
       "      <td>102</td>\n",
       "      <td>103</td>\n",
       "      <td>104</td>\n",
       "      <td>105</td>\n",
       "      <td>106</td>\n",
       "      <td>107</td>\n",
       "      <td>108</td>\n",
       "      <td>109</td>\n",
       "      <td>...</td>\n",
       "      <td>190</td>\n",
       "      <td>191</td>\n",
       "      <td>192</td>\n",
       "      <td>193</td>\n",
       "      <td>194</td>\n",
       "      <td>195</td>\n",
       "      <td>196</td>\n",
       "      <td>197</td>\n",
       "      <td>198</td>\n",
       "      <td>199</td>\n",
       "    </tr>\n",
       "    <tr>\n",
       "      <th>2</th>\n",
       "      <td>200</td>\n",
       "      <td>201</td>\n",
       "      <td>202</td>\n",
       "      <td>203</td>\n",
       "      <td>204</td>\n",
       "      <td>205</td>\n",
       "      <td>206</td>\n",
       "      <td>207</td>\n",
       "      <td>208</td>\n",
       "      <td>209</td>\n",
       "      <td>...</td>\n",
       "      <td>290</td>\n",
       "      <td>291</td>\n",
       "      <td>292</td>\n",
       "      <td>293</td>\n",
       "      <td>294</td>\n",
       "      <td>295</td>\n",
       "      <td>296</td>\n",
       "      <td>297</td>\n",
       "      <td>298</td>\n",
       "      <td>299</td>\n",
       "    </tr>\n",
       "    <tr>\n",
       "      <th>3</th>\n",
       "      <td>300</td>\n",
       "      <td>301</td>\n",
       "      <td>302</td>\n",
       "      <td>303</td>\n",
       "      <td>304</td>\n",
       "      <td>305</td>\n",
       "      <td>306</td>\n",
       "      <td>307</td>\n",
       "      <td>308</td>\n",
       "      <td>309</td>\n",
       "      <td>...</td>\n",
       "      <td>390</td>\n",
       "      <td>391</td>\n",
       "      <td>392</td>\n",
       "      <td>393</td>\n",
       "      <td>394</td>\n",
       "      <td>395</td>\n",
       "      <td>396</td>\n",
       "      <td>397</td>\n",
       "      <td>398</td>\n",
       "      <td>399</td>\n",
       "    </tr>\n",
       "    <tr>\n",
       "      <th>4</th>\n",
       "      <td>400</td>\n",
       "      <td>401</td>\n",
       "      <td>402</td>\n",
       "      <td>403</td>\n",
       "      <td>404</td>\n",
       "      <td>405</td>\n",
       "      <td>406</td>\n",
       "      <td>407</td>\n",
       "      <td>408</td>\n",
       "      <td>409</td>\n",
       "      <td>...</td>\n",
       "      <td>490</td>\n",
       "      <td>491</td>\n",
       "      <td>492</td>\n",
       "      <td>493</td>\n",
       "      <td>494</td>\n",
       "      <td>495</td>\n",
       "      <td>496</td>\n",
       "      <td>497</td>\n",
       "      <td>498</td>\n",
       "      <td>499</td>\n",
       "    </tr>\n",
       "    <tr>\n",
       "      <th>...</th>\n",
       "      <td>...</td>\n",
       "      <td>...</td>\n",
       "      <td>...</td>\n",
       "      <td>...</td>\n",
       "      <td>...</td>\n",
       "      <td>...</td>\n",
       "      <td>...</td>\n",
       "      <td>...</td>\n",
       "      <td>...</td>\n",
       "      <td>...</td>\n",
       "      <td>...</td>\n",
       "      <td>...</td>\n",
       "      <td>...</td>\n",
       "      <td>...</td>\n",
       "      <td>...</td>\n",
       "      <td>...</td>\n",
       "      <td>...</td>\n",
       "      <td>...</td>\n",
       "      <td>...</td>\n",
       "      <td>...</td>\n",
       "      <td>...</td>\n",
       "    </tr>\n",
       "    <tr>\n",
       "      <th>95</th>\n",
       "      <td>9500</td>\n",
       "      <td>9501</td>\n",
       "      <td>9502</td>\n",
       "      <td>9503</td>\n",
       "      <td>9504</td>\n",
       "      <td>9505</td>\n",
       "      <td>9506</td>\n",
       "      <td>9507</td>\n",
       "      <td>9508</td>\n",
       "      <td>9509</td>\n",
       "      <td>...</td>\n",
       "      <td>9590</td>\n",
       "      <td>9591</td>\n",
       "      <td>9592</td>\n",
       "      <td>9593</td>\n",
       "      <td>9594</td>\n",
       "      <td>9595</td>\n",
       "      <td>9596</td>\n",
       "      <td>9597</td>\n",
       "      <td>9598</td>\n",
       "      <td>9599</td>\n",
       "    </tr>\n",
       "    <tr>\n",
       "      <th>96</th>\n",
       "      <td>9600</td>\n",
       "      <td>9601</td>\n",
       "      <td>9602</td>\n",
       "      <td>9603</td>\n",
       "      <td>9604</td>\n",
       "      <td>9605</td>\n",
       "      <td>9606</td>\n",
       "      <td>9607</td>\n",
       "      <td>9608</td>\n",
       "      <td>9609</td>\n",
       "      <td>...</td>\n",
       "      <td>9690</td>\n",
       "      <td>9691</td>\n",
       "      <td>9692</td>\n",
       "      <td>9693</td>\n",
       "      <td>9694</td>\n",
       "      <td>9695</td>\n",
       "      <td>9696</td>\n",
       "      <td>9697</td>\n",
       "      <td>9698</td>\n",
       "      <td>9699</td>\n",
       "    </tr>\n",
       "    <tr>\n",
       "      <th>97</th>\n",
       "      <td>9700</td>\n",
       "      <td>9701</td>\n",
       "      <td>9702</td>\n",
       "      <td>9703</td>\n",
       "      <td>9704</td>\n",
       "      <td>9705</td>\n",
       "      <td>9706</td>\n",
       "      <td>9707</td>\n",
       "      <td>9708</td>\n",
       "      <td>9709</td>\n",
       "      <td>...</td>\n",
       "      <td>9790</td>\n",
       "      <td>9791</td>\n",
       "      <td>9792</td>\n",
       "      <td>9793</td>\n",
       "      <td>9794</td>\n",
       "      <td>9795</td>\n",
       "      <td>9796</td>\n",
       "      <td>9797</td>\n",
       "      <td>9798</td>\n",
       "      <td>9799</td>\n",
       "    </tr>\n",
       "    <tr>\n",
       "      <th>98</th>\n",
       "      <td>9800</td>\n",
       "      <td>9801</td>\n",
       "      <td>9802</td>\n",
       "      <td>9803</td>\n",
       "      <td>9804</td>\n",
       "      <td>9805</td>\n",
       "      <td>9806</td>\n",
       "      <td>9807</td>\n",
       "      <td>9808</td>\n",
       "      <td>9809</td>\n",
       "      <td>...</td>\n",
       "      <td>9890</td>\n",
       "      <td>9891</td>\n",
       "      <td>9892</td>\n",
       "      <td>9893</td>\n",
       "      <td>9894</td>\n",
       "      <td>9895</td>\n",
       "      <td>9896</td>\n",
       "      <td>9897</td>\n",
       "      <td>9898</td>\n",
       "      <td>9899</td>\n",
       "    </tr>\n",
       "    <tr>\n",
       "      <th>99</th>\n",
       "      <td>9900</td>\n",
       "      <td>9901</td>\n",
       "      <td>9902</td>\n",
       "      <td>9903</td>\n",
       "      <td>9904</td>\n",
       "      <td>9905</td>\n",
       "      <td>9906</td>\n",
       "      <td>9907</td>\n",
       "      <td>9908</td>\n",
       "      <td>9909</td>\n",
       "      <td>...</td>\n",
       "      <td>9990</td>\n",
       "      <td>9991</td>\n",
       "      <td>9992</td>\n",
       "      <td>9993</td>\n",
       "      <td>9994</td>\n",
       "      <td>9995</td>\n",
       "      <td>9996</td>\n",
       "      <td>9997</td>\n",
       "      <td>9998</td>\n",
       "      <td>9999</td>\n",
       "    </tr>\n",
       "  </tbody>\n",
       "</table>\n",
       "<p>100 rows × 100 columns</p>\n",
       "</div>"
      ],
      "text/plain": [
       "      0     1     2     3     4     5     6     7     8     9   ...    90  \\\n",
       "0      0     1     2     3     4     5     6     7     8     9  ...    90   \n",
       "1    100   101   102   103   104   105   106   107   108   109  ...   190   \n",
       "2    200   201   202   203   204   205   206   207   208   209  ...   290   \n",
       "3    300   301   302   303   304   305   306   307   308   309  ...   390   \n",
       "4    400   401   402   403   404   405   406   407   408   409  ...   490   \n",
       "..   ...   ...   ...   ...   ...   ...   ...   ...   ...   ...  ...   ...   \n",
       "95  9500  9501  9502  9503  9504  9505  9506  9507  9508  9509  ...  9590   \n",
       "96  9600  9601  9602  9603  9604  9605  9606  9607  9608  9609  ...  9690   \n",
       "97  9700  9701  9702  9703  9704  9705  9706  9707  9708  9709  ...  9790   \n",
       "98  9800  9801  9802  9803  9804  9805  9806  9807  9808  9809  ...  9890   \n",
       "99  9900  9901  9902  9903  9904  9905  9906  9907  9908  9909  ...  9990   \n",
       "\n",
       "      91    92    93    94    95    96    97    98    99  \n",
       "0     91    92    93    94    95    96    97    98    99  \n",
       "1    191   192   193   194   195   196   197   198   199  \n",
       "2    291   292   293   294   295   296   297   298   299  \n",
       "3    391   392   393   394   395   396   397   398   399  \n",
       "4    491   492   493   494   495   496   497   498   499  \n",
       "..   ...   ...   ...   ...   ...   ...   ...   ...   ...  \n",
       "95  9591  9592  9593  9594  9595  9596  9597  9598  9599  \n",
       "96  9691  9692  9693  9694  9695  9696  9697  9698  9699  \n",
       "97  9791  9792  9793  9794  9795  9796  9797  9798  9799  \n",
       "98  9891  9892  9893  9894  9895  9896  9897  9898  9899  \n",
       "99  9991  9992  9993  9994  9995  9996  9997  9998  9999  \n",
       "\n",
       "[100 rows x 100 columns]"
      ]
     },
     "execution_count": 7,
     "metadata": {},
     "output_type": "execute_result"
    }
   ],
   "source": [
    "df"
   ]
  },
  {
   "cell_type": "code",
   "execution_count": 8,
   "metadata": {
    "id": "MY69H5oEevgS"
   },
   "outputs": [],
   "source": [
    "pd.set_option('display.max_rows', 1000)\n",
    "pd.set_option('display.max_columns', 1000)"
   ]
  },
  {
   "cell_type": "code",
   "execution_count": 9,
   "metadata": {},
   "outputs": [
    {
     "data": {
      "text/html": [
       "<div>\n",
       "<style scoped>\n",
       "    .dataframe tbody tr th:only-of-type {\n",
       "        vertical-align: middle;\n",
       "    }\n",
       "\n",
       "    .dataframe tbody tr th {\n",
       "        vertical-align: top;\n",
       "    }\n",
       "\n",
       "    .dataframe thead th {\n",
       "        text-align: right;\n",
       "    }\n",
       "</style>\n",
       "<table border=\"1\" class=\"dataframe\">\n",
       "  <thead>\n",
       "    <tr style=\"text-align: right;\">\n",
       "      <th></th>\n",
       "      <th>0</th>\n",
       "      <th>1</th>\n",
       "      <th>2</th>\n",
       "      <th>3</th>\n",
       "      <th>4</th>\n",
       "      <th>5</th>\n",
       "      <th>6</th>\n",
       "      <th>7</th>\n",
       "      <th>8</th>\n",
       "      <th>9</th>\n",
       "      <th>10</th>\n",
       "      <th>11</th>\n",
       "      <th>12</th>\n",
       "      <th>13</th>\n",
       "      <th>14</th>\n",
       "      <th>15</th>\n",
       "      <th>16</th>\n",
       "      <th>17</th>\n",
       "      <th>18</th>\n",
       "      <th>19</th>\n",
       "      <th>20</th>\n",
       "      <th>21</th>\n",
       "      <th>22</th>\n",
       "      <th>23</th>\n",
       "      <th>24</th>\n",
       "      <th>25</th>\n",
       "      <th>26</th>\n",
       "      <th>27</th>\n",
       "      <th>28</th>\n",
       "      <th>29</th>\n",
       "      <th>30</th>\n",
       "      <th>31</th>\n",
       "      <th>32</th>\n",
       "      <th>33</th>\n",
       "      <th>34</th>\n",
       "      <th>35</th>\n",
       "      <th>36</th>\n",
       "      <th>37</th>\n",
       "      <th>38</th>\n",
       "      <th>39</th>\n",
       "      <th>40</th>\n",
       "      <th>41</th>\n",
       "      <th>42</th>\n",
       "      <th>43</th>\n",
       "      <th>44</th>\n",
       "      <th>45</th>\n",
       "      <th>46</th>\n",
       "      <th>47</th>\n",
       "      <th>48</th>\n",
       "      <th>49</th>\n",
       "      <th>50</th>\n",
       "      <th>51</th>\n",
       "      <th>52</th>\n",
       "      <th>53</th>\n",
       "      <th>54</th>\n",
       "      <th>55</th>\n",
       "      <th>56</th>\n",
       "      <th>57</th>\n",
       "      <th>58</th>\n",
       "      <th>59</th>\n",
       "      <th>60</th>\n",
       "      <th>61</th>\n",
       "      <th>62</th>\n",
       "      <th>63</th>\n",
       "      <th>64</th>\n",
       "      <th>65</th>\n",
       "      <th>66</th>\n",
       "      <th>67</th>\n",
       "      <th>68</th>\n",
       "      <th>69</th>\n",
       "      <th>70</th>\n",
       "      <th>71</th>\n",
       "      <th>72</th>\n",
       "      <th>73</th>\n",
       "      <th>74</th>\n",
       "      <th>75</th>\n",
       "      <th>76</th>\n",
       "      <th>77</th>\n",
       "      <th>78</th>\n",
       "      <th>79</th>\n",
       "      <th>80</th>\n",
       "      <th>81</th>\n",
       "      <th>82</th>\n",
       "      <th>83</th>\n",
       "      <th>84</th>\n",
       "      <th>85</th>\n",
       "      <th>86</th>\n",
       "      <th>87</th>\n",
       "      <th>88</th>\n",
       "      <th>89</th>\n",
       "      <th>90</th>\n",
       "      <th>91</th>\n",
       "      <th>92</th>\n",
       "      <th>93</th>\n",
       "      <th>94</th>\n",
       "      <th>95</th>\n",
       "      <th>96</th>\n",
       "      <th>97</th>\n",
       "      <th>98</th>\n",
       "      <th>99</th>\n",
       "    </tr>\n",
       "  </thead>\n",
       "  <tbody>\n",
       "    <tr>\n",
       "      <th>0</th>\n",
       "      <td>0</td>\n",
       "      <td>1</td>\n",
       "      <td>2</td>\n",
       "      <td>3</td>\n",
       "      <td>4</td>\n",
       "      <td>5</td>\n",
       "      <td>6</td>\n",
       "      <td>7</td>\n",
       "      <td>8</td>\n",
       "      <td>9</td>\n",
       "      <td>10</td>\n",
       "      <td>11</td>\n",
       "      <td>12</td>\n",
       "      <td>13</td>\n",
       "      <td>14</td>\n",
       "      <td>15</td>\n",
       "      <td>16</td>\n",
       "      <td>17</td>\n",
       "      <td>18</td>\n",
       "      <td>19</td>\n",
       "      <td>20</td>\n",
       "      <td>21</td>\n",
       "      <td>22</td>\n",
       "      <td>23</td>\n",
       "      <td>24</td>\n",
       "      <td>25</td>\n",
       "      <td>26</td>\n",
       "      <td>27</td>\n",
       "      <td>28</td>\n",
       "      <td>29</td>\n",
       "      <td>30</td>\n",
       "      <td>31</td>\n",
       "      <td>32</td>\n",
       "      <td>33</td>\n",
       "      <td>34</td>\n",
       "      <td>35</td>\n",
       "      <td>36</td>\n",
       "      <td>37</td>\n",
       "      <td>38</td>\n",
       "      <td>39</td>\n",
       "      <td>40</td>\n",
       "      <td>41</td>\n",
       "      <td>42</td>\n",
       "      <td>43</td>\n",
       "      <td>44</td>\n",
       "      <td>45</td>\n",
       "      <td>46</td>\n",
       "      <td>47</td>\n",
       "      <td>48</td>\n",
       "      <td>49</td>\n",
       "      <td>50</td>\n",
       "      <td>51</td>\n",
       "      <td>52</td>\n",
       "      <td>53</td>\n",
       "      <td>54</td>\n",
       "      <td>55</td>\n",
       "      <td>56</td>\n",
       "      <td>57</td>\n",
       "      <td>58</td>\n",
       "      <td>59</td>\n",
       "      <td>60</td>\n",
       "      <td>61</td>\n",
       "      <td>62</td>\n",
       "      <td>63</td>\n",
       "      <td>64</td>\n",
       "      <td>65</td>\n",
       "      <td>66</td>\n",
       "      <td>67</td>\n",
       "      <td>68</td>\n",
       "      <td>69</td>\n",
       "      <td>70</td>\n",
       "      <td>71</td>\n",
       "      <td>72</td>\n",
       "      <td>73</td>\n",
       "      <td>74</td>\n",
       "      <td>75</td>\n",
       "      <td>76</td>\n",
       "      <td>77</td>\n",
       "      <td>78</td>\n",
       "      <td>79</td>\n",
       "      <td>80</td>\n",
       "      <td>81</td>\n",
       "      <td>82</td>\n",
       "      <td>83</td>\n",
       "      <td>84</td>\n",
       "      <td>85</td>\n",
       "      <td>86</td>\n",
       "      <td>87</td>\n",
       "      <td>88</td>\n",
       "      <td>89</td>\n",
       "      <td>90</td>\n",
       "      <td>91</td>\n",
       "      <td>92</td>\n",
       "      <td>93</td>\n",
       "      <td>94</td>\n",
       "      <td>95</td>\n",
       "      <td>96</td>\n",
       "      <td>97</td>\n",
       "      <td>98</td>\n",
       "      <td>99</td>\n",
       "    </tr>\n",
       "    <tr>\n",
       "      <th>1</th>\n",
       "      <td>100</td>\n",
       "      <td>101</td>\n",
       "      <td>102</td>\n",
       "      <td>103</td>\n",
       "      <td>104</td>\n",
       "      <td>105</td>\n",
       "      <td>106</td>\n",
       "      <td>107</td>\n",
       "      <td>108</td>\n",
       "      <td>109</td>\n",
       "      <td>110</td>\n",
       "      <td>111</td>\n",
       "      <td>112</td>\n",
       "      <td>113</td>\n",
       "      <td>114</td>\n",
       "      <td>115</td>\n",
       "      <td>116</td>\n",
       "      <td>117</td>\n",
       "      <td>118</td>\n",
       "      <td>119</td>\n",
       "      <td>120</td>\n",
       "      <td>121</td>\n",
       "      <td>122</td>\n",
       "      <td>123</td>\n",
       "      <td>124</td>\n",
       "      <td>125</td>\n",
       "      <td>126</td>\n",
       "      <td>127</td>\n",
       "      <td>128</td>\n",
       "      <td>129</td>\n",
       "      <td>130</td>\n",
       "      <td>131</td>\n",
       "      <td>132</td>\n",
       "      <td>133</td>\n",
       "      <td>134</td>\n",
       "      <td>135</td>\n",
       "      <td>136</td>\n",
       "      <td>137</td>\n",
       "      <td>138</td>\n",
       "      <td>139</td>\n",
       "      <td>140</td>\n",
       "      <td>141</td>\n",
       "      <td>142</td>\n",
       "      <td>143</td>\n",
       "      <td>144</td>\n",
       "      <td>145</td>\n",
       "      <td>146</td>\n",
       "      <td>147</td>\n",
       "      <td>148</td>\n",
       "      <td>149</td>\n",
       "      <td>150</td>\n",
       "      <td>151</td>\n",
       "      <td>152</td>\n",
       "      <td>153</td>\n",
       "      <td>154</td>\n",
       "      <td>155</td>\n",
       "      <td>156</td>\n",
       "      <td>157</td>\n",
       "      <td>158</td>\n",
       "      <td>159</td>\n",
       "      <td>160</td>\n",
       "      <td>161</td>\n",
       "      <td>162</td>\n",
       "      <td>163</td>\n",
       "      <td>164</td>\n",
       "      <td>165</td>\n",
       "      <td>166</td>\n",
       "      <td>167</td>\n",
       "      <td>168</td>\n",
       "      <td>169</td>\n",
       "      <td>170</td>\n",
       "      <td>171</td>\n",
       "      <td>172</td>\n",
       "      <td>173</td>\n",
       "      <td>174</td>\n",
       "      <td>175</td>\n",
       "      <td>176</td>\n",
       "      <td>177</td>\n",
       "      <td>178</td>\n",
       "      <td>179</td>\n",
       "      <td>180</td>\n",
       "      <td>181</td>\n",
       "      <td>182</td>\n",
       "      <td>183</td>\n",
       "      <td>184</td>\n",
       "      <td>185</td>\n",
       "      <td>186</td>\n",
       "      <td>187</td>\n",
       "      <td>188</td>\n",
       "      <td>189</td>\n",
       "      <td>190</td>\n",
       "      <td>191</td>\n",
       "      <td>192</td>\n",
       "      <td>193</td>\n",
       "      <td>194</td>\n",
       "      <td>195</td>\n",
       "      <td>196</td>\n",
       "      <td>197</td>\n",
       "      <td>198</td>\n",
       "      <td>199</td>\n",
       "    </tr>\n",
       "    <tr>\n",
       "      <th>2</th>\n",
       "      <td>200</td>\n",
       "      <td>201</td>\n",
       "      <td>202</td>\n",
       "      <td>203</td>\n",
       "      <td>204</td>\n",
       "      <td>205</td>\n",
       "      <td>206</td>\n",
       "      <td>207</td>\n",
       "      <td>208</td>\n",
       "      <td>209</td>\n",
       "      <td>210</td>\n",
       "      <td>211</td>\n",
       "      <td>212</td>\n",
       "      <td>213</td>\n",
       "      <td>214</td>\n",
       "      <td>215</td>\n",
       "      <td>216</td>\n",
       "      <td>217</td>\n",
       "      <td>218</td>\n",
       "      <td>219</td>\n",
       "      <td>220</td>\n",
       "      <td>221</td>\n",
       "      <td>222</td>\n",
       "      <td>223</td>\n",
       "      <td>224</td>\n",
       "      <td>225</td>\n",
       "      <td>226</td>\n",
       "      <td>227</td>\n",
       "      <td>228</td>\n",
       "      <td>229</td>\n",
       "      <td>230</td>\n",
       "      <td>231</td>\n",
       "      <td>232</td>\n",
       "      <td>233</td>\n",
       "      <td>234</td>\n",
       "      <td>235</td>\n",
       "      <td>236</td>\n",
       "      <td>237</td>\n",
       "      <td>238</td>\n",
       "      <td>239</td>\n",
       "      <td>240</td>\n",
       "      <td>241</td>\n",
       "      <td>242</td>\n",
       "      <td>243</td>\n",
       "      <td>244</td>\n",
       "      <td>245</td>\n",
       "      <td>246</td>\n",
       "      <td>247</td>\n",
       "      <td>248</td>\n",
       "      <td>249</td>\n",
       "      <td>250</td>\n",
       "      <td>251</td>\n",
       "      <td>252</td>\n",
       "      <td>253</td>\n",
       "      <td>254</td>\n",
       "      <td>255</td>\n",
       "      <td>256</td>\n",
       "      <td>257</td>\n",
       "      <td>258</td>\n",
       "      <td>259</td>\n",
       "      <td>260</td>\n",
       "      <td>261</td>\n",
       "      <td>262</td>\n",
       "      <td>263</td>\n",
       "      <td>264</td>\n",
       "      <td>265</td>\n",
       "      <td>266</td>\n",
       "      <td>267</td>\n",
       "      <td>268</td>\n",
       "      <td>269</td>\n",
       "      <td>270</td>\n",
       "      <td>271</td>\n",
       "      <td>272</td>\n",
       "      <td>273</td>\n",
       "      <td>274</td>\n",
       "      <td>275</td>\n",
       "      <td>276</td>\n",
       "      <td>277</td>\n",
       "      <td>278</td>\n",
       "      <td>279</td>\n",
       "      <td>280</td>\n",
       "      <td>281</td>\n",
       "      <td>282</td>\n",
       "      <td>283</td>\n",
       "      <td>284</td>\n",
       "      <td>285</td>\n",
       "      <td>286</td>\n",
       "      <td>287</td>\n",
       "      <td>288</td>\n",
       "      <td>289</td>\n",
       "      <td>290</td>\n",
       "      <td>291</td>\n",
       "      <td>292</td>\n",
       "      <td>293</td>\n",
       "      <td>294</td>\n",
       "      <td>295</td>\n",
       "      <td>296</td>\n",
       "      <td>297</td>\n",
       "      <td>298</td>\n",
       "      <td>299</td>\n",
       "    </tr>\n",
       "    <tr>\n",
       "      <th>3</th>\n",
       "      <td>300</td>\n",
       "      <td>301</td>\n",
       "      <td>302</td>\n",
       "      <td>303</td>\n",
       "      <td>304</td>\n",
       "      <td>305</td>\n",
       "      <td>306</td>\n",
       "      <td>307</td>\n",
       "      <td>308</td>\n",
       "      <td>309</td>\n",
       "      <td>310</td>\n",
       "      <td>311</td>\n",
       "      <td>312</td>\n",
       "      <td>313</td>\n",
       "      <td>314</td>\n",
       "      <td>315</td>\n",
       "      <td>316</td>\n",
       "      <td>317</td>\n",
       "      <td>318</td>\n",
       "      <td>319</td>\n",
       "      <td>320</td>\n",
       "      <td>321</td>\n",
       "      <td>322</td>\n",
       "      <td>323</td>\n",
       "      <td>324</td>\n",
       "      <td>325</td>\n",
       "      <td>326</td>\n",
       "      <td>327</td>\n",
       "      <td>328</td>\n",
       "      <td>329</td>\n",
       "      <td>330</td>\n",
       "      <td>331</td>\n",
       "      <td>332</td>\n",
       "      <td>333</td>\n",
       "      <td>334</td>\n",
       "      <td>335</td>\n",
       "      <td>336</td>\n",
       "      <td>337</td>\n",
       "      <td>338</td>\n",
       "      <td>339</td>\n",
       "      <td>340</td>\n",
       "      <td>341</td>\n",
       "      <td>342</td>\n",
       "      <td>343</td>\n",
       "      <td>344</td>\n",
       "      <td>345</td>\n",
       "      <td>346</td>\n",
       "      <td>347</td>\n",
       "      <td>348</td>\n",
       "      <td>349</td>\n",
       "      <td>350</td>\n",
       "      <td>351</td>\n",
       "      <td>352</td>\n",
       "      <td>353</td>\n",
       "      <td>354</td>\n",
       "      <td>355</td>\n",
       "      <td>356</td>\n",
       "      <td>357</td>\n",
       "      <td>358</td>\n",
       "      <td>359</td>\n",
       "      <td>360</td>\n",
       "      <td>361</td>\n",
       "      <td>362</td>\n",
       "      <td>363</td>\n",
       "      <td>364</td>\n",
       "      <td>365</td>\n",
       "      <td>366</td>\n",
       "      <td>367</td>\n",
       "      <td>368</td>\n",
       "      <td>369</td>\n",
       "      <td>370</td>\n",
       "      <td>371</td>\n",
       "      <td>372</td>\n",
       "      <td>373</td>\n",
       "      <td>374</td>\n",
       "      <td>375</td>\n",
       "      <td>376</td>\n",
       "      <td>377</td>\n",
       "      <td>378</td>\n",
       "      <td>379</td>\n",
       "      <td>380</td>\n",
       "      <td>381</td>\n",
       "      <td>382</td>\n",
       "      <td>383</td>\n",
       "      <td>384</td>\n",
       "      <td>385</td>\n",
       "      <td>386</td>\n",
       "      <td>387</td>\n",
       "      <td>388</td>\n",
       "      <td>389</td>\n",
       "      <td>390</td>\n",
       "      <td>391</td>\n",
       "      <td>392</td>\n",
       "      <td>393</td>\n",
       "      <td>394</td>\n",
       "      <td>395</td>\n",
       "      <td>396</td>\n",
       "      <td>397</td>\n",
       "      <td>398</td>\n",
       "      <td>399</td>\n",
       "    </tr>\n",
       "    <tr>\n",
       "      <th>4</th>\n",
       "      <td>400</td>\n",
       "      <td>401</td>\n",
       "      <td>402</td>\n",
       "      <td>403</td>\n",
       "      <td>404</td>\n",
       "      <td>405</td>\n",
       "      <td>406</td>\n",
       "      <td>407</td>\n",
       "      <td>408</td>\n",
       "      <td>409</td>\n",
       "      <td>410</td>\n",
       "      <td>411</td>\n",
       "      <td>412</td>\n",
       "      <td>413</td>\n",
       "      <td>414</td>\n",
       "      <td>415</td>\n",
       "      <td>416</td>\n",
       "      <td>417</td>\n",
       "      <td>418</td>\n",
       "      <td>419</td>\n",
       "      <td>420</td>\n",
       "      <td>421</td>\n",
       "      <td>422</td>\n",
       "      <td>423</td>\n",
       "      <td>424</td>\n",
       "      <td>425</td>\n",
       "      <td>426</td>\n",
       "      <td>427</td>\n",
       "      <td>428</td>\n",
       "      <td>429</td>\n",
       "      <td>430</td>\n",
       "      <td>431</td>\n",
       "      <td>432</td>\n",
       "      <td>433</td>\n",
       "      <td>434</td>\n",
       "      <td>435</td>\n",
       "      <td>436</td>\n",
       "      <td>437</td>\n",
       "      <td>438</td>\n",
       "      <td>439</td>\n",
       "      <td>440</td>\n",
       "      <td>441</td>\n",
       "      <td>442</td>\n",
       "      <td>443</td>\n",
       "      <td>444</td>\n",
       "      <td>445</td>\n",
       "      <td>446</td>\n",
       "      <td>447</td>\n",
       "      <td>448</td>\n",
       "      <td>449</td>\n",
       "      <td>450</td>\n",
       "      <td>451</td>\n",
       "      <td>452</td>\n",
       "      <td>453</td>\n",
       "      <td>454</td>\n",
       "      <td>455</td>\n",
       "      <td>456</td>\n",
       "      <td>457</td>\n",
       "      <td>458</td>\n",
       "      <td>459</td>\n",
       "      <td>460</td>\n",
       "      <td>461</td>\n",
       "      <td>462</td>\n",
       "      <td>463</td>\n",
       "      <td>464</td>\n",
       "      <td>465</td>\n",
       "      <td>466</td>\n",
       "      <td>467</td>\n",
       "      <td>468</td>\n",
       "      <td>469</td>\n",
       "      <td>470</td>\n",
       "      <td>471</td>\n",
       "      <td>472</td>\n",
       "      <td>473</td>\n",
       "      <td>474</td>\n",
       "      <td>475</td>\n",
       "      <td>476</td>\n",
       "      <td>477</td>\n",
       "      <td>478</td>\n",
       "      <td>479</td>\n",
       "      <td>480</td>\n",
       "      <td>481</td>\n",
       "      <td>482</td>\n",
       "      <td>483</td>\n",
       "      <td>484</td>\n",
       "      <td>485</td>\n",
       "      <td>486</td>\n",
       "      <td>487</td>\n",
       "      <td>488</td>\n",
       "      <td>489</td>\n",
       "      <td>490</td>\n",
       "      <td>491</td>\n",
       "      <td>492</td>\n",
       "      <td>493</td>\n",
       "      <td>494</td>\n",
       "      <td>495</td>\n",
       "      <td>496</td>\n",
       "      <td>497</td>\n",
       "      <td>498</td>\n",
       "      <td>499</td>\n",
       "    </tr>\n",
       "  </tbody>\n",
       "</table>\n",
       "</div>"
      ],
      "text/plain": [
       "    0    1    2    3    4    5    6    7    8    9    10   11   12   13   14  \\\n",
       "0    0    1    2    3    4    5    6    7    8    9   10   11   12   13   14   \n",
       "1  100  101  102  103  104  105  106  107  108  109  110  111  112  113  114   \n",
       "2  200  201  202  203  204  205  206  207  208  209  210  211  212  213  214   \n",
       "3  300  301  302  303  304  305  306  307  308  309  310  311  312  313  314   \n",
       "4  400  401  402  403  404  405  406  407  408  409  410  411  412  413  414   \n",
       "\n",
       "    15   16   17   18   19   20   21   22   23   24   25   26   27   28   29  \\\n",
       "0   15   16   17   18   19   20   21   22   23   24   25   26   27   28   29   \n",
       "1  115  116  117  118  119  120  121  122  123  124  125  126  127  128  129   \n",
       "2  215  216  217  218  219  220  221  222  223  224  225  226  227  228  229   \n",
       "3  315  316  317  318  319  320  321  322  323  324  325  326  327  328  329   \n",
       "4  415  416  417  418  419  420  421  422  423  424  425  426  427  428  429   \n",
       "\n",
       "    30   31   32   33   34   35   36   37   38   39   40   41   42   43   44  \\\n",
       "0   30   31   32   33   34   35   36   37   38   39   40   41   42   43   44   \n",
       "1  130  131  132  133  134  135  136  137  138  139  140  141  142  143  144   \n",
       "2  230  231  232  233  234  235  236  237  238  239  240  241  242  243  244   \n",
       "3  330  331  332  333  334  335  336  337  338  339  340  341  342  343  344   \n",
       "4  430  431  432  433  434  435  436  437  438  439  440  441  442  443  444   \n",
       "\n",
       "    45   46   47   48   49   50   51   52   53   54   55   56   57   58   59  \\\n",
       "0   45   46   47   48   49   50   51   52   53   54   55   56   57   58   59   \n",
       "1  145  146  147  148  149  150  151  152  153  154  155  156  157  158  159   \n",
       "2  245  246  247  248  249  250  251  252  253  254  255  256  257  258  259   \n",
       "3  345  346  347  348  349  350  351  352  353  354  355  356  357  358  359   \n",
       "4  445  446  447  448  449  450  451  452  453  454  455  456  457  458  459   \n",
       "\n",
       "    60   61   62   63   64   65   66   67   68   69   70   71   72   73   74  \\\n",
       "0   60   61   62   63   64   65   66   67   68   69   70   71   72   73   74   \n",
       "1  160  161  162  163  164  165  166  167  168  169  170  171  172  173  174   \n",
       "2  260  261  262  263  264  265  266  267  268  269  270  271  272  273  274   \n",
       "3  360  361  362  363  364  365  366  367  368  369  370  371  372  373  374   \n",
       "4  460  461  462  463  464  465  466  467  468  469  470  471  472  473  474   \n",
       "\n",
       "    75   76   77   78   79   80   81   82   83   84   85   86   87   88   89  \\\n",
       "0   75   76   77   78   79   80   81   82   83   84   85   86   87   88   89   \n",
       "1  175  176  177  178  179  180  181  182  183  184  185  186  187  188  189   \n",
       "2  275  276  277  278  279  280  281  282  283  284  285  286  287  288  289   \n",
       "3  375  376  377  378  379  380  381  382  383  384  385  386  387  388  389   \n",
       "4  475  476  477  478  479  480  481  482  483  484  485  486  487  488  489   \n",
       "\n",
       "    90   91   92   93   94   95   96   97   98   99  \n",
       "0   90   91   92   93   94   95   96   97   98   99  \n",
       "1  190  191  192  193  194  195  196  197  198  199  \n",
       "2  290  291  292  293  294  295  296  297  298  299  \n",
       "3  390  391  392  393  394  395  396  397  398  399  \n",
       "4  490  491  492  493  494  495  496  497  498  499  "
      ]
     },
     "execution_count": 9,
     "metadata": {},
     "output_type": "execute_result"
    }
   ],
   "source": [
    "df.head()"
   ]
  },
  {
   "cell_type": "code",
   "execution_count": 10,
   "metadata": {
    "id": "I2UKn2kWevgT"
   },
   "outputs": [],
   "source": [
    "pd.reset_option('display.max_rows')"
   ]
  },
  {
   "cell_type": "markdown",
   "metadata": {
    "id": "43QYxdBWevgT"
   },
   "source": [
    "## Carregando os dados"
   ]
  },
  {
   "cell_type": "markdown",
   "metadata": {
    "id": "votr38ZYevgT"
   },
   "source": [
    "### Arquivos JSON - `read_json`\n",
    "\n",
    "[Documentação](https://pandas.pydata.org/pandas-docs/stable/reference/api/pandas.read_json.html)\n",
    "\n",
    "## JSON\n",
    "\n",
    "JSON (**J**ava**S**cript **O**bject **N**otation - Notação de Objetos JavaScript) é uma formatação leve de troca de dados. Para seres humanos, é fácil de ler e escrever. Para máquinas, é fácil de interpretar e gerar. Está baseado em um subconjunto da linguagem de programação JavaScript, Standard ECMA-262 3a Edição - Dezembro - 1999. JSON é em formato texto e completamente independente de linguagem, pois usa convenções que são familiares às linguagens C e familiares, incluindo C++, C#, Java, JavaScript, Perl, Python e muitas outras. Estas propriedades fazem com que JSON seja um formato ideal de troca de dados.\n",
    "\n",
    "[fonte](https://www.json.org/json-pt.html)\n",
    "\n",
    "[Online JSON Viewer](http://jsonviewer.stack.hu/)"
   ]
  },
  {
   "cell_type": "code",
   "execution_count": 11,
   "metadata": {
    "id": "mqhtwsPSevgU"
   },
   "outputs": [
    {
     "data": {
      "text/plain": [
       "'{\"A\": [1, 2, 3, 4] ,\"B\": [5, 6, 7, 8], \"C\": [9, 10, 11, 12]}'"
      ]
     },
     "execution_count": 11,
     "metadata": {},
     "output_type": "execute_result"
    }
   ],
   "source": [
    "data_json = '{\"A\": [1, 2, 3, 4] ,\"B\": [5, 6, 7, 8], \"C\": [9, 10, 11, 12]}' \n",
    "data_json"
   ]
  },
  {
   "cell_type": "code",
   "execution_count": 12,
   "metadata": {
    "id": "9QbVDt0LevgU"
   },
   "outputs": [
    {
     "data": {
      "text/html": [
       "<div>\n",
       "<style scoped>\n",
       "    .dataframe tbody tr th:only-of-type {\n",
       "        vertical-align: middle;\n",
       "    }\n",
       "\n",
       "    .dataframe tbody tr th {\n",
       "        vertical-align: top;\n",
       "    }\n",
       "\n",
       "    .dataframe thead th {\n",
       "        text-align: right;\n",
       "    }\n",
       "</style>\n",
       "<table border=\"1\" class=\"dataframe\">\n",
       "  <thead>\n",
       "    <tr style=\"text-align: right;\">\n",
       "      <th></th>\n",
       "      <th>A</th>\n",
       "      <th>B</th>\n",
       "      <th>C</th>\n",
       "    </tr>\n",
       "  </thead>\n",
       "  <tbody>\n",
       "    <tr>\n",
       "      <th>0</th>\n",
       "      <td>1</td>\n",
       "      <td>5</td>\n",
       "      <td>9</td>\n",
       "    </tr>\n",
       "    <tr>\n",
       "      <th>1</th>\n",
       "      <td>2</td>\n",
       "      <td>6</td>\n",
       "      <td>10</td>\n",
       "    </tr>\n",
       "    <tr>\n",
       "      <th>2</th>\n",
       "      <td>3</td>\n",
       "      <td>7</td>\n",
       "      <td>11</td>\n",
       "    </tr>\n",
       "    <tr>\n",
       "      <th>3</th>\n",
       "      <td>4</td>\n",
       "      <td>8</td>\n",
       "      <td>12</td>\n",
       "    </tr>\n",
       "  </tbody>\n",
       "</table>\n",
       "</div>"
      ],
      "text/plain": [
       "   A  B   C\n",
       "0  1  5   9\n",
       "1  2  6  10\n",
       "2  3  7  11\n",
       "3  4  8  12"
      ]
     },
     "execution_count": 12,
     "metadata": {},
     "output_type": "execute_result"
    }
   ],
   "source": [
    "data = pd.read_json(\n",
    "    path_or_buf = data_json, \n",
    "    orient='columns',\n",
    ")\n",
    "data"
   ]
  },
  {
   "cell_type": "code",
   "execution_count": 13,
   "metadata": {
    "id": "FU7LgMbAevgU"
   },
   "outputs": [
    {
     "name": "stdout",
     "output_type": "stream",
     "text": [
      " Volume in drive C is BOOTCAMP\n",
      " Volume Serial Number is B076-BC51\n",
      "\n",
      " Directory of c:\\Users\\joaob\\OneDrive\\Documents\\GitHub\\Alura\\Pandas Avanced\n",
      "\n",
      "09/12/2021  14:17    <DIR>          .\n",
      "09/12/2021  14:17    <DIR>          ..\n",
      "19/11/2020  06:14            60.441 bairros.xlsx\n",
      "24/02/2021  15:30               145 desktop.ini\n",
      "10/12/2021  07:26           209.818 Projeto.ipynb\n",
      "03/03/2021  02:22            79.457 realestates.json\n",
      "               4 File(s)        349.861 bytes\n",
      "               2 Dir(s)  112.387.407.872 bytes free\n"
     ]
    }
   ],
   "source": [
    "!dir"
   ]
  },
  {
   "cell_type": "code",
   "execution_count": 14,
   "metadata": {},
   "outputs": [
    {
     "data": {
      "text/html": [
       "<div>\n",
       "<style scoped>\n",
       "    .dataframe tbody tr th:only-of-type {\n",
       "        vertical-align: middle;\n",
       "    }\n",
       "\n",
       "    .dataframe tbody tr th {\n",
       "        vertical-align: top;\n",
       "    }\n",
       "\n",
       "    .dataframe thead th {\n",
       "        text-align: right;\n",
       "    }\n",
       "</style>\n",
       "<table border=\"1\" class=\"dataframe\">\n",
       "  <thead>\n",
       "    <tr style=\"text-align: right;\">\n",
       "      <th></th>\n",
       "      <th>normal</th>\n",
       "      <th>highlights</th>\n",
       "    </tr>\n",
       "  </thead>\n",
       "  <tbody>\n",
       "    <tr>\n",
       "      <th>output</th>\n",
       "      <td>{'listings': [{'imovel': {'tipos': {'proprieda...</td>\n",
       "      <td>{'listings': [{'imovel': {'tipos': {'proprieda...</td>\n",
       "    </tr>\n",
       "  </tbody>\n",
       "</table>\n",
       "</div>"
      ],
      "text/plain": [
       "                                                   normal  \\\n",
       "output  {'listings': [{'imovel': {'tipos': {'proprieda...   \n",
       "\n",
       "                                               highlights  \n",
       "output  {'listings': [{'imovel': {'tipos': {'proprieda...  "
      ]
     },
     "execution_count": 14,
     "metadata": {},
     "output_type": "execute_result"
    }
   ],
   "source": [
    "data = pd.read_json(\n",
    "    path_or_buf = 'realestates.json', \n",
    "    orient = 'columns',\n",
    ")\n",
    "data"
   ]
  },
  {
   "cell_type": "markdown",
   "metadata": {
    "id": "Q0coCxxrevgU"
   },
   "source": [
    "### Arquivos EXCEL - `read_excel`\n",
    "\n",
    "[Documentação](https://pandas.pydata.org/pandas-docs/stable/reference/api/pandas.read_excel.html)"
   ]
  },
  {
   "cell_type": "code",
   "execution_count": 15,
   "metadata": {
    "id": "xoSV41cTevgV",
    "scrolled": true
   },
   "outputs": [
    {
     "data": {
      "text/html": [
       "<div>\n",
       "<style scoped>\n",
       "    .dataframe tbody tr th:only-of-type {\n",
       "        vertical-align: middle;\n",
       "    }\n",
       "\n",
       "    .dataframe tbody tr th {\n",
       "        vertical-align: top;\n",
       "    }\n",
       "\n",
       "    .dataframe thead th {\n",
       "        text-align: right;\n",
       "    }\n",
       "</style>\n",
       "<table border=\"1\" class=\"dataframe\">\n",
       "  <thead>\n",
       "    <tr style=\"text-align: right;\">\n",
       "      <th></th>\n",
       "      <th></th>\n",
       "      <th>Sqm_value</th>\n",
       "    </tr>\n",
       "    <tr>\n",
       "      <th>Neighborhood</th>\n",
       "      <th>Type</th>\n",
       "      <th></th>\n",
       "    </tr>\n",
       "  </thead>\n",
       "  <tbody>\n",
       "    <tr>\n",
       "      <th rowspan=\"5\" valign=\"top\">São Cristóvão</th>\n",
       "      <th>Casa</th>\n",
       "      <td>13793</td>\n",
       "    </tr>\n",
       "    <tr>\n",
       "      <th>Apartamento</th>\n",
       "      <td>6306</td>\n",
       "    </tr>\n",
       "    <tr>\n",
       "      <th>Cobertura</th>\n",
       "      <td>11695</td>\n",
       "    </tr>\n",
       "    <tr>\n",
       "      <th>Consultório</th>\n",
       "      <td>6991</td>\n",
       "    </tr>\n",
       "    <tr>\n",
       "      <th>Imóvel Comercial</th>\n",
       "      <td>19633</td>\n",
       "    </tr>\n",
       "  </tbody>\n",
       "</table>\n",
       "</div>"
      ],
      "text/plain": [
       "                                Sqm_value\n",
       "Neighborhood  Type                       \n",
       "São Cristóvão Casa                  13793\n",
       "              Apartamento            6306\n",
       "              Cobertura             11695\n",
       "              Consultório            6991\n",
       "              Imóvel Comercial      19633"
      ]
     },
     "execution_count": 15,
     "metadata": {},
     "output_type": "execute_result"
    }
   ],
   "source": [
    "neighborhood = pd.read_excel(\n",
    "    io = 'bairros.xlsx', \n",
    "    sheet_name = 'Preço médio por tipo', \n",
    "    usecols = 'C:E', \n",
    "    header = 2, \n",
    "    index_col = [0, 1], \n",
    "    names = ['Neighborhood', 'Type', 'Sqm_value']\n",
    ")\n",
    "\n",
    "neighborhood.head()"
   ]
  },
  {
   "cell_type": "markdown",
   "metadata": {
    "id": "A05bkoTPevgV"
   },
   "source": [
    "# TRANSFORMANDO E TRATANDO OS DADOS\n",
    "---"
   ]
  },
  {
   "cell_type": "markdown",
   "metadata": {
    "id": "Wy7HvxaZevgV"
   },
   "source": [
    "## Transformando dados no formato JSON para uma tabela"
   ]
  },
  {
   "cell_type": "code",
   "execution_count": 16,
   "metadata": {
    "id": "g0533aVtevgV"
   },
   "outputs": [
    {
     "data": {
      "text/html": [
       "<div>\n",
       "<style scoped>\n",
       "    .dataframe tbody tr th:only-of-type {\n",
       "        vertical-align: middle;\n",
       "    }\n",
       "\n",
       "    .dataframe tbody tr th {\n",
       "        vertical-align: top;\n",
       "    }\n",
       "\n",
       "    .dataframe thead th {\n",
       "        text-align: right;\n",
       "    }\n",
       "</style>\n",
       "<table border=\"1\" class=\"dataframe\">\n",
       "  <thead>\n",
       "    <tr style=\"text-align: right;\">\n",
       "      <th></th>\n",
       "      <th>normal</th>\n",
       "      <th>highlights</th>\n",
       "    </tr>\n",
       "  </thead>\n",
       "  <tbody>\n",
       "    <tr>\n",
       "      <th>output</th>\n",
       "      <td>{'listings': [{'imovel': {'tipos': {'proprieda...</td>\n",
       "      <td>{'listings': [{'imovel': {'tipos': {'proprieda...</td>\n",
       "    </tr>\n",
       "  </tbody>\n",
       "</table>\n",
       "</div>"
      ],
      "text/plain": [
       "                                                   normal  \\\n",
       "output  {'listings': [{'imovel': {'tipos': {'proprieda...   \n",
       "\n",
       "                                               highlights  \n",
       "output  {'listings': [{'imovel': {'tipos': {'proprieda...  "
      ]
     },
     "execution_count": 16,
     "metadata": {},
     "output_type": "execute_result"
    }
   ],
   "source": [
    "data.head()"
   ]
  },
  {
   "cell_type": "markdown",
   "metadata": {
    "id": "bLn7laG1evgV"
   },
   "source": [
    "### `json_normalize`\n",
    "\n",
    "[Documentação](https://pandas.pydata.org/pandas-docs/stable/reference/api/pandas.json_normalize.html)"
   ]
  },
  {
   "cell_type": "code",
   "execution_count": 17,
   "metadata": {
    "id": "NqBTVXNKevgW"
   },
   "outputs": [
    {
     "data": {
      "text/html": [
       "<div>\n",
       "<style scoped>\n",
       "    .dataframe tbody tr th:only-of-type {\n",
       "        vertical-align: middle;\n",
       "    }\n",
       "\n",
       "    .dataframe tbody tr th {\n",
       "        vertical-align: top;\n",
       "    }\n",
       "\n",
       "    .dataframe thead th {\n",
       "        text-align: right;\n",
       "    }\n",
       "</style>\n",
       "<table border=\"1\" class=\"dataframe\">\n",
       "  <thead>\n",
       "    <tr style=\"text-align: right;\">\n",
       "      <th></th>\n",
       "      <th>listings</th>\n",
       "    </tr>\n",
       "  </thead>\n",
       "  <tbody>\n",
       "    <tr>\n",
       "      <th>0</th>\n",
       "      <td>[{'imovel': {'tipos': {'propriedade': 'Casa'},...</td>\n",
       "    </tr>\n",
       "  </tbody>\n",
       "</table>\n",
       "</div>"
      ],
      "text/plain": [
       "                                            listings\n",
       "0  [{'imovel': {'tipos': {'propriedade': 'Casa'},..."
      ]
     },
     "execution_count": 17,
     "metadata": {},
     "output_type": "execute_result"
    }
   ],
   "source": [
    "data_normal = pd.json_normalize(data = data.normal)\n",
    "data_normal"
   ]
  },
  {
   "cell_type": "code",
   "execution_count": 18,
   "metadata": {
    "id": "Tq_44heHevgW"
   },
   "outputs": [
    {
     "data": {
      "text/plain": [
       "[{'imovel': {'tipos': {'propriedade': 'Casa'},\n",
       "   'endereco': {'bairro': 'Barra da Tijuca',\n",
       "    'localizacao': {'type': 'Point',\n",
       "     'coordinates': [-43.3039086, -23.0139692]}},\n",
       "   'vagasGaragem': 4,\n",
       "   'area': 279,\n",
       "   'caracteristicas': {'propriedade': \"['Área de Serviço', 'Terraço', 'Churrasqueira', 'Quarto/WC Empregada', 'Sauna', 'Varanda', 'Gás Encanado', 'Closet', 'Piscina', 'Mobiliado', 'Armários Planejados', 'Acessibilidade']\",\n",
       "    'condominio': \"['Churrasqueira', 'Salão de Jogos', 'Sauna', 'Estacionamento Visitantes', 'Playground', 'Salão de Festas', 'Porteiro 24 Horas', 'Estacionamento Coberto', 'Aceita Pet', 'Sistema de Incêndio', 'Segurança Interna', 'Bicicletário', 'Acessibilidade']\",\n",
       "    'entorno': \"['Próximo a Escola Particular', 'Próximo ao Metrô', 'Próximo a Serviços de Saúde', 'Próximo a Centro Empresarial', 'Próximo a Restaurante', 'Próximo a Academia', 'Próximo a Praia', 'Próximo a Escola Pública', 'Próximo a Farmácia', 'Próximo a Parques e Áreas Verdes', 'Próximo ao Shopping', 'Próximo a Áreas de Lazer', 'Próximo a Mercado', 'Próximo a Comércio Diversos']\"}},\n",
       "  'anuncio': {'tipos': {'publicacao': 'Padrão', 'listagem': 'Lançamento'},\n",
       "   'valores': {'venda': 2400000.0,\n",
       "    'aluguel': 0.0,\n",
       "    'condominio': 790.0,\n",
       "    'iptu': 5700.0},\n",
       "   'descricao': 'Amplo imóvel para venda com 3 quartos, sendo 1 suítes, e 2 banheiros no total.'}},\n",
       " {'imovel': {'tipos': {'propriedade': 'Apartamento'},\n",
       "   'endereco': {'bairro': 'Campo Grande',\n",
       "    'localizacao': {'type': 'Point', 'coordinates': [0, 0]}},\n",
       "   'vagasGaragem': 1,\n",
       "   'area': 60,\n",
       "   'caracteristicas': {'propriedade': \"['Sauna']\",\n",
       "    'condominio': \"['Elevador', 'Playground', 'Salão de Festas', 'Sistema de Incêndio', 'Salão de Jogos', 'Depósito Privativo', 'Porteiro 24 Horas', 'Academia', 'Churrasqueira', 'Quadra Poliesportiva']\",\n",
       "    'entorno': \"['Próximo ao Shopping', 'Próximo a Áreas de Lazer', 'Próximo a Restaurante', 'Próximo a Farmácia', 'Próximo a Academia', 'Próximo a Mercado', 'Próximo a Comércio Diversos', 'Próximo a Centro Empresarial']\"}},\n",
       "  'anuncio': {'tipos': {'publicacao': 'Padrão', 'listagem': 'Usado'},\n",
       "   'valores': {'venda': 200000.0,\n",
       "    'aluguel': 0.0,\n",
       "    'condominio': 0.0,\n",
       "    'iptu': 0.0},\n",
       "   'descricao': 'Amplo imóvel para venda com 2 quartos, sendo 0 suítes, e 1 banheiros no total.'}},\n",
       " {'imovel': {'tipos': {'propriedade': 'Cobertura'},\n",
       "   'endereco': {'bairro': 'Barra da Tijuca',\n",
       "    'localizacao': {'type': 'Point',\n",
       "     'coordinates': [-43.3037186, -22.9951304]}},\n",
       "   'vagasGaragem': 2,\n",
       "   'area': 380,\n",
       "   'caracteristicas': {'propriedade': \"['Acessibilidade', 'Área de Serviço', 'Sauna', 'Ambientes Integrados', 'Gás Encanado', 'Vista Panorâmica', 'Varanda', 'Closet', 'Quarto/WC Empregada', 'Churrasqueira', 'Piscina']\",\n",
       "    'condominio': \"['Sauna', 'Playground', 'Quadra Poliesportiva', 'Salão de Festas', 'Serviço de Transporte no Condomínio', 'Sistema de Incêndio', 'Salão de Jogos', 'Piscina', 'Aceita Pet']\",\n",
       "    'entorno': \"['Próximo a Escola Particular']\"}},\n",
       "  'anuncio': {'tipos': {'publicacao': 'Premium', 'listagem': 'Usado'},\n",
       "   'valores': {'venda': 4400000.0,\n",
       "    'aluguel': 0.0,\n",
       "    'condominio': 1200.0,\n",
       "    'iptu': 850.0},\n",
       "   'descricao': 'Amplo imóvel para venda com 5 quartos, sendo 4 suítes, e 5 banheiros no total.'}},\n",
       " {'imovel': {'tipos': {'propriedade': 'Cobertura'},\n",
       "   'endereco': {'bairro': 'Barra da Tijuca',\n",
       "    'localizacao': {'type': 'Point',\n",
       "     'coordinates': [-43.3548121, -23.0097423]}},\n",
       "   'vagasGaragem': 1,\n",
       "   'area': 73,\n",
       "   'caracteristicas': {'propriedade': \"['Vista Panorâmica', 'Piscina', 'Sauna', 'Closet', 'Mobiliado', 'Armários Planejados', 'Área de Serviço', 'Churrasqueira', 'Varanda']\",\n",
       "    'condominio': \"['Quadra Poliesportiva', 'Aceita Pet', 'Playground', 'Academia', 'Sauna', 'Depósito Privativo', 'Bicicletário', 'Salão de Jogos', 'Estacionamento Visitantes', 'Segurança Interna', 'Comércio/Serviços no Condomínio', 'Churrasqueira', 'Porteiro 24 Horas']\",\n",
       "    'entorno': \"['Próximo a Farmácia', 'Próximo a Academia', 'Próximo a Restaurante', 'Próximo ao Shopping', 'Próximo a Áreas de Lazer', 'Próximo a Escola Pública']\"}},\n",
       "  'anuncio': {'tipos': {'publicacao': 'Padrão', 'listagem': 'Usado'},\n",
       "   'valores': {'venda': 1100000.0,\n",
       "    'aluguel': 0.0,\n",
       "    'condominio': 1300.0,\n",
       "    'iptu': 364.0},\n",
       "   'descricao': 'Amplo imóvel para venda com 2 quartos, sendo 1 suítes, e 2 banheiros no total.'}},\n",
       " {'imovel': {'tipos': {'propriedade': 'Sala Comercial'},\n",
       "   'endereco': {'bairro': 'Glória',\n",
       "    'localizacao': {'type': 'Point',\n",
       "     'coordinates': [-43.1779703, -22.9174894]}},\n",
       "   'vagasGaragem': 1,\n",
       "   'area': 32,\n",
       "   'caracteristicas': {'propriedade': \"['Armários Planejados']\",\n",
       "    'condominio': \"['Quadra Poliesportiva', 'Porteiro 24 Horas', 'Elevador', 'Comércio/Serviços no Condomínio', 'Serviço de Transporte no Condomínio', 'Depósito Privativo', 'Bicicletário']\",\n",
       "    'entorno': \"['Próximo a Centro Empresarial', 'Próximo a Áreas de Lazer', 'Próximo a Escola Particular', 'Próximo a Escola Pública', 'Próximo a Comércio Diversos', 'Próximo a Farmácia', 'Próximo a Restaurante']\"}},\n",
       "  'anuncio': {'tipos': {'publicacao': 'Padrão', 'listagem': 'Usado'},\n",
       "   'valores': {'venda': 260000.0,\n",
       "    'aluguel': 0.0,\n",
       "    'condominio': 450.0,\n",
       "    'iptu': 800.0},\n",
       "   'descricao': 'Amplo imóvel para venda com 0 quartos, sendo 0 suítes, e 1 banheiros no total.'}},\n",
       " {'imovel': {'tipos': {'propriedade': 'Casa'},\n",
       "   'endereco': {'bairro': 'Vila Isabel',\n",
       "    'localizacao': {'type': 'Point', 'coordinates': [0, 0]}},\n",
       "   'vagasGaragem': 2,\n",
       "   'area': 164,\n",
       "   'caracteristicas': {'propriedade': \"['Mobiliado', 'Varanda', 'Closet', 'Churrasqueira', 'Ambientes Integrados', 'Acessibilidade']\",\n",
       "    'condominio': \"['Aceita Pet', 'Quadra Poliesportiva', 'Playground', 'Piscina', 'Sauna', 'Segurança Interna', 'Serviço de Transporte no Condomínio', 'Salão de Festas', 'Churrasqueira', 'Estacionamento Coberto', 'Estacionamento Visitantes', 'Sistema de Incêndio', 'Academia', 'Porteiro 24 Horas', 'Bicicletário', 'Depósito Privativo', 'Salão de Jogos']\",\n",
       "    'entorno': \"['Próximo a Centro Empresarial', 'Próximo a Escola Particular', 'Próximo a Praia', 'Próximo a Mercado', 'Próximo ao Shopping', 'Próximo a Áreas de Lazer', 'Próximo a Farmácia']\"}},\n",
       "  'anuncio': {'tipos': {'publicacao': 'Padrão', 'listagem': 'Lançamento'},\n",
       "   'valores': {'venda': 280000.0,\n",
       "    'aluguel': 0.0,\n",
       "    'condominio': 583.0,\n",
       "    'iptu': 188.0},\n",
       "   'descricao': 'Amplo imóvel para venda com 1 quartos, sendo 0 suítes, e 0 banheiros no total.'}},\n",
       " {'imovel': {'tipos': {'propriedade': 'Casa'},\n",
       "   'endereco': {'bairro': 'Andaraí',\n",
       "    'localizacao': {'type': 'Point',\n",
       "     'coordinates': [-43.252201188, -22.9282608539]}},\n",
       "   'vagasGaragem': 1,\n",
       "   'area': 68,\n",
       "   'caracteristicas': {'propriedade': \"['Churrasqueira', 'Gás Encanado', 'Cozinha Americana', 'Área de Serviço', 'Quarto/WC Empregada', 'Mobiliado', 'Acessibilidade', 'Vista Panorâmica', 'Closet', 'Piscina', 'Ambientes Integrados', 'Terraço']\",\n",
       "    'condominio': \"['Sauna', 'Sistema de Incêndio', 'Estacionamento Visitantes', 'Playground', 'Comércio/Serviços no Condomínio', 'Quadra Poliesportiva', 'Bicicletário', 'Estacionamento Coberto', 'Academia', 'Segurança Interna', 'Depósito Privativo']\",\n",
       "    'entorno': \"['Próximo ao Metrô', 'Próximo ao Shopping', 'Próximo a Restaurante', 'Próximo a Serviços de Saúde', 'Próximo a Escola Particular', 'Próximo a Comércio Diversos', 'Próximo a Praia', 'Próximo a Farmácia', 'Próximo a Mercado', 'Próximo a Parques e Áreas Verdes', 'Próximo a Academia', 'Próximo a Escola Pública']\"}},\n",
       "  'anuncio': {'tipos': {'publicacao': 'Destaque', 'listagem': 'Usado'},\n",
       "   'valores': {'venda': 300000.0,\n",
       "    'aluguel': 0.0,\n",
       "    'condominio': 350.0,\n",
       "    'iptu': 0.0},\n",
       "   'descricao': 'Amplo imóvel para venda com 2 quartos, sendo 0 suítes, e 1 banheiros no total.'}},\n",
       " {'imovel': {'tipos': {'propriedade': 'Apartamento'},\n",
       "   'endereco': {'bairro': 'Copacabana',\n",
       "    'localizacao': {'type': 'Point',\n",
       "     'coordinates': [-43.1749613, -22.964604]}},\n",
       "   'vagasGaragem': 1,\n",
       "   'area': 110,\n",
       "   'caracteristicas': {'propriedade': \"['Quarto/WC Empregada', 'Gás Encanado', 'Sauna', 'Varanda', 'Vista Panorâmica', 'Closet', 'Acessibilidade', 'Terraço', 'Piscina', 'Ambientes Integrados', 'Cozinha Americana', 'Área de Serviço']\",\n",
       "    'condominio': \"['Piscina', 'Comércio/Serviços no Condomínio', 'Segurança Interna', 'Sauna', 'Porteiro 24 Horas', 'Acessibilidade', 'Salão de Jogos', 'Playground', 'Salão de Festas']\",\n",
       "    'entorno': \"['Próximo a Escola Particular', 'Próximo a Comércio Diversos', 'Próximo a Áreas de Lazer', 'Próximo a Praia', 'Próximo a Mercado', 'Próximo a Escola Pública', 'Próximo a Restaurante', 'Próximo a Parques e Áreas Verdes', 'Próximo ao Shopping', 'Próximo a Farmácia']\"}},\n",
       "  'anuncio': {'tipos': {'publicacao': 'Premium', 'listagem': 'Usado'},\n",
       "   'valores': {'venda': 950000.0,\n",
       "    'aluguel': 0.0,\n",
       "    'condominio': 800.0,\n",
       "    'iptu': 120.0},\n",
       "   'descricao': 'Amplo imóvel para venda com 3 quartos, sendo 1 suítes, e 2 banheiros no total.'}},\n",
       " {'imovel': {'tipos': {'propriedade': 'Consultório'},\n",
       "   'endereco': {'bairro': 'Recreio dos Bandeirantes',\n",
       "    'localizacao': {'type': 'Point',\n",
       "     'coordinates': [-43.453754, -23.0102127]}},\n",
       "   'vagasGaragem': 4,\n",
       "   'area': 214,\n",
       "   'caracteristicas': {'propriedade': \"['Acessibilidade', 'Mobiliado', 'Churrasqueira', 'Piscina', 'Armários Planejados', 'Quarto/WC Empregada', 'Ambientes Integrados', 'Sauna', 'Área de Serviço', 'Cozinha Americana', 'Terraço', 'Gás Encanado', 'Varanda']\",\n",
       "    'condominio': \"['Aceita Pet', 'Salão de Festas', 'Sauna', 'Depósito Privativo', 'Estacionamento Coberto', 'Sistema de Incêndio', 'Academia', 'Piscina', 'Estacionamento Visitantes', 'Acessibilidade']\",\n",
       "    'entorno': \"['Próximo a Mercado', 'Próximo a Farmácia']\"}},\n",
       "  'anuncio': {'tipos': {'publicacao': 'Super Destaque', 'listagem': 'Usado'},\n",
       "   'valores': {'venda': 1390000.0,\n",
       "    'aluguel': 0.0,\n",
       "    'condominio': 750.0,\n",
       "    'iptu': 3282.0},\n",
       "   'descricao': 'Amplo imóvel para venda com 4 quartos, sendo 1 suítes, e 2 banheiros no total.'}},\n",
       " {'imovel': {'tipos': {'propriedade': 'Casa'},\n",
       "   'endereco': {'bairro': 'Recreio dos Bandeirantes',\n",
       "    'localizacao': {'type': 'Point',\n",
       "     'coordinates': [-43.5129166, -23.0241139]}},\n",
       "   'vagasGaragem': 1,\n",
       "   'area': 82,\n",
       "   'caracteristicas': {'propriedade': \"['Área de Serviço', 'Terraço', 'Ambientes Integrados', 'Cozinha Americana', 'Gás Encanado', 'Acessibilidade', 'Closet', 'Varanda']\",\n",
       "    'condominio': \"['Piscina', 'Salão de Festas', 'Estacionamento Visitantes', 'Salão de Jogos', 'Academia', 'Sistema de Incêndio', 'Porteiro 24 Horas', 'Segurança Interna', 'Churrasqueira', 'Bicicletário', 'Serviço de Transporte no Condomínio', 'Elevador', 'Estacionamento Coberto', 'Depósito Privativo', 'Quadra Poliesportiva', 'Acessibilidade']\",\n",
       "    'entorno': \"['Próximo ao Metrô', 'Próximo a Comércio Diversos', 'Próximo a Áreas de Lazer']\"}},\n",
       "  'anuncio': {'tipos': {'publicacao': 'Padrão', 'listagem': 'Usado'},\n",
       "   'valores': {'venda': 439000.0,\n",
       "    'aluguel': 0.0,\n",
       "    'condominio': 620.0,\n",
       "    'iptu': 1.0},\n",
       "   'descricao': 'Amplo imóvel para venda com 3 quartos, sendo 1 suítes, e 2 banheiros no total.'}},\n",
       " {'imovel': {'tipos': {'propriedade': 'Casa'},\n",
       "   'endereco': {'bairro': 'Tijuca',\n",
       "    'localizacao': {'type': 'Point', 'coordinates': [-43.2369414, -22.93291]}},\n",
       "   'vagasGaragem': 2,\n",
       "   'area': 230,\n",
       "   'caracteristicas': {'propriedade': \"['Closet', 'Ambientes Integrados', 'Área de Serviço', 'Terraço']\",\n",
       "    'condominio': \"['Segurança Interna', 'Piscina', 'Salão de Jogos']\",\n",
       "    'entorno': \"['Próximo a Centro Empresarial', 'Próximo a Escola Particular', 'Próximo a Parques e Áreas Verdes', 'Próximo a Escola Pública', 'Próximo a Mercado', 'Próximo a Restaurante', 'Próximo a Academia', 'Próximo a Serviços de Saúde', 'Próximo a Áreas de Lazer', 'Próximo a Farmácia']\"}},\n",
       "  'anuncio': {'tipos': {'publicacao': 'Destaque', 'listagem': 'Lançamento'},\n",
       "   'valores': {'venda': 960000.0,\n",
       "    'aluguel': 0.0,\n",
       "    'condominio': 680.0,\n",
       "    'iptu': 900.0},\n",
       "   'descricao': 'Amplo imóvel para venda com 3 quartos, sendo 0 suítes, e 0 banheiros no total.'}},\n",
       " {'imovel': {'tipos': {'propriedade': 'Apartamento'},\n",
       "   'endereco': {'bairro': 'Copacabana',\n",
       "    'localizacao': {'type': 'Point',\n",
       "     'coordinates': [-49.0607072, -26.9225117]}},\n",
       "   'vagasGaragem': 1,\n",
       "   'area': 135,\n",
       "   'caracteristicas': {'propriedade': '[]',\n",
       "    'condominio': \"['Bicicletário']\",\n",
       "    'entorno': \"['Próximo a Farmácia', 'Próximo a Áreas de Lazer', 'Próximo a Escola Pública', 'Próximo ao Metrô', 'Próximo a Academia', 'Próximo a Serviços de Saúde', 'Próximo a Mercado', 'Próximo a Escola Particular', 'Próximo a Comércio Diversos', 'Próximo a Restaurante']\"}},\n",
       "  'anuncio': {'tipos': {'publicacao': 'Padrão', 'listagem': 'Usado'},\n",
       "   'valores': {'venda': 1080000.0,\n",
       "    'aluguel': 0.0,\n",
       "    'condominio': 1000.0,\n",
       "    'iptu': 1900.0},\n",
       "   'descricao': 'Amplo imóvel para venda com 3 quartos, sendo 0 suítes, e 1 banheiros no total.'}},\n",
       " {'imovel': {'tipos': {'propriedade': 'Apartamento'},\n",
       "   'endereco': {'bairro': 'Méier',\n",
       "    'localizacao': {'type': 'Point',\n",
       "     'coordinates': [-49.0607072, -26.9225117]}},\n",
       "   'vagasGaragem': 1,\n",
       "   'area': 63,\n",
       "   'caracteristicas': {'propriedade': \"['Piscina', 'Quarto/WC Empregada', 'Gás Encanado', 'Mobiliado']\",\n",
       "    'condominio': \"['Sauna', 'Estacionamento Coberto', 'Porteiro 24 Horas', 'Aceita Pet', 'Salão de Jogos', 'Bicicletário', 'Churrasqueira', 'Academia', 'Serviço de Transporte no Condomínio', 'Segurança Interna', 'Acessibilidade', 'Depósito Privativo', 'Salão de Festas', 'Comércio/Serviços no Condomínio', 'Piscina']\",\n",
       "    'entorno': \"['Próximo a Comércio Diversos', 'Próximo a Escola Particular', 'Próximo a Farmácia', 'Próximo a Praia', 'Próximo a Escola Pública', 'Próximo a Centro Empresarial', 'Próximo a Áreas de Lazer', 'Próximo ao Metrô', 'Próximo a Academia']\"}},\n",
       "  'anuncio': {'tipos': {'publicacao': 'Padrão', 'listagem': 'Usado'},\n",
       "   'valores': {'venda': 400000.0,\n",
       "    'aluguel': 0.0,\n",
       "    'condominio': 628.0,\n",
       "    'iptu': 661.0},\n",
       "   'descricao': 'Amplo imóvel para venda com 2 quartos, sendo 0 suítes, e 1 banheiros no total.'}},\n",
       " {'imovel': {'tipos': {'propriedade': 'Consultório'},\n",
       "   'endereco': {'bairro': 'Recreio dos Bandeirantes',\n",
       "    'localizacao': {'type': 'Point',\n",
       "     'coordinates': [-43.5010964, -23.0249208]}},\n",
       "   'vagasGaragem': 0,\n",
       "   'area': 0,\n",
       "   'caracteristicas': {'propriedade': \"['Sauna', 'Terraço', 'Closet', 'Gás Encanado', 'Vista Panorâmica']\",\n",
       "    'condominio': \"['Playground', 'Aceita Pet', 'Porteiro 24 Horas']\",\n",
       "    'entorno': \"['Próximo a Restaurante', 'Próximo ao Metrô', 'Próximo a Academia', 'Próximo ao Shopping']\"}},\n",
       "  'anuncio': {'tipos': {'publicacao': 'Padrão', 'listagem': 'Usado'},\n",
       "   'valores': {'venda': 370583.0,\n",
       "    'aluguel': 0.0,\n",
       "    'condominio': 0.0,\n",
       "    'iptu': 0.0},\n",
       "   'descricao': 'Amplo imóvel para venda com 0 quartos, sendo 0 suítes, e 1 banheiros no total.'}},\n",
       " {'imovel': {'tipos': {'propriedade': 'Apartamento'},\n",
       "   'endereco': {'bairro': 'Recreio dos Bandeirantes',\n",
       "    'localizacao': {'type': 'Point',\n",
       "     'coordinates': [-43.4842556, -23.0302751]}},\n",
       "   'vagasGaragem': 1,\n",
       "   'area': 96,\n",
       "   'caracteristicas': {'propriedade': '[]',\n",
       "    'condominio': \"['Quadra Poliesportiva', 'Porteiro 24 Horas']\",\n",
       "    'entorno': \"['Próximo ao Metrô', 'Próximo a Mercado', 'Próximo ao Shopping', 'Próximo a Parques e Áreas Verdes', 'Próximo a Comércio Diversos', 'Próximo a Farmácia', 'Próximo a Escola Particular']\"}},\n",
       "  'anuncio': {'tipos': {'publicacao': 'Padrão', 'listagem': 'Usado'},\n",
       "   'valores': {'venda': 490000.0,\n",
       "    'aluguel': 0.0,\n",
       "    'condominio': 480.0,\n",
       "    'iptu': 200.0},\n",
       "   'descricao': 'Amplo imóvel para venda com 2 quartos, sendo 1 suítes, e 2 banheiros no total.'}},\n",
       " {'imovel': {'tipos': {'propriedade': 'Casa'},\n",
       "   'endereco': {'bairro': 'Vila Isabel',\n",
       "    'localizacao': {'type': 'Point',\n",
       "     'coordinates': [-43.2427336, -22.9185964]}},\n",
       "   'vagasGaragem': 1,\n",
       "   'area': 66,\n",
       "   'caracteristicas': {'propriedade': \"['Quarto/WC Empregada', 'Varanda', 'Piscina', 'Sauna', 'Armários Planejados', 'Ambientes Integrados', 'Cozinha Americana', 'Terraço', 'Vista Panorâmica', 'Mobiliado', 'Churrasqueira', 'Área de Serviço', 'Acessibilidade', 'Closet']\",\n",
       "    'condominio': \"['Quadra Poliesportiva']\",\n",
       "    'entorno': \"['Próximo ao Shopping', 'Próximo a Farmácia', 'Próximo a Centro Empresarial', 'Próximo a Mercado', 'Próximo a Serviços de Saúde', 'Próximo a Comércio Diversos', 'Próximo a Escola Pública', 'Próximo a Restaurante', 'Próximo a Praia', 'Próximo a Escola Particular']\"}},\n",
       "  'anuncio': {'tipos': {'publicacao': 'Padrão', 'listagem': 'Usado'},\n",
       "   'valores': {'venda': 440000.0,\n",
       "    'aluguel': 0.0,\n",
       "    'condominio': 500.0,\n",
       "    'iptu': 25.0},\n",
       "   'descricao': 'Amplo imóvel para venda com 2 quartos, sendo 0 suítes, e 1 banheiros no total.'}},\n",
       " {'imovel': {'tipos': {'propriedade': 'Apartamento'},\n",
       "   'endereco': {'bairro': 'Campo Grande',\n",
       "    'localizacao': {'type': 'Point',\n",
       "     'coordinates': [-43.1728965, -22.9068467]}},\n",
       "   'vagasGaragem': 0,\n",
       "   'area': 40,\n",
       "   'caracteristicas': {'propriedade': \"['Vista Panorâmica', 'Sauna', 'Área de Serviço', 'Piscina', 'Ambientes Integrados', 'Acessibilidade']\",\n",
       "    'condominio': \"['Bicicletário', 'Comércio/Serviços no Condomínio', 'Salão de Festas', 'Estacionamento Coberto', 'Segurança Interna', 'Quadra Poliesportiva', 'Churrasqueira', 'Aceita Pet']\",\n",
       "    'entorno': \"['Próximo a Escola Particular', 'Próximo a Praia', 'Próximo a Academia', 'Próximo a Restaurante', 'Próximo a Mercado', 'Próximo ao Metrô', 'Próximo a Parques e Áreas Verdes', 'Próximo a Comércio Diversos', 'Próximo a Áreas de Lazer', 'Próximo a Farmácia']\"}},\n",
       "  'anuncio': {'tipos': {'publicacao': 'Padrão', 'listagem': 'Usado'},\n",
       "   'valores': {'venda': 700000.0,\n",
       "    'aluguel': 0.0,\n",
       "    'condominio': 0.0,\n",
       "    'iptu': 0.0},\n",
       "   'descricao': 'Amplo imóvel para venda com 2 quartos, sendo 0 suítes, e 1 banheiros no total.'}},\n",
       " {'imovel': {'tipos': {'propriedade': 'Sala Comercial'},\n",
       "   'endereco': {'bairro': 'Copacabana',\n",
       "    'localizacao': {'type': 'Point',\n",
       "     'coordinates': [-43.1857067, -22.9670207]}},\n",
       "   'vagasGaragem': 1,\n",
       "   'area': 80,\n",
       "   'caracteristicas': {'propriedade': \"['Quarto/WC Empregada', 'Churrasqueira', 'Sauna']\",\n",
       "    'condominio': \"['Depósito Privativo', 'Bicicletário', 'Churrasqueira', 'Estacionamento Coberto', 'Comércio/Serviços no Condomínio', 'Segurança Interna', 'Estacionamento Visitantes', 'Acessibilidade', 'Quadra Poliesportiva', 'Sistema de Incêndio', 'Playground']\",\n",
       "    'entorno': \"['Próximo a Farmácia', 'Próximo a Escola Particular', 'Próximo a Academia', 'Próximo ao Shopping', 'Próximo a Praia', 'Próximo a Serviços de Saúde', 'Próximo ao Metrô', 'Próximo a Restaurante']\"}},\n",
       "  'anuncio': {'tipos': {'publicacao': 'Destaque', 'listagem': 'Usado'},\n",
       "   'valores': {'venda': 1000000.0,\n",
       "    'aluguel': 0.0,\n",
       "    'condominio': 630.0,\n",
       "    'iptu': 112.0},\n",
       "   'descricao': 'Amplo imóvel para venda com 2 quartos, sendo 0 suítes, e 1 banheiros no total.'}},\n",
       " {'imovel': {'tipos': {'propriedade': 'Casa'},\n",
       "   'endereco': {'bairro': 'Ipanema',\n",
       "    'localizacao': {'type': 'Point',\n",
       "     'coordinates': [-43.2019364, -22.9832228]}},\n",
       "   'vagasGaragem': 2,\n",
       "   'area': 240,\n",
       "   'caracteristicas': {'propriedade': \"['Sauna', 'Ambientes Integrados', 'Armários Planejados', 'Piscina', 'Cozinha Americana', 'Terraço', 'Varanda', 'Closet', 'Acessibilidade', 'Mobiliado', 'Gás Encanado', 'Churrasqueira']\",\n",
       "    'condominio': \"['Elevador', 'Estacionamento Coberto']\",\n",
       "    'entorno': \"['Próximo a Centro Empresarial']\"}},\n",
       "  'anuncio': {'tipos': {'publicacao': 'Destaque', 'listagem': 'Usado'},\n",
       "   'valores': {'venda': 4500000.0,\n",
       "    'aluguel': 0.0,\n",
       "    'condominio': 2300.0,\n",
       "    'iptu': 0.0},\n",
       "   'descricao': 'Amplo imóvel para venda com 3 quartos, sendo 1 suítes, e 2 banheiros no total.'}},\n",
       " {'imovel': {'tipos': {'propriedade': 'Sala Comercial'},\n",
       "   'endereco': {'bairro': 'Paciência',\n",
       "    'localizacao': {'type': 'Point',\n",
       "     'coordinates': [-43.6220075, -22.8938151]}},\n",
       "   'vagasGaragem': 1,\n",
       "   'area': 45,\n",
       "   'caracteristicas': {'propriedade': \"['Mobiliado', 'Acessibilidade', 'Área de Serviço', 'Vista Panorâmica', 'Gás Encanado', 'Quarto/WC Empregada', 'Terraço', 'Closet']\",\n",
       "    'condominio': \"['Sistema de Incêndio', 'Acessibilidade', 'Salão de Festas', 'Quadra Poliesportiva', 'Bicicletário', 'Playground', 'Serviço de Transporte no Condomínio', 'Sauna', 'Porteiro 24 Horas']\",\n",
       "    'entorno': \"['Próximo a Centro Empresarial', 'Próximo a Comércio Diversos', 'Próximo a Academia', 'Próximo ao Metrô', 'Próximo a Escola Particular', 'Próximo a Escola Pública', 'Próximo a Restaurante', 'Próximo a Praia', 'Próximo a Áreas de Lazer', 'Próximo a Serviços de Saúde']\"}},\n",
       "  'anuncio': {'tipos': {'publicacao': 'Padrão', 'listagem': 'Usado'},\n",
       "   'valores': {'venda': 135000.0,\n",
       "    'aluguel': 0.0,\n",
       "    'condominio': 300.0,\n",
       "    'iptu': 0.0},\n",
       "   'descricao': 'Amplo imóvel para venda com 2 quartos, sendo 0 suítes, e 1 banheiros no total.'}},\n",
       " {'imovel': {'tipos': {'propriedade': 'Apartamento'},\n",
       "   'endereco': {'bairro': 'Freguesia (Jacarepaguá)',\n",
       "    'localizacao': {'type': 'Point',\n",
       "     'coordinates': [-43.1721422, -22.7894064]}},\n",
       "   'vagasGaragem': 1,\n",
       "   'area': 71,\n",
       "   'caracteristicas': {'propriedade': \"['Sauna', 'Gás Encanado', 'Terraço', 'Ambientes Integrados', 'Churrasqueira', 'Área de Serviço', 'Piscina', 'Quarto/WC Empregada', 'Armários Planejados']\",\n",
       "    'condominio': \"['Salão de Festas', 'Bicicletário', 'Academia']\",\n",
       "    'entorno': \"['Próximo a Academia', 'Próximo a Mercado', 'Próximo a Praia', 'Próximo ao Shopping', 'Próximo a Centro Empresarial']\"}},\n",
       "  'anuncio': {'tipos': {'publicacao': 'Destaque', 'listagem': 'Usado'},\n",
       "   'valores': {'venda': 300000.0,\n",
       "    'aluguel': 0.0,\n",
       "    'condominio': 370.0,\n",
       "    'iptu': 243.0},\n",
       "   'descricao': 'Amplo imóvel para venda com 3 quartos, sendo 0 suítes, e 1 banheiros no total.'}},\n",
       " {'imovel': {'tipos': {'propriedade': 'Apartamento'},\n",
       "   'endereco': {'bairro': 'Vargem Pequena',\n",
       "    'localizacao': {'type': 'Point',\n",
       "     'coordinates': [-43.4516177, -22.993534]}},\n",
       "   'vagasGaragem': 0,\n",
       "   'area': 0,\n",
       "   'caracteristicas': {'propriedade': '[]',\n",
       "    'condominio': \"['Quadra Poliesportiva', 'Porteiro 24 Horas', 'Depósito Privativo', 'Serviço de Transporte no Condomínio', 'Salão de Jogos', 'Playground', 'Sistema de Incêndio']\",\n",
       "    'entorno': \"['Próximo ao Shopping', 'Próximo a Parques e Áreas Verdes', 'Próximo a Escola Pública', 'Próximo a Centro Empresarial', 'Próximo a Áreas de Lazer', 'Próximo a Escola Particular', 'Próximo a Comércio Diversos', 'Próximo a Serviços de Saúde', 'Próximo ao Metrô', 'Próximo a Restaurante']\"}},\n",
       "  'anuncio': {'tipos': {'publicacao': 'Destaque', 'listagem': 'Usado'},\n",
       "   'valores': {'venda': 0.0, 'aluguel': 0.0, 'condominio': 0.0, 'iptu': 0.0},\n",
       "   'descricao': 'Amplo imóvel para venda com 0 quartos, sendo 0 suítes, e 1 banheiros no total.'}},\n",
       " {'imovel': {'tipos': {'propriedade': 'Apartamento'},\n",
       "   'endereco': {'bairro': 'Tijuca',\n",
       "    'localizacao': {'type': 'Point',\n",
       "     'coordinates': [-43.2377311, -22.919436]}},\n",
       "   'vagasGaragem': 2,\n",
       "   'area': 136,\n",
       "   'caracteristicas': {'propriedade': \"['Terraço', 'Armários Planejados', 'Ambientes Integrados']\",\n",
       "    'condominio': \"['Comércio/Serviços no Condomínio', 'Depósito Privativo', 'Estacionamento Visitantes', 'Segurança Interna', 'Salão de Jogos', 'Serviço de Transporte no Condomínio', 'Churrasqueira']\",\n",
       "    'entorno': \"['Próximo a Restaurante', 'Próximo a Farmácia', 'Próximo a Mercado', 'Próximo ao Shopping', 'Próximo a Comércio Diversos', 'Próximo a Centro Empresarial', 'Próximo ao Metrô', 'Próximo a Parques e Áreas Verdes']\"}},\n",
       "  'anuncio': {'tipos': {'publicacao': 'Padrão', 'listagem': 'Usado'},\n",
       "   'valores': {'venda': 1285000.0,\n",
       "    'aluguel': 0.0,\n",
       "    'condominio': 1300.0,\n",
       "    'iptu': 0.0},\n",
       "   'descricao': 'Amplo imóvel para venda com 3 quartos, sendo 1 suítes, e 2 banheiros no total.'}},\n",
       " {'imovel': {'tipos': {'propriedade': 'Casa'},\n",
       "   'endereco': {'bairro': 'Recreio dos Bandeirantes',\n",
       "    'localizacao': {'type': 'Point',\n",
       "     'coordinates': [-43.482437, -23.0061018]}},\n",
       "   'vagasGaragem': 2,\n",
       "   'area': 168,\n",
       "   'caracteristicas': {'propriedade': \"['Área de Serviço', 'Quarto/WC Empregada', 'Closet', 'Terraço', 'Mobiliado', 'Armários Planejados', 'Acessibilidade']\",\n",
       "    'condominio': \"['Serviço de Transporte no Condomínio', 'Elevador', 'Estacionamento Visitantes', 'Comércio/Serviços no Condomínio', 'Piscina', 'Porteiro 24 Horas', 'Academia', 'Sistema de Incêndio', 'Bicicletário', 'Salão de Festas', 'Aceita Pet', 'Churrasqueira', 'Playground', 'Quadra Poliesportiva', 'Estacionamento Coberto', 'Acessibilidade', 'Sauna', 'Salão de Jogos', 'Segurança Interna']\",\n",
       "    'entorno': \"['Próximo a Academia', 'Próximo a Escola Particular']\"}},\n",
       "  'anuncio': {'tipos': {'publicacao': 'Padrão', 'listagem': 'Lançamento'},\n",
       "   'valores': {'venda': 409900.0,\n",
       "    'aluguel': 0.0,\n",
       "    'condominio': 490.0,\n",
       "    'iptu': 0.0},\n",
       "   'descricao': 'Amplo imóvel para venda com 2 quartos, sendo 1 suítes, e 2 banheiros no total.'}},\n",
       " {'imovel': {'tipos': {'propriedade': 'Consultório'},\n",
       "   'endereco': {'bairro': 'Recreio dos Bandeirantes',\n",
       "    'localizacao': {'type': 'Point',\n",
       "     'coordinates': [-43.4656992, -23.0226712]}},\n",
       "   'vagasGaragem': 4,\n",
       "   'area': 300,\n",
       "   'caracteristicas': {'propriedade': \"['Cozinha Americana', 'Gás Encanado', 'Mobiliado', 'Área de Serviço', 'Closet', 'Vista Panorâmica', 'Quarto/WC Empregada', 'Terraço', 'Ambientes Integrados', 'Varanda', 'Churrasqueira']\",\n",
       "    'condominio': \"['Estacionamento Visitantes', 'Elevador', 'Aceita Pet', 'Serviço de Transporte no Condomínio']\",\n",
       "    'entorno': \"['Próximo ao Metrô', 'Próximo a Escola Pública']\"}},\n",
       "  'anuncio': {'tipos': {'publicacao': 'Padrão', 'listagem': 'Usado'},\n",
       "   'valores': {'venda': 1600000.0,\n",
       "    'aluguel': 0.0,\n",
       "    'condominio': 0.0,\n",
       "    'iptu': 0.0},\n",
       "   'descricao': 'Amplo imóvel para venda com 4 quartos, sendo 4 suítes, e 5 banheiros no total.'}},\n",
       " {'imovel': {'tipos': {'propriedade': 'Apartamento'},\n",
       "   'endereco': {'bairro': 'Pechincha',\n",
       "    'localizacao': {'type': 'Point',\n",
       "     'coordinates': [-49.0607072, -26.9225117]}},\n",
       "   'vagasGaragem': 2,\n",
       "   'area': 123,\n",
       "   'caracteristicas': {'propriedade': \"['Área de Serviço', 'Ambientes Integrados', 'Vista Panorâmica', 'Quarto/WC Empregada', 'Terraço', 'Varanda', 'Armários Planejados', 'Piscina', 'Acessibilidade', 'Churrasqueira', 'Cozinha Americana', 'Closet', 'Gás Encanado']\",\n",
       "    'condominio': \"['Elevador', 'Salão de Festas', 'Quadra Poliesportiva', 'Acessibilidade', 'Bicicletário', 'Sistema de Incêndio', 'Playground', 'Aceita Pet', 'Estacionamento Visitantes', 'Salão de Jogos', 'Piscina', 'Churrasqueira']\",\n",
       "    'entorno': \"['Próximo a Escola Particular', 'Próximo a Mercado', 'Próximo a Centro Empresarial', 'Próximo a Áreas de Lazer']\"}},\n",
       "  'anuncio': {'tipos': {'publicacao': 'Destaque', 'listagem': 'Usado'},\n",
       "   'valores': {'venda': 505000.0,\n",
       "    'aluguel': 0.0,\n",
       "    'condominio': 500.0,\n",
       "    'iptu': 0.0},\n",
       "   'descricao': 'Amplo imóvel para venda com 3 quartos, sendo 1 suítes, e 2 banheiros no total.'}},\n",
       " {'imovel': {'tipos': {'propriedade': 'Apartamento'},\n",
       "   'endereco': {'bairro': 'Copacabana',\n",
       "    'localizacao': {'type': 'Point',\n",
       "     'coordinates': [-43.1874754, -22.9682656]}},\n",
       "   'vagasGaragem': 1,\n",
       "   'area': 113,\n",
       "   'caracteristicas': {'propriedade': \"['Gás Encanado', 'Cozinha Americana', 'Vista Panorâmica', 'Quarto/WC Empregada', 'Varanda', 'Área de Serviço', 'Sauna', 'Mobiliado', 'Closet', 'Acessibilidade', 'Piscina']\",\n",
       "    'condominio': \"['Sauna', 'Quadra Poliesportiva', 'Porteiro 24 Horas', 'Elevador', 'Depósito Privativo', 'Academia', 'Piscina']\",\n",
       "    'entorno': \"['Próximo a Serviços de Saúde', 'Próximo a Mercado', 'Próximo a Restaurante', 'Próximo a Parques e Áreas Verdes']\"}},\n",
       "  'anuncio': {'tipos': {'publicacao': 'Super Destaque', 'listagem': 'Usado'},\n",
       "   'valores': {'venda': 1190000.0,\n",
       "    'aluguel': 0.0,\n",
       "    'condominio': 750.0,\n",
       "    'iptu': 1904.0},\n",
       "   'descricao': 'Amplo imóvel para venda com 3 quartos, sendo 0 suítes, e 1 banheiros no total.'}},\n",
       " {'imovel': {'tipos': {'propriedade': 'Apartamento'},\n",
       "   'endereco': {'bairro': 'Vargem Pequena',\n",
       "    'localizacao': {'type': 'Point',\n",
       "     'coordinates': [-43.4516177, -22.993534]}},\n",
       "   'vagasGaragem': 0,\n",
       "   'area': 0,\n",
       "   'caracteristicas': {'propriedade': \"['Vista Panorâmica', 'Quarto/WC Empregada', 'Sauna', 'Armários Planejados', 'Cozinha Americana', 'Ambientes Integrados', 'Acessibilidade', 'Área de Serviço', 'Piscina', 'Closet', 'Mobiliado', 'Gás Encanado', 'Churrasqueira']\",\n",
       "    'condominio': \"['Quadra Poliesportiva', 'Bicicletário', 'Playground', 'Estacionamento Coberto', 'Depósito Privativo', 'Comércio/Serviços no Condomínio', 'Serviço de Transporte no Condomínio', 'Estacionamento Visitantes', 'Acessibilidade', 'Elevador', 'Piscina', 'Sauna']\",\n",
       "    'entorno': \"['Próximo ao Metrô', 'Próximo a Academia', 'Próximo a Mercado', 'Próximo a Escola Particular']\"}},\n",
       "  'anuncio': {'tipos': {'publicacao': 'Super Destaque', 'listagem': 'Usado'},\n",
       "   'valores': {'venda': 0.0, 'aluguel': 0.0, 'condominio': 0.0, 'iptu': 0.0},\n",
       "   'descricao': 'Amplo imóvel para venda com 0 quartos, sendo 0 suítes, e 1 banheiros no total.'}},\n",
       " {'imovel': {'tipos': {'propriedade': 'Casa'},\n",
       "   'endereco': {'bairro': 'Freguesia',\n",
       "    'localizacao': {'type': 'Point',\n",
       "     'coordinates': [-43.3273079, -22.9354146]}},\n",
       "   'vagasGaragem': 0,\n",
       "   'area': 0,\n",
       "   'caracteristicas': {'propriedade': \"['Armários Planejados', 'Piscina', 'Churrasqueira', 'Acessibilidade', 'Área de Serviço', 'Terraço', 'Mobiliado', 'Sauna', 'Gás Encanado', 'Varanda', 'Vista Panorâmica']\",\n",
       "    'condominio': \"['Piscina', 'Quadra Poliesportiva', 'Playground', 'Estacionamento Coberto', 'Sistema de Incêndio', 'Elevador', 'Estacionamento Visitantes', 'Sauna', 'Aceita Pet', 'Porteiro 24 Horas', 'Salão de Festas', 'Segurança Interna', 'Salão de Jogos', 'Academia', 'Acessibilidade', 'Bicicletário', 'Serviço de Transporte no Condomínio', 'Comércio/Serviços no Condomínio', 'Churrasqueira', 'Depósito Privativo']\",\n",
       "    'entorno': \"['Próximo a Parques e Áreas Verdes', 'Próximo a Academia', 'Próximo a Serviços de Saúde', 'Próximo a Farmácia', 'Próximo a Escola Pública', 'Próximo a Escola Particular', 'Próximo a Restaurante', 'Próximo ao Metrô', 'Próximo ao Shopping', 'Próximo a Áreas de Lazer', 'Próximo a Comércio Diversos']\"}},\n",
       "  'anuncio': {'tipos': {'publicacao': 'Destaque', 'listagem': 'Lançamento'},\n",
       "   'valores': {'venda': 0.0, 'aluguel': 0.0, 'condominio': 0.0, 'iptu': 0.0},\n",
       "   'descricao': 'Amplo imóvel para venda com 0 quartos, sendo 0 suítes, e 0 banheiros no total.'}},\n",
       " {'imovel': {'tipos': {'propriedade': 'Apartamento'},\n",
       "   'endereco': {'bairro': 'Recreio dos Bandeirantes',\n",
       "    'localizacao': {'type': 'Point',\n",
       "     'coordinates': [-43.4710229, -23.0170387]}},\n",
       "   'vagasGaragem': 2,\n",
       "   'area': 112,\n",
       "   'caracteristicas': {'propriedade': '[]',\n",
       "    'condominio': \"['Salão de Jogos', 'Quadra Poliesportiva', 'Elevador', 'Acessibilidade', 'Sistema de Incêndio', 'Serviço de Transporte no Condomínio', 'Bicicletário', 'Segurança Interna', 'Piscina', 'Churrasqueira', 'Depósito Privativo']\",\n",
       "    'entorno': \"['Próximo a Praia', 'Próximo a Academia', 'Próximo a Centro Empresarial', 'Próximo a Parques e Áreas Verdes', 'Próximo a Comércio Diversos', 'Próximo a Restaurante', 'Próximo a Mercado', 'Próximo a Áreas de Lazer', 'Próximo a Serviços de Saúde', 'Próximo ao Shopping', 'Próximo ao Metrô', 'Próximo a Escola Pública', 'Próximo a Escola Particular']\"}},\n",
       "  'anuncio': {'tipos': {'publicacao': 'Padrão', 'listagem': 'Usado'},\n",
       "   'valores': {'venda': 500000.0,\n",
       "    'aluguel': 0.0,\n",
       "    'condominio': 451.0,\n",
       "    'iptu': 1500.0},\n",
       "   'descricao': 'Amplo imóvel para venda com 2 quartos, sendo 1 suítes, e 2 banheiros no total.'}},\n",
       " {'imovel': {'tipos': {'propriedade': 'Apartamento'},\n",
       "   'endereco': {'bairro': 'Botafogo',\n",
       "    'localizacao': {'type': 'Point',\n",
       "     'coordinates': [-43.190689, -22.9510137]}},\n",
       "   'vagasGaragem': 3,\n",
       "   'area': 195,\n",
       "   'caracteristicas': {'propriedade': \"['Mobiliado', 'Sauna', 'Cozinha Americana', 'Área de Serviço', 'Armários Planejados', 'Acessibilidade', 'Gás Encanado', 'Vista Panorâmica', 'Churrasqueira', 'Terraço']\",\n",
       "    'condominio': \"['Salão de Festas', 'Segurança Interna', 'Comércio/Serviços no Condomínio', 'Piscina', 'Salão de Jogos', 'Elevador', 'Acessibilidade', 'Estacionamento Visitantes', 'Aceita Pet', 'Porteiro 24 Horas', 'Estacionamento Coberto', 'Playground', 'Quadra Poliesportiva', 'Churrasqueira', 'Sistema de Incêndio']\",\n",
       "    'entorno': \"['Próximo a Parques e Áreas Verdes', 'Próximo a Comércio Diversos', 'Próximo ao Metrô', 'Próximo a Farmácia', 'Próximo a Restaurante', 'Próximo a Áreas de Lazer', 'Próximo a Centro Empresarial', 'Próximo ao Shopping', 'Próximo a Praia', 'Próximo a Academia', 'Próximo a Mercado']\"}},\n",
       "  'anuncio': {'tipos': {'publicacao': 'Destaque', 'listagem': 'Lançamento'},\n",
       "   'valores': {'venda': 2582000.0,\n",
       "    'aluguel': 0.0,\n",
       "    'condominio': 0.0,\n",
       "    'iptu': 0.0},\n",
       "   'descricao': 'Amplo imóvel para venda com 3 quartos, sendo 1 suítes, e 2 banheiros no total.'}},\n",
       " {'imovel': {'tipos': {'propriedade': 'Casa'},\n",
       "   'endereco': {'bairro': 'Paciência',\n",
       "    'localizacao': {'type': 'Point', 'coordinates': [0, 0]}},\n",
       "   'vagasGaragem': 0,\n",
       "   'area': 231000,\n",
       "   'caracteristicas': {'propriedade': \"['Cozinha Americana', 'Varanda', 'Vista Panorâmica', 'Closet', 'Acessibilidade', 'Gás Encanado', 'Churrasqueira', 'Área de Serviço', 'Armários Planejados', 'Sauna']\",\n",
       "    'condominio': \"['Sistema de Incêndio', 'Academia', 'Salão de Festas', 'Segurança Interna', 'Comércio/Serviços no Condomínio', 'Sauna', 'Serviço de Transporte no Condomínio', 'Depósito Privativo', 'Salão de Jogos', 'Estacionamento Coberto', 'Bicicletário', 'Elevador', 'Playground', 'Churrasqueira', 'Estacionamento Visitantes', 'Porteiro 24 Horas', 'Aceita Pet', 'Piscina', 'Acessibilidade', 'Quadra Poliesportiva']\",\n",
       "    'entorno': \"['Próximo a Áreas de Lazer', 'Próximo a Parques e Áreas Verdes', 'Próximo a Academia', 'Próximo a Farmácia', 'Próximo a Serviços de Saúde']\"}},\n",
       "  'anuncio': {'tipos': {'publicacao': 'Padrão', 'listagem': 'Usado'},\n",
       "   'valores': {'venda': 24000000.0,\n",
       "    'aluguel': 0.0,\n",
       "    'condominio': 0.0,\n",
       "    'iptu': 0.0},\n",
       "   'descricao': 'Amplo imóvel para venda com 0 quartos, sendo 0 suítes, e 1 banheiros no total.'}},\n",
       " {'imovel': {'tipos': {'propriedade': 'Casa'},\n",
       "   'endereco': {'bairro': 'Ipanema',\n",
       "    'localizacao': {'type': 'Point',\n",
       "     'coordinates': [-43.2052848, -22.9814583]}},\n",
       "   'vagasGaragem': 1,\n",
       "   'area': 120,\n",
       "   'caracteristicas': {'propriedade': \"['Terraço', 'Vista Panorâmica', 'Piscina', 'Acessibilidade', 'Ambientes Integrados', 'Sauna', 'Mobiliado', 'Armários Planejados', 'Churrasqueira', 'Gás Encanado']\",\n",
       "    'condominio': \"['Salão de Festas', 'Acessibilidade', 'Quadra Poliesportiva', 'Salão de Jogos', 'Churrasqueira', 'Serviço de Transporte no Condomínio', 'Aceita Pet', 'Bicicletário', 'Segurança Interna', 'Depósito Privativo', 'Academia', 'Elevador', 'Sauna', 'Sistema de Incêndio', 'Estacionamento Coberto', 'Estacionamento Visitantes']\",\n",
       "    'entorno': \"['Próximo a Comércio Diversos', 'Próximo a Farmácia', 'Próximo a Serviços de Saúde', 'Próximo a Restaurante', 'Próximo ao Shopping', 'Próximo a Escola Pública', 'Próximo a Escola Particular', 'Próximo a Mercado', 'Próximo a Centro Empresarial', 'Próximo a Áreas de Lazer', 'Próximo a Academia', 'Próximo a Praia']\"}},\n",
       "  'anuncio': {'tipos': {'publicacao': 'Super Destaque', 'listagem': 'Usado'},\n",
       "   'valores': {'venda': 2500000.0,\n",
       "    'aluguel': 0.0,\n",
       "    'condominio': 0.0,\n",
       "    'iptu': 0.0},\n",
       "   'descricao': 'Amplo imóvel para venda com 1 quartos, sendo 1 suítes, e 2 banheiros no total.'}},\n",
       " {'imovel': {'tipos': {'propriedade': 'Cobertura'},\n",
       "   'endereco': {'bairro': 'Vila da Penha',\n",
       "    'localizacao': {'type': 'Point',\n",
       "     'coordinates': [-43.3083014, -22.8334376]}},\n",
       "   'vagasGaragem': 1,\n",
       "   'area': 64,\n",
       "   'caracteristicas': {'propriedade': \"['Cozinha Americana', 'Quarto/WC Empregada', 'Área de Serviço', 'Gás Encanado', 'Closet', 'Acessibilidade', 'Piscina']\",\n",
       "    'condominio': \"['Porteiro 24 Horas', 'Piscina', 'Estacionamento Visitantes', 'Salão de Jogos', 'Playground']\",\n",
       "    'entorno': '[]'}},\n",
       "  'anuncio': {'tipos': {'publicacao': 'Destaque', 'listagem': 'Usado'},\n",
       "   'valores': {'venda': 270000.0,\n",
       "    'aluguel': 0.0,\n",
       "    'condominio': 360.0,\n",
       "    'iptu': 0.0},\n",
       "   'descricao': 'Amplo imóvel para venda com 2 quartos, sendo 0 suítes, e 1 banheiros no total.'}},\n",
       " {'imovel': {'tipos': {'propriedade': 'Casa'},\n",
       "   'endereco': {'bairro': 'Jacarepaguá',\n",
       "    'localizacao': {'type': 'Point',\n",
       "     'coordinates': [-43.4152304, -22.9690832]}},\n",
       "   'vagasGaragem': 0,\n",
       "   'area': 0,\n",
       "   'caracteristicas': {'propriedade': \"['Área de Serviço', 'Terraço', 'Piscina', 'Closet', 'Gás Encanado', 'Quarto/WC Empregada', 'Cozinha Americana']\",\n",
       "    'condominio': \"['Playground', 'Acessibilidade', 'Serviço de Transporte no Condomínio']\",\n",
       "    'entorno': \"['Próximo ao Metrô', 'Próximo a Áreas de Lazer', 'Próximo a Academia']\"}},\n",
       "  'anuncio': {'tipos': {'publicacao': 'Padrão', 'listagem': 'Lançamento'},\n",
       "   'valores': {'venda': 0.0, 'aluguel': 0.0, 'condominio': 0.0, 'iptu': 0.0},\n",
       "   'descricao': 'Amplo imóvel para venda com 0 quartos, sendo 0 suítes, e 0 banheiros no total.'}},\n",
       " {'imovel': {'tipos': {'propriedade': 'Apartamento'},\n",
       "   'endereco': {'bairro': 'Pechincha',\n",
       "    'localizacao': {'type': 'Point',\n",
       "     'coordinates': [-43.3490452, -22.9240714]}},\n",
       "   'vagasGaragem': 3,\n",
       "   'area': 348,\n",
       "   'caracteristicas': {'propriedade': \"['Acessibilidade', 'Churrasqueira', 'Sauna', 'Closet', 'Área de Serviço']\",\n",
       "    'condominio': '[]',\n",
       "    'entorno': \"['Próximo a Escola Particular', 'Próximo a Serviços de Saúde']\"}},\n",
       "  'anuncio': {'tipos': {'publicacao': 'Padrão', 'listagem': 'Lançamento'},\n",
       "   'valores': {'venda': 1100000.0,\n",
       "    'aluguel': 0.0,\n",
       "    'condominio': 0.0,\n",
       "    'iptu': 1560.0},\n",
       "   'descricao': 'Amplo imóvel para venda com 3 quartos, sendo 1 suítes, e 2 banheiros no total.'}},\n",
       " {'imovel': {'tipos': {'propriedade': 'Casa'},\n",
       "   'endereco': {'bairro': 'Copacabana',\n",
       "    'localizacao': {'type': 'Point',\n",
       "     'coordinates': [-43.1889208, -22.9751691]}},\n",
       "   'vagasGaragem': 0,\n",
       "   'area': 240,\n",
       "   'caracteristicas': {'propriedade': \"['Sauna', 'Vista Panorâmica', 'Terraço', 'Mobiliado', 'Piscina', 'Closet', 'Cozinha Americana', 'Acessibilidade', 'Varanda', 'Área de Serviço', 'Gás Encanado', 'Quarto/WC Empregada', 'Ambientes Integrados', 'Churrasqueira', 'Armários Planejados']\",\n",
       "    'condominio': \"['Depósito Privativo', 'Elevador', 'Quadra Poliesportiva', 'Estacionamento Coberto', 'Aceita Pet']\",\n",
       "    'entorno': \"['Próximo a Restaurante', 'Próximo ao Metrô', 'Próximo a Escola Pública', 'Próximo a Serviços de Saúde', 'Próximo a Parques e Áreas Verdes', 'Próximo a Farmácia', 'Próximo a Academia', 'Próximo a Praia', 'Próximo a Escola Particular', 'Próximo a Comércio Diversos', 'Próximo a Áreas de Lazer', 'Próximo a Centro Empresarial']\"}},\n",
       "  'anuncio': {'tipos': {'publicacao': 'Premium', 'listagem': 'Lançamento'},\n",
       "   'valores': {'venda': 2730000.0,\n",
       "    'aluguel': 0.0,\n",
       "    'condominio': 1900.0,\n",
       "    'iptu': 1700.0},\n",
       "   'descricao': 'Amplo imóvel para venda com 3 quartos, sendo 0 suítes, e 0 banheiros no total.'}},\n",
       " {'imovel': {'tipos': {'propriedade': 'Casa'},\n",
       "   'endereco': {'bairro': 'Laranjeiras',\n",
       "    'localizacao': {'type': 'Point',\n",
       "     'coordinates': [-43.1919165, -22.9358772]}},\n",
       "   'vagasGaragem': 2,\n",
       "   'area': 85,\n",
       "   'caracteristicas': {'propriedade': \"['Gás Encanado', 'Mobiliado', 'Cozinha Americana']\",\n",
       "    'condominio': \"['Comércio/Serviços no Condomínio', 'Depósito Privativo', 'Acessibilidade', 'Salão de Festas', 'Bicicletário', 'Salão de Jogos', 'Playground', 'Academia', 'Estacionamento Visitantes', 'Segurança Interna', 'Churrasqueira']\",\n",
       "    'entorno': \"['Próximo a Serviços de Saúde', 'Próximo a Centro Empresarial', 'Próximo a Áreas de Lazer', 'Próximo a Escola Particular', 'Próximo ao Metrô', 'Próximo a Comércio Diversos', 'Próximo a Escola Pública', 'Próximo a Academia']\"}},\n",
       "  'anuncio': {'tipos': {'publicacao': 'Premium', 'listagem': 'Usado'},\n",
       "   'valores': {'venda': 1260000.0,\n",
       "    'aluguel': 0.0,\n",
       "    'condominio': 890.0,\n",
       "    'iptu': 1009.0},\n",
       "   'descricao': 'Amplo imóvel para venda com 2 quartos, sendo 1 suítes, e 2 banheiros no total.'}},\n",
       " {'imovel': {'tipos': {'propriedade': 'Apartamento'},\n",
       "   'endereco': {'bairro': 'Ribeira',\n",
       "    'localizacao': {'type': 'Point',\n",
       "     'coordinates': [-43.1710835, -22.8237953]}},\n",
       "   'vagasGaragem': 1,\n",
       "   'area': 58,\n",
       "   'caracteristicas': {'propriedade': \"['Área de Serviço', 'Gás Encanado', 'Cozinha Americana', 'Quarto/WC Empregada', 'Sauna', 'Piscina', 'Terraço', 'Armários Planejados', 'Acessibilidade']\",\n",
       "    'condominio': \"['Acessibilidade', 'Aceita Pet', 'Quadra Poliesportiva', 'Academia', 'Sauna', 'Comércio/Serviços no Condomínio', 'Salão de Jogos', 'Estacionamento Visitantes', 'Piscina', 'Serviço de Transporte no Condomínio', 'Elevador', 'Estacionamento Coberto', 'Playground', 'Porteiro 24 Horas', 'Sistema de Incêndio', 'Churrasqueira', 'Salão de Festas', 'Segurança Interna', 'Bicicletário']\",\n",
       "    'entorno': \"['Próximo a Serviços de Saúde']\"}},\n",
       "  'anuncio': {'tipos': {'publicacao': 'Super Destaque', 'listagem': 'Usado'},\n",
       "   'valores': {'venda': 470000.0,\n",
       "    'aluguel': 0.0,\n",
       "    'condominio': 350.0,\n",
       "    'iptu': 300.0},\n",
       "   'descricao': 'Amplo imóvel para venda com 2 quartos, sendo 0 suítes, e 1 banheiros no total.'}},\n",
       " {'imovel': {'tipos': {'propriedade': 'Imóvel Comercial'},\n",
       "   'endereco': {'bairro': 'Barra da Tijuca',\n",
       "    'localizacao': {'type': 'Point',\n",
       "     'coordinates': [-43.3752545, -23.0031345]}},\n",
       "   'vagasGaragem': 9,\n",
       "   'area': 950,\n",
       "   'caracteristicas': {'propriedade': \"['Acessibilidade', 'Cozinha Americana', 'Varanda', 'Gás Encanado', 'Closet']\",\n",
       "    'condominio': \"['Bicicletário', 'Quadra Poliesportiva']\",\n",
       "    'entorno': \"['Próximo a Áreas de Lazer', 'Próximo a Restaurante', 'Próximo a Farmácia', 'Próximo a Escola Particular', 'Próximo a Parques e Áreas Verdes', 'Próximo a Centro Empresarial', 'Próximo a Comércio Diversos', 'Próximo a Serviços de Saúde', 'Próximo a Praia', 'Próximo a Academia', 'Próximo ao Metrô']\"}},\n",
       "  'anuncio': {'tipos': {'publicacao': 'Padrão', 'listagem': 'Usado'},\n",
       "   'valores': {'venda': 6900000.0,\n",
       "    'aluguel': 0.0,\n",
       "    'condominio': 1000.0,\n",
       "    'iptu': 1800.0},\n",
       "   'descricao': 'Amplo imóvel para venda com 6 quartos, sendo 5 suítes, e 6 banheiros no total.'}},\n",
       " {'imovel': {'tipos': {'propriedade': 'Casa'},\n",
       "   'endereco': {'bairro': 'Jacarepaguá',\n",
       "    'localizacao': {'type': 'Point', 'coordinates': [0, 0]}},\n",
       "   'vagasGaragem': 1,\n",
       "   'area': 50,\n",
       "   'caracteristicas': {'propriedade': \"['Sauna', 'Piscina', 'Closet', 'Varanda', 'Acessibilidade', 'Armários Planejados', 'Mobiliado']\",\n",
       "    'condominio': \"['Quadra Poliesportiva', 'Comércio/Serviços no Condomínio', 'Serviço de Transporte no Condomínio', 'Salão de Festas', 'Playground', 'Estacionamento Coberto', 'Aceita Pet', 'Academia']\",\n",
       "    'entorno': \"['Próximo ao Shopping', 'Próximo a Escola Particular', 'Próximo a Comércio Diversos', 'Próximo a Restaurante', 'Próximo a Escola Pública', 'Próximo a Mercado', 'Próximo a Praia', 'Próximo a Academia']\"}},\n",
       "  'anuncio': {'tipos': {'publicacao': 'Padrão', 'listagem': 'Usado'},\n",
       "   'valores': {'venda': 244000.0,\n",
       "    'aluguel': 0.0,\n",
       "    'condominio': 450.0,\n",
       "    'iptu': 330.0},\n",
       "   'descricao': 'Amplo imóvel para venda com 2 quartos, sendo 0 suítes, e 1 banheiros no total.'}},\n",
       " {'imovel': {'tipos': {'propriedade': 'Apartamento'},\n",
       "   'endereco': {'bairro': 'Botafogo',\n",
       "    'localizacao': {'type': 'Point',\n",
       "     'coordinates': [-43.187335, -22.9564526]}},\n",
       "   'vagasGaragem': 0,\n",
       "   'area': 0,\n",
       "   'caracteristicas': {'propriedade': \"['Mobiliado', 'Vista Panorâmica']\",\n",
       "    'condominio': \"['Comércio/Serviços no Condomínio', 'Playground', 'Depósito Privativo', 'Sauna', 'Serviço de Transporte no Condomínio', 'Churrasqueira', 'Quadra Poliesportiva', 'Segurança Interna', 'Piscina', 'Aceita Pet', 'Porteiro 24 Horas', 'Elevador', 'Bicicletário', 'Sistema de Incêndio', 'Salão de Festas', 'Academia', 'Estacionamento Coberto', 'Acessibilidade', 'Salão de Jogos', 'Estacionamento Visitantes']\",\n",
       "    'entorno': '[]'}},\n",
       "  'anuncio': {'tipos': {'publicacao': 'Padrão', 'listagem': 'Usado'},\n",
       "   'valores': {'venda': 1890000.0,\n",
       "    'aluguel': 0.0,\n",
       "    'condominio': 0.0,\n",
       "    'iptu': 0.0},\n",
       "   'descricao': 'Amplo imóvel para venda com 0 quartos, sendo 0 suítes, e 1 banheiros no total.'}},\n",
       " {'imovel': {'tipos': {'propriedade': 'Apartamento'},\n",
       "   'endereco': {'bairro': 'Copacabana',\n",
       "    'localizacao': {'type': 'Point', 'coordinates': [0, 0]}},\n",
       "   'vagasGaragem': 0,\n",
       "   'area': 70,\n",
       "   'caracteristicas': {'propriedade': '[]',\n",
       "    'condominio': '[]',\n",
       "    'entorno': \"['Próximo a Serviços de Saúde', 'Próximo a Parques e Áreas Verdes', 'Próximo a Escola Particular', 'Próximo a Praia', 'Próximo a Comércio Diversos', 'Próximo a Escola Pública', 'Próximo a Restaurante', 'Próximo ao Metrô', 'Próximo a Farmácia', 'Próximo a Academia', 'Próximo a Mercado', 'Próximo a Áreas de Lazer', 'Próximo ao Shopping']\"}},\n",
       "  'anuncio': {'tipos': {'publicacao': 'Padrão', 'listagem': 'Usado'},\n",
       "   'valores': {'venda': 735000.0,\n",
       "    'aluguel': 0.0,\n",
       "    'condominio': 800.0,\n",
       "    'iptu': 700.0},\n",
       "   'descricao': 'Amplo imóvel para venda com 2 quartos, sendo 0 suítes, e 1 banheiros no total.'}},\n",
       " {'imovel': {'tipos': {'propriedade': 'Casa'},\n",
       "   'endereco': {'bairro': 'Botafogo',\n",
       "    'localizacao': {'type': 'Point',\n",
       "     'coordinates': [-43.1816275, -22.9443828]}},\n",
       "   'vagasGaragem': 2,\n",
       "   'area': 199,\n",
       "   'caracteristicas': {'propriedade': \"['Cozinha Americana', 'Vista Panorâmica', 'Gás Encanado', 'Terraço', 'Acessibilidade', 'Ambientes Integrados', 'Sauna', 'Piscina', 'Churrasqueira', 'Mobiliado', 'Varanda', 'Quarto/WC Empregada']\",\n",
       "    'condominio': \"['Porteiro 24 Horas', 'Playground', 'Segurança Interna', 'Academia', 'Depósito Privativo', 'Estacionamento Coberto']\",\n",
       "    'entorno': \"['Próximo ao Metrô', 'Próximo a Escola Particular', 'Próximo a Áreas de Lazer', 'Próximo ao Shopping', 'Próximo a Escola Pública', 'Próximo a Centro Empresarial', 'Próximo a Parques e Áreas Verdes', 'Próximo a Serviços de Saúde', 'Próximo a Restaurante', 'Próximo a Academia', 'Próximo a Farmácia', 'Próximo a Mercado', 'Próximo a Praia', 'Próximo a Comércio Diversos']\"}},\n",
       "  'anuncio': {'tipos': {'publicacao': 'Super Destaque', 'listagem': 'Usado'},\n",
       "   'valores': {'venda': 2190000.0,\n",
       "    'aluguel': 0.0,\n",
       "    'condominio': 2050.0,\n",
       "    'iptu': 397.0},\n",
       "   'descricao': 'Amplo imóvel para venda com 4 quartos, sendo 1 suítes, e 2 banheiros no total.'}},\n",
       " {'imovel': {'tipos': {'propriedade': 'Apartamento'},\n",
       "   'endereco': {'bairro': 'Lapa',\n",
       "    'localizacao': {'type': 'Point',\n",
       "     'coordinates': [-43.1825899, -22.9144053]}},\n",
       "   'vagasGaragem': 2,\n",
       "   'area': 170,\n",
       "   'caracteristicas': {'propriedade': \"['Mobiliado', 'Varanda', 'Cozinha Americana', 'Armários Planejados', 'Closet', 'Gás Encanado', 'Ambientes Integrados', 'Vista Panorâmica', 'Terraço', 'Acessibilidade', 'Quarto/WC Empregada', 'Área de Serviço', 'Piscina', 'Churrasqueira']\",\n",
       "    'condominio': \"['Elevador', 'Bicicletário', 'Porteiro 24 Horas', 'Salão de Jogos', 'Churrasqueira', 'Playground', 'Acessibilidade', 'Academia', 'Aceita Pet', 'Serviço de Transporte no Condomínio', 'Comércio/Serviços no Condomínio', 'Piscina', 'Estacionamento Visitantes', 'Quadra Poliesportiva', 'Sauna', 'Estacionamento Coberto']\",\n",
       "    'entorno': \"['Próximo a Serviços de Saúde', 'Próximo a Escola Particular', 'Próximo a Parques e Áreas Verdes']\"}},\n",
       "  'anuncio': {'tipos': {'publicacao': 'Destaque', 'listagem': 'Lançamento'},\n",
       "   'valores': {'venda': 690000.0,\n",
       "    'aluguel': 0.0,\n",
       "    'condominio': 480.0,\n",
       "    'iptu': 0.0},\n",
       "   'descricao': 'Amplo imóvel para venda com 2 quartos, sendo 1 suítes, e 2 banheiros no total.'}},\n",
       " {'imovel': {'tipos': {'propriedade': 'Cobertura'},\n",
       "   'endereco': {'bairro': 'Copacabana',\n",
       "    'localizacao': {'type': 'Point',\n",
       "     'coordinates': [-43.1888153, -22.9778673]}},\n",
       "   'vagasGaragem': 2,\n",
       "   'area': 250,\n",
       "   'caracteristicas': {'propriedade': \"['Ambientes Integrados', 'Sauna', 'Piscina', 'Vista Panorâmica', 'Closet', 'Área de Serviço', 'Varanda', 'Cozinha Americana', 'Gás Encanado', 'Churrasqueira', 'Mobiliado', 'Armários Planejados', 'Acessibilidade', 'Terraço', 'Quarto/WC Empregada']\",\n",
       "    'condominio': \"['Estacionamento Visitantes', 'Estacionamento Coberto', 'Bicicletário', 'Piscina', 'Quadra Poliesportiva', 'Sauna', 'Segurança Interna', 'Depósito Privativo', 'Serviço de Transporte no Condomínio', 'Elevador', 'Salão de Jogos', 'Aceita Pet', 'Porteiro 24 Horas', 'Playground', 'Sistema de Incêndio', 'Churrasqueira', 'Academia', 'Acessibilidade', 'Salão de Festas', 'Comércio/Serviços no Condomínio']\",\n",
       "    'entorno': \"['Próximo a Serviços de Saúde', 'Próximo a Academia', 'Próximo a Restaurante', 'Próximo a Praia', 'Próximo a Parques e Áreas Verdes', 'Próximo a Centro Empresarial', 'Próximo a Farmácia', 'Próximo a Mercado']\"}},\n",
       "  'anuncio': {'tipos': {'publicacao': 'Destaque', 'listagem': 'Lançamento'},\n",
       "   'valores': {'venda': 3000000.0,\n",
       "    'aluguel': 0.0,\n",
       "    'condominio': 1800.0,\n",
       "    'iptu': 500.0},\n",
       "   'descricao': 'Amplo imóvel para venda com 3 quartos, sendo 1 suítes, e 2 banheiros no total.'}},\n",
       " {'imovel': {'tipos': {'propriedade': 'Apartamento'},\n",
       "   'endereco': {'bairro': 'Rocha',\n",
       "    'localizacao': {'type': 'Point',\n",
       "     'coordinates': [-43.2499016, -22.9017852]}},\n",
       "   'vagasGaragem': 0,\n",
       "   'area': 67,\n",
       "   'caracteristicas': {'propriedade': \"['Acessibilidade', 'Gás Encanado', 'Área de Serviço', 'Closet', 'Quarto/WC Empregada', 'Sauna', 'Armários Planejados', 'Vista Panorâmica', 'Cozinha Americana']\",\n",
       "    'condominio': \"['Segurança Interna', 'Depósito Privativo', 'Academia', 'Sistema de Incêndio', 'Elevador']\",\n",
       "    'entorno': \"['Próximo a Comércio Diversos', 'Próximo a Escola Particular', 'Próximo a Academia', 'Próximo a Praia', 'Próximo a Farmácia', 'Próximo a Mercado', 'Próximo a Parques e Áreas Verdes', 'Próximo a Serviços de Saúde']\"}},\n",
       "  'anuncio': {'tipos': {'publicacao': 'Super Destaque', 'listagem': 'Usado'},\n",
       "   'valores': {'venda': 320000.0,\n",
       "    'aluguel': 0.0,\n",
       "    'condominio': 0.0,\n",
       "    'iptu': 135.0},\n",
       "   'descricao': 'Amplo imóvel para venda com 2 quartos, sendo 0 suítes, e 1 banheiros no total.'}},\n",
       " {'imovel': {'tipos': {'propriedade': 'Casa'},\n",
       "   'endereco': {'bairro': 'Barra da Tijuca',\n",
       "    'localizacao': {'type': 'Point', 'coordinates': [-43.3413206, -22.99961]}},\n",
       "   'vagasGaragem': 0,\n",
       "   'area': 370,\n",
       "   'caracteristicas': {'propriedade': \"['Acessibilidade', 'Quarto/WC Empregada', 'Armários Planejados', 'Área de Serviço', 'Ambientes Integrados', 'Varanda', 'Sauna']\",\n",
       "    'condominio': \"['Churrasqueira', 'Depósito Privativo', 'Quadra Poliesportiva', 'Comércio/Serviços no Condomínio', 'Estacionamento Coberto', 'Acessibilidade', 'Segurança Interna', 'Sauna', 'Piscina', 'Elevador', 'Bicicletário', 'Salão de Jogos', 'Sistema de Incêndio', 'Academia', 'Estacionamento Visitantes', 'Playground', 'Serviço de Transporte no Condomínio', 'Salão de Festas']\",\n",
       "    'entorno': \"['Próximo a Restaurante', 'Próximo a Comércio Diversos', 'Próximo a Academia', 'Próximo a Serviços de Saúde', 'Próximo ao Shopping']\"}},\n",
       "  'anuncio': {'tipos': {'publicacao': 'Super Destaque', 'listagem': 'Usado'},\n",
       "   'valores': {'venda': 3200000.0,\n",
       "    'aluguel': 0.0,\n",
       "    'condominio': 2520.0,\n",
       "    'iptu': 7600.0},\n",
       "   'descricao': 'Amplo imóvel para venda com 4 quartos, sendo 1 suítes, e 2 banheiros no total.'}},\n",
       " {'imovel': {'tipos': {'propriedade': 'Casa'},\n",
       "   'endereco': {'bairro': 'Copacabana',\n",
       "    'localizacao': {'type': 'Point',\n",
       "     'coordinates': [-43.1918012, -22.9756286]}},\n",
       "   'vagasGaragem': 0,\n",
       "   'area': 30,\n",
       "   'caracteristicas': {'propriedade': \"['Cozinha Americana', 'Mobiliado', 'Sauna', 'Piscina', 'Varanda', 'Vista Panorâmica', 'Ambientes Integrados', 'Churrasqueira', 'Acessibilidade', 'Terraço']\",\n",
       "    'condominio': \"['Estacionamento Coberto', 'Quadra Poliesportiva', 'Aceita Pet', 'Porteiro 24 Horas', 'Depósito Privativo', 'Serviço de Transporte no Condomínio', 'Salão de Festas', 'Acessibilidade', 'Estacionamento Visitantes', 'Playground', 'Salão de Jogos']\",\n",
       "    'entorno': \"['Próximo ao Shopping', 'Próximo a Mercado', 'Próximo a Restaurante']\"}},\n",
       "  'anuncio': {'tipos': {'publicacao': 'Padrão', 'listagem': 'Usado'},\n",
       "   'valores': {'venda': 650000.0,\n",
       "    'aluguel': 0.0,\n",
       "    'condominio': 0.0,\n",
       "    'iptu': 0.0},\n",
       "   'descricao': 'Amplo imóvel para venda com 1 quartos, sendo 0 suítes, e 1 banheiros no total.'}},\n",
       " {'imovel': {'tipos': {'propriedade': 'Casa'},\n",
       "   'endereco': {'bairro': 'Flamengo',\n",
       "    'localizacao': {'type': 'Point',\n",
       "     'coordinates': [-43.1758048, -22.9339568]}},\n",
       "   'vagasGaragem': 0,\n",
       "   'area': 46,\n",
       "   'caracteristicas': {'propriedade': \"['Varanda', 'Closet', 'Armários Planejados', 'Piscina', 'Ambientes Integrados', 'Mobiliado', 'Área de Serviço', 'Acessibilidade', 'Churrasqueira', 'Cozinha Americana', 'Terraço']\",\n",
       "    'condominio': \"['Serviço de Transporte no Condomínio', 'Bicicletário', 'Sauna', 'Comércio/Serviços no Condomínio', 'Estacionamento Visitantes', 'Acessibilidade', 'Elevador', 'Churrasqueira', 'Depósito Privativo', 'Academia', 'Playground', 'Segurança Interna', 'Quadra Poliesportiva', 'Sistema de Incêndio']\",\n",
       "    'entorno': '[]'}},\n",
       "  'anuncio': {'tipos': {'publicacao': 'Padrão', 'listagem': 'Usado'},\n",
       "   'valores': {'venda': 510000.0,\n",
       "    'aluguel': 0.0,\n",
       "    'condominio': 535.0,\n",
       "    'iptu': 724.0},\n",
       "   'descricao': 'Amplo imóvel para venda com 1 quartos, sendo 0 suítes, e 1 banheiros no total.'}}]"
      ]
     },
     "execution_count": 18,
     "metadata": {},
     "output_type": "execute_result"
    }
   ],
   "source": [
    "data_normal['listings'].iloc[0]"
   ]
  },
  {
   "cell_type": "code",
   "execution_count": 19,
   "metadata": {
    "id": "NyQdnK6tevgW"
   },
   "outputs": [
    {
     "data": {
      "text/plain": [
       "50"
      ]
     },
     "execution_count": 19,
     "metadata": {},
     "output_type": "execute_result"
    }
   ],
   "source": [
    "len(data_normal['listings'].iloc[0])"
   ]
  },
  {
   "cell_type": "code",
   "execution_count": 20,
   "metadata": {
    "id": "Sz6n0-4gevgW",
    "scrolled": true
   },
   "outputs": [
    {
     "data": {
      "text/html": [
       "<div>\n",
       "<style scoped>\n",
       "    .dataframe tbody tr th:only-of-type {\n",
       "        vertical-align: middle;\n",
       "    }\n",
       "\n",
       "    .dataframe tbody tr th {\n",
       "        vertical-align: top;\n",
       "    }\n",
       "\n",
       "    .dataframe thead th {\n",
       "        text-align: right;\n",
       "    }\n",
       "</style>\n",
       "<table border=\"1\" class=\"dataframe\">\n",
       "  <thead>\n",
       "    <tr style=\"text-align: right;\">\n",
       "      <th></th>\n",
       "      <th>imovel_tipos_propriedade</th>\n",
       "      <th>imovel_endereco_bairro</th>\n",
       "      <th>imovel_endereco_localizacao_type</th>\n",
       "      <th>imovel_endereco_localizacao_coordinates</th>\n",
       "      <th>imovel_vagasGaragem</th>\n",
       "      <th>imovel_area</th>\n",
       "      <th>imovel_caracteristicas_propriedade</th>\n",
       "      <th>imovel_caracteristicas_condominio</th>\n",
       "      <th>imovel_caracteristicas_entorno</th>\n",
       "      <th>anuncio_tipos_publicacao</th>\n",
       "      <th>anuncio_tipos_listagem</th>\n",
       "      <th>anuncio_valores_venda</th>\n",
       "      <th>anuncio_valores_aluguel</th>\n",
       "      <th>anuncio_valores_condominio</th>\n",
       "      <th>anuncio_valores_iptu</th>\n",
       "      <th>anuncio_descricao</th>\n",
       "    </tr>\n",
       "  </thead>\n",
       "  <tbody>\n",
       "    <tr>\n",
       "      <th>0</th>\n",
       "      <td>Casa</td>\n",
       "      <td>Barra da Tijuca</td>\n",
       "      <td>Point</td>\n",
       "      <td>[-43.3039086, -23.0139692]</td>\n",
       "      <td>4</td>\n",
       "      <td>279</td>\n",
       "      <td>['Área de Serviço', 'Terraço', 'Churrasqueira'...</td>\n",
       "      <td>['Churrasqueira', 'Salão de Jogos', 'Sauna', '...</td>\n",
       "      <td>['Próximo a Escola Particular', 'Próximo ao Me...</td>\n",
       "      <td>Padrão</td>\n",
       "      <td>Lançamento</td>\n",
       "      <td>2400000.0</td>\n",
       "      <td>0.0</td>\n",
       "      <td>790.0</td>\n",
       "      <td>5700.0</td>\n",
       "      <td>Amplo imóvel para venda com 3 quartos, sendo 1...</td>\n",
       "    </tr>\n",
       "    <tr>\n",
       "      <th>1</th>\n",
       "      <td>Apartamento</td>\n",
       "      <td>Campo Grande</td>\n",
       "      <td>Point</td>\n",
       "      <td>[0, 0]</td>\n",
       "      <td>1</td>\n",
       "      <td>60</td>\n",
       "      <td>['Sauna']</td>\n",
       "      <td>['Elevador', 'Playground', 'Salão de Festas', ...</td>\n",
       "      <td>['Próximo ao Shopping', 'Próximo a Áreas de La...</td>\n",
       "      <td>Padrão</td>\n",
       "      <td>Usado</td>\n",
       "      <td>200000.0</td>\n",
       "      <td>0.0</td>\n",
       "      <td>0.0</td>\n",
       "      <td>0.0</td>\n",
       "      <td>Amplo imóvel para venda com 2 quartos, sendo 0...</td>\n",
       "    </tr>\n",
       "    <tr>\n",
       "      <th>2</th>\n",
       "      <td>Cobertura</td>\n",
       "      <td>Barra da Tijuca</td>\n",
       "      <td>Point</td>\n",
       "      <td>[-43.3037186, -22.9951304]</td>\n",
       "      <td>2</td>\n",
       "      <td>380</td>\n",
       "      <td>['Acessibilidade', 'Área de Serviço', 'Sauna',...</td>\n",
       "      <td>['Sauna', 'Playground', 'Quadra Poliesportiva'...</td>\n",
       "      <td>['Próximo a Escola Particular']</td>\n",
       "      <td>Premium</td>\n",
       "      <td>Usado</td>\n",
       "      <td>4400000.0</td>\n",
       "      <td>0.0</td>\n",
       "      <td>1200.0</td>\n",
       "      <td>850.0</td>\n",
       "      <td>Amplo imóvel para venda com 5 quartos, sendo 4...</td>\n",
       "    </tr>\n",
       "    <tr>\n",
       "      <th>3</th>\n",
       "      <td>Cobertura</td>\n",
       "      <td>Barra da Tijuca</td>\n",
       "      <td>Point</td>\n",
       "      <td>[-43.3548121, -23.0097423]</td>\n",
       "      <td>1</td>\n",
       "      <td>73</td>\n",
       "      <td>['Vista Panorâmica', 'Piscina', 'Sauna', 'Clos...</td>\n",
       "      <td>['Quadra Poliesportiva', 'Aceita Pet', 'Playgr...</td>\n",
       "      <td>['Próximo a Farmácia', 'Próximo a Academia', '...</td>\n",
       "      <td>Padrão</td>\n",
       "      <td>Usado</td>\n",
       "      <td>1100000.0</td>\n",
       "      <td>0.0</td>\n",
       "      <td>1300.0</td>\n",
       "      <td>364.0</td>\n",
       "      <td>Amplo imóvel para venda com 2 quartos, sendo 1...</td>\n",
       "    </tr>\n",
       "    <tr>\n",
       "      <th>4</th>\n",
       "      <td>Sala Comercial</td>\n",
       "      <td>Glória</td>\n",
       "      <td>Point</td>\n",
       "      <td>[-43.1779703, -22.9174894]</td>\n",
       "      <td>1</td>\n",
       "      <td>32</td>\n",
       "      <td>['Armários Planejados']</td>\n",
       "      <td>['Quadra Poliesportiva', 'Porteiro 24 Horas', ...</td>\n",
       "      <td>['Próximo a Centro Empresarial', 'Próximo a Ár...</td>\n",
       "      <td>Padrão</td>\n",
       "      <td>Usado</td>\n",
       "      <td>260000.0</td>\n",
       "      <td>0.0</td>\n",
       "      <td>450.0</td>\n",
       "      <td>800.0</td>\n",
       "      <td>Amplo imóvel para venda com 0 quartos, sendo 0...</td>\n",
       "    </tr>\n",
       "  </tbody>\n",
       "</table>\n",
       "</div>"
      ],
      "text/plain": [
       "  imovel_tipos_propriedade imovel_endereco_bairro  \\\n",
       "0                     Casa        Barra da Tijuca   \n",
       "1              Apartamento           Campo Grande   \n",
       "2                Cobertura        Barra da Tijuca   \n",
       "3                Cobertura        Barra da Tijuca   \n",
       "4           Sala Comercial                 Glória   \n",
       "\n",
       "  imovel_endereco_localizacao_type imovel_endereco_localizacao_coordinates  \\\n",
       "0                            Point              [-43.3039086, -23.0139692]   \n",
       "1                            Point                                  [0, 0]   \n",
       "2                            Point              [-43.3037186, -22.9951304]   \n",
       "3                            Point              [-43.3548121, -23.0097423]   \n",
       "4                            Point              [-43.1779703, -22.9174894]   \n",
       "\n",
       "   imovel_vagasGaragem  imovel_area  \\\n",
       "0                    4          279   \n",
       "1                    1           60   \n",
       "2                    2          380   \n",
       "3                    1           73   \n",
       "4                    1           32   \n",
       "\n",
       "                  imovel_caracteristicas_propriedade  \\\n",
       "0  ['Área de Serviço', 'Terraço', 'Churrasqueira'...   \n",
       "1                                          ['Sauna']   \n",
       "2  ['Acessibilidade', 'Área de Serviço', 'Sauna',...   \n",
       "3  ['Vista Panorâmica', 'Piscina', 'Sauna', 'Clos...   \n",
       "4                            ['Armários Planejados']   \n",
       "\n",
       "                   imovel_caracteristicas_condominio  \\\n",
       "0  ['Churrasqueira', 'Salão de Jogos', 'Sauna', '...   \n",
       "1  ['Elevador', 'Playground', 'Salão de Festas', ...   \n",
       "2  ['Sauna', 'Playground', 'Quadra Poliesportiva'...   \n",
       "3  ['Quadra Poliesportiva', 'Aceita Pet', 'Playgr...   \n",
       "4  ['Quadra Poliesportiva', 'Porteiro 24 Horas', ...   \n",
       "\n",
       "                      imovel_caracteristicas_entorno anuncio_tipos_publicacao  \\\n",
       "0  ['Próximo a Escola Particular', 'Próximo ao Me...                   Padrão   \n",
       "1  ['Próximo ao Shopping', 'Próximo a Áreas de La...                   Padrão   \n",
       "2                    ['Próximo a Escola Particular']                  Premium   \n",
       "3  ['Próximo a Farmácia', 'Próximo a Academia', '...                   Padrão   \n",
       "4  ['Próximo a Centro Empresarial', 'Próximo a Ár...                   Padrão   \n",
       "\n",
       "  anuncio_tipos_listagem  anuncio_valores_venda  anuncio_valores_aluguel  \\\n",
       "0             Lançamento              2400000.0                      0.0   \n",
       "1                  Usado               200000.0                      0.0   \n",
       "2                  Usado              4400000.0                      0.0   \n",
       "3                  Usado              1100000.0                      0.0   \n",
       "4                  Usado               260000.0                      0.0   \n",
       "\n",
       "   anuncio_valores_condominio  anuncio_valores_iptu  \\\n",
       "0                       790.0                5700.0   \n",
       "1                         0.0                   0.0   \n",
       "2                      1200.0                 850.0   \n",
       "3                      1300.0                 364.0   \n",
       "4                       450.0                 800.0   \n",
       "\n",
       "                                   anuncio_descricao  \n",
       "0  Amplo imóvel para venda com 3 quartos, sendo 1...  \n",
       "1  Amplo imóvel para venda com 2 quartos, sendo 0...  \n",
       "2  Amplo imóvel para venda com 5 quartos, sendo 4...  \n",
       "3  Amplo imóvel para venda com 2 quartos, sendo 1...  \n",
       "4  Amplo imóvel para venda com 0 quartos, sendo 0...  "
      ]
     },
     "execution_count": 20,
     "metadata": {},
     "output_type": "execute_result"
    }
   ],
   "source": [
    "data_normal_listings = pd.json_normalize(data = data_normal['listings'].iloc[0], \n",
    "                                        sep = '_' \n",
    "                                        #max_level = 1\n",
    "                                        )\n",
    "data_normal_listings.head()"
   ]
  },
  {
   "cell_type": "code",
   "execution_count": 21,
   "metadata": {
    "id": "nyYi0xgEevgW"
   },
   "outputs": [
    {
     "data": {
      "text/html": [
       "<div>\n",
       "<style scoped>\n",
       "    .dataframe tbody tr th:only-of-type {\n",
       "        vertical-align: middle;\n",
       "    }\n",
       "\n",
       "    .dataframe tbody tr th {\n",
       "        vertical-align: top;\n",
       "    }\n",
       "\n",
       "    .dataframe thead th {\n",
       "        text-align: right;\n",
       "    }\n",
       "</style>\n",
       "<table border=\"1\" class=\"dataframe\">\n",
       "  <thead>\n",
       "    <tr style=\"text-align: right;\">\n",
       "      <th></th>\n",
       "      <th>imovel_tipos_propriedade</th>\n",
       "      <th>imovel_endereco_bairro</th>\n",
       "      <th>imovel_endereco_localizacao_type</th>\n",
       "      <th>imovel_endereco_localizacao_coordinates</th>\n",
       "      <th>imovel_vagasGaragem</th>\n",
       "      <th>imovel_area</th>\n",
       "      <th>imovel_caracteristicas_propriedade</th>\n",
       "      <th>imovel_caracteristicas_condominio</th>\n",
       "      <th>imovel_caracteristicas_entorno</th>\n",
       "      <th>anuncio_tipos_publicacao</th>\n",
       "      <th>anuncio_tipos_listagem</th>\n",
       "      <th>anuncio_valores_venda</th>\n",
       "      <th>anuncio_valores_aluguel</th>\n",
       "      <th>anuncio_valores_condominio</th>\n",
       "      <th>anuncio_valores_iptu</th>\n",
       "      <th>anuncio_descricao</th>\n",
       "    </tr>\n",
       "  </thead>\n",
       "  <tbody>\n",
       "    <tr>\n",
       "      <th>0</th>\n",
       "      <td>Casa</td>\n",
       "      <td>Barra da Tijuca</td>\n",
       "      <td>Point</td>\n",
       "      <td>[-43.3039086, -23.0139692]</td>\n",
       "      <td>4</td>\n",
       "      <td>279</td>\n",
       "      <td>['Área de Serviço', 'Terraço', 'Churrasqueira'...</td>\n",
       "      <td>['Churrasqueira', 'Salão de Jogos', 'Sauna', '...</td>\n",
       "      <td>['Próximo a Escola Particular', 'Próximo ao Me...</td>\n",
       "      <td>Padrão</td>\n",
       "      <td>Lançamento</td>\n",
       "      <td>2400000.0</td>\n",
       "      <td>0.0</td>\n",
       "      <td>790.0</td>\n",
       "      <td>5700.0</td>\n",
       "      <td>Amplo imóvel para venda com 3 quartos, sendo 1...</td>\n",
       "    </tr>\n",
       "    <tr>\n",
       "      <th>1</th>\n",
       "      <td>Apartamento</td>\n",
       "      <td>Campo Grande</td>\n",
       "      <td>Point</td>\n",
       "      <td>[0, 0]</td>\n",
       "      <td>1</td>\n",
       "      <td>60</td>\n",
       "      <td>['Sauna']</td>\n",
       "      <td>['Elevador', 'Playground', 'Salão de Festas', ...</td>\n",
       "      <td>['Próximo ao Shopping', 'Próximo a Áreas de La...</td>\n",
       "      <td>Padrão</td>\n",
       "      <td>Usado</td>\n",
       "      <td>200000.0</td>\n",
       "      <td>0.0</td>\n",
       "      <td>0.0</td>\n",
       "      <td>0.0</td>\n",
       "      <td>Amplo imóvel para venda com 2 quartos, sendo 0...</td>\n",
       "    </tr>\n",
       "    <tr>\n",
       "      <th>2</th>\n",
       "      <td>Cobertura</td>\n",
       "      <td>Barra da Tijuca</td>\n",
       "      <td>Point</td>\n",
       "      <td>[-43.3037186, -22.9951304]</td>\n",
       "      <td>2</td>\n",
       "      <td>380</td>\n",
       "      <td>['Acessibilidade', 'Área de Serviço', 'Sauna',...</td>\n",
       "      <td>['Sauna', 'Playground', 'Quadra Poliesportiva'...</td>\n",
       "      <td>['Próximo a Escola Particular']</td>\n",
       "      <td>Premium</td>\n",
       "      <td>Usado</td>\n",
       "      <td>4400000.0</td>\n",
       "      <td>0.0</td>\n",
       "      <td>1200.0</td>\n",
       "      <td>850.0</td>\n",
       "      <td>Amplo imóvel para venda com 5 quartos, sendo 4...</td>\n",
       "    </tr>\n",
       "    <tr>\n",
       "      <th>3</th>\n",
       "      <td>Cobertura</td>\n",
       "      <td>Barra da Tijuca</td>\n",
       "      <td>Point</td>\n",
       "      <td>[-43.3548121, -23.0097423]</td>\n",
       "      <td>1</td>\n",
       "      <td>73</td>\n",
       "      <td>['Vista Panorâmica', 'Piscina', 'Sauna', 'Clos...</td>\n",
       "      <td>['Quadra Poliesportiva', 'Aceita Pet', 'Playgr...</td>\n",
       "      <td>['Próximo a Farmácia', 'Próximo a Academia', '...</td>\n",
       "      <td>Padrão</td>\n",
       "      <td>Usado</td>\n",
       "      <td>1100000.0</td>\n",
       "      <td>0.0</td>\n",
       "      <td>1300.0</td>\n",
       "      <td>364.0</td>\n",
       "      <td>Amplo imóvel para venda com 2 quartos, sendo 1...</td>\n",
       "    </tr>\n",
       "    <tr>\n",
       "      <th>4</th>\n",
       "      <td>Sala Comercial</td>\n",
       "      <td>Glória</td>\n",
       "      <td>Point</td>\n",
       "      <td>[-43.1779703, -22.9174894]</td>\n",
       "      <td>1</td>\n",
       "      <td>32</td>\n",
       "      <td>['Armários Planejados']</td>\n",
       "      <td>['Quadra Poliesportiva', 'Porteiro 24 Horas', ...</td>\n",
       "      <td>['Próximo a Centro Empresarial', 'Próximo a Ár...</td>\n",
       "      <td>Padrão</td>\n",
       "      <td>Usado</td>\n",
       "      <td>260000.0</td>\n",
       "      <td>0.0</td>\n",
       "      <td>450.0</td>\n",
       "      <td>800.0</td>\n",
       "      <td>Amplo imóvel para venda com 0 quartos, sendo 0...</td>\n",
       "    </tr>\n",
       "  </tbody>\n",
       "</table>\n",
       "</div>"
      ],
      "text/plain": [
       "  imovel_tipos_propriedade imovel_endereco_bairro  \\\n",
       "0                     Casa        Barra da Tijuca   \n",
       "1              Apartamento           Campo Grande   \n",
       "2                Cobertura        Barra da Tijuca   \n",
       "3                Cobertura        Barra da Tijuca   \n",
       "4           Sala Comercial                 Glória   \n",
       "\n",
       "  imovel_endereco_localizacao_type imovel_endereco_localizacao_coordinates  \\\n",
       "0                            Point              [-43.3039086, -23.0139692]   \n",
       "1                            Point                                  [0, 0]   \n",
       "2                            Point              [-43.3037186, -22.9951304]   \n",
       "3                            Point              [-43.3548121, -23.0097423]   \n",
       "4                            Point              [-43.1779703, -22.9174894]   \n",
       "\n",
       "   imovel_vagasGaragem  imovel_area  \\\n",
       "0                    4          279   \n",
       "1                    1           60   \n",
       "2                    2          380   \n",
       "3                    1           73   \n",
       "4                    1           32   \n",
       "\n",
       "                  imovel_caracteristicas_propriedade  \\\n",
       "0  ['Área de Serviço', 'Terraço', 'Churrasqueira'...   \n",
       "1                                          ['Sauna']   \n",
       "2  ['Acessibilidade', 'Área de Serviço', 'Sauna',...   \n",
       "3  ['Vista Panorâmica', 'Piscina', 'Sauna', 'Clos...   \n",
       "4                            ['Armários Planejados']   \n",
       "\n",
       "                   imovel_caracteristicas_condominio  \\\n",
       "0  ['Churrasqueira', 'Salão de Jogos', 'Sauna', '...   \n",
       "1  ['Elevador', 'Playground', 'Salão de Festas', ...   \n",
       "2  ['Sauna', 'Playground', 'Quadra Poliesportiva'...   \n",
       "3  ['Quadra Poliesportiva', 'Aceita Pet', 'Playgr...   \n",
       "4  ['Quadra Poliesportiva', 'Porteiro 24 Horas', ...   \n",
       "\n",
       "                      imovel_caracteristicas_entorno anuncio_tipos_publicacao  \\\n",
       "0  ['Próximo a Escola Particular', 'Próximo ao Me...                   Padrão   \n",
       "1  ['Próximo ao Shopping', 'Próximo a Áreas de La...                   Padrão   \n",
       "2                    ['Próximo a Escola Particular']                  Premium   \n",
       "3  ['Próximo a Farmácia', 'Próximo a Academia', '...                   Padrão   \n",
       "4  ['Próximo a Centro Empresarial', 'Próximo a Ár...                   Padrão   \n",
       "\n",
       "  anuncio_tipos_listagem  anuncio_valores_venda  anuncio_valores_aluguel  \\\n",
       "0             Lançamento              2400000.0                      0.0   \n",
       "1                  Usado               200000.0                      0.0   \n",
       "2                  Usado              4400000.0                      0.0   \n",
       "3                  Usado              1100000.0                      0.0   \n",
       "4                  Usado               260000.0                      0.0   \n",
       "\n",
       "   anuncio_valores_condominio  anuncio_valores_iptu  \\\n",
       "0                       790.0                5700.0   \n",
       "1                         0.0                   0.0   \n",
       "2                      1200.0                 850.0   \n",
       "3                      1300.0                 364.0   \n",
       "4                       450.0                 800.0   \n",
       "\n",
       "                                   anuncio_descricao  \n",
       "0  Amplo imóvel para venda com 3 quartos, sendo 1...  \n",
       "1  Amplo imóvel para venda com 2 quartos, sendo 0...  \n",
       "2  Amplo imóvel para venda com 5 quartos, sendo 4...  \n",
       "3  Amplo imóvel para venda com 2 quartos, sendo 1...  \n",
       "4  Amplo imóvel para venda com 0 quartos, sendo 0...  "
      ]
     },
     "execution_count": 21,
     "metadata": {},
     "output_type": "execute_result"
    }
   ],
   "source": [
    "data_normal_listings = pd.json_normalize(data = data.normal, \n",
    "                                        sep = '_',  \n",
    "                                        record_path = ['listings']\n",
    "                                        )\n",
    "data_normal_listings.head()"
   ]
  },
  {
   "cell_type": "code",
   "execution_count": 22,
   "metadata": {
    "id": "DJqqVu0YevgX"
   },
   "outputs": [
    {
     "data": {
      "text/html": [
       "<div>\n",
       "<style scoped>\n",
       "    .dataframe tbody tr th:only-of-type {\n",
       "        vertical-align: middle;\n",
       "    }\n",
       "\n",
       "    .dataframe tbody tr th {\n",
       "        vertical-align: top;\n",
       "    }\n",
       "\n",
       "    .dataframe thead th {\n",
       "        text-align: right;\n",
       "    }\n",
       "</style>\n",
       "<table border=\"1\" class=\"dataframe\">\n",
       "  <thead>\n",
       "    <tr style=\"text-align: right;\">\n",
       "      <th></th>\n",
       "      <th>imovel_tipos_propriedade</th>\n",
       "      <th>imovel_endereco_bairro</th>\n",
       "      <th>imovel_endereco_localizacao_type</th>\n",
       "      <th>imovel_endereco_localizacao_coordinates</th>\n",
       "      <th>imovel_vagasGaragem</th>\n",
       "      <th>imovel_area</th>\n",
       "      <th>imovel_caracteristicas_propriedade</th>\n",
       "      <th>imovel_caracteristicas_condominio</th>\n",
       "      <th>imovel_caracteristicas_entorno</th>\n",
       "      <th>anuncio_tipos_publicacao</th>\n",
       "      <th>anuncio_tipos_listagem</th>\n",
       "      <th>anuncio_valores_venda</th>\n",
       "      <th>anuncio_valores_aluguel</th>\n",
       "      <th>anuncio_valores_condominio</th>\n",
       "      <th>anuncio_valores_iptu</th>\n",
       "      <th>anuncio_descricao</th>\n",
       "    </tr>\n",
       "  </thead>\n",
       "  <tbody>\n",
       "    <tr>\n",
       "      <th>0</th>\n",
       "      <td>Casa</td>\n",
       "      <td>Engenho Novo</td>\n",
       "      <td>Point</td>\n",
       "      <td>[-43.2634918, -22.8971768]</td>\n",
       "      <td>0</td>\n",
       "      <td>0</td>\n",
       "      <td>['Sauna', 'Terraço', 'Acessibilidade', 'Mobili...</td>\n",
       "      <td>['Estacionamento Coberto', 'Estacionamento Vis...</td>\n",
       "      <td>['Próximo a Serviços de Saúde', 'Próximo ao Sh...</td>\n",
       "      <td>Padrão</td>\n",
       "      <td>Usado</td>\n",
       "      <td>195772.0</td>\n",
       "      <td>0.0</td>\n",
       "      <td>0.0</td>\n",
       "      <td>0.0</td>\n",
       "      <td>Amplo imóvel para venda com 0 quartos, sendo 0...</td>\n",
       "    </tr>\n",
       "    <tr>\n",
       "      <th>1</th>\n",
       "      <td>Cobertura</td>\n",
       "      <td>Vargem Grande</td>\n",
       "      <td>Point</td>\n",
       "      <td>[-43.4907917, -22.988122]</td>\n",
       "      <td>1</td>\n",
       "      <td>61</td>\n",
       "      <td>[]</td>\n",
       "      <td>['Estacionamento Visitantes', 'Estacionamento ...</td>\n",
       "      <td>['Próximo ao Metrô', 'Próximo a Praia', 'Próxi...</td>\n",
       "      <td>Destaque</td>\n",
       "      <td>Usado</td>\n",
       "      <td>305000.0</td>\n",
       "      <td>0.0</td>\n",
       "      <td>667.0</td>\n",
       "      <td>162.0</td>\n",
       "      <td>Amplo imóvel para venda com 2 quartos, sendo 0...</td>\n",
       "    </tr>\n",
       "    <tr>\n",
       "      <th>2</th>\n",
       "      <td>Imóvel Comercial</td>\n",
       "      <td>Ribeira</td>\n",
       "      <td>Point</td>\n",
       "      <td>[-43.1690005, -22.8239272]</td>\n",
       "      <td>4</td>\n",
       "      <td>180</td>\n",
       "      <td>['Vista Panorâmica', 'Acessibilidade', 'Área d...</td>\n",
       "      <td>['Segurança Interna', 'Salão de Festas', 'Acad...</td>\n",
       "      <td>['Próximo a Restaurante', 'Próximo a Praia', '...</td>\n",
       "      <td>Padrão</td>\n",
       "      <td>Usado</td>\n",
       "      <td>1050000.0</td>\n",
       "      <td>0.0</td>\n",
       "      <td>0.0</td>\n",
       "      <td>315.0</td>\n",
       "      <td>Amplo imóvel para venda com 3 quartos, sendo 1...</td>\n",
       "    </tr>\n",
       "    <tr>\n",
       "      <th>3</th>\n",
       "      <td>Apartamento</td>\n",
       "      <td>Praça Seca</td>\n",
       "      <td>Point</td>\n",
       "      <td>[0, 0]</td>\n",
       "      <td>1</td>\n",
       "      <td>50</td>\n",
       "      <td>['Sauna', 'Quarto/WC Empregada']</td>\n",
       "      <td>['Salão de Jogos', 'Segurança Interna', 'Estac...</td>\n",
       "      <td>['Próximo ao Shopping', 'Próximo a Escola Part...</td>\n",
       "      <td>Padrão</td>\n",
       "      <td>Usado</td>\n",
       "      <td>250000.0</td>\n",
       "      <td>0.0</td>\n",
       "      <td>350.0</td>\n",
       "      <td>150.0</td>\n",
       "      <td>Amplo imóvel para venda com 2 quartos, sendo 0...</td>\n",
       "    </tr>\n",
       "    <tr>\n",
       "      <th>4</th>\n",
       "      <td>Apartamento</td>\n",
       "      <td>Honório Gurgel</td>\n",
       "      <td>Point</td>\n",
       "      <td>[-43.3614243, -22.8416031]</td>\n",
       "      <td>0</td>\n",
       "      <td>148</td>\n",
       "      <td>['Terraço', 'Piscina', 'Gás Encanado', 'Acessi...</td>\n",
       "      <td>['Sauna', 'Bicicletário', 'Academia', 'Serviço...</td>\n",
       "      <td>['Próximo a Serviços de Saúde', 'Próximo a Far...</td>\n",
       "      <td>Destaque</td>\n",
       "      <td>Lançamento</td>\n",
       "      <td>165000.0</td>\n",
       "      <td>0.0</td>\n",
       "      <td>270.0</td>\n",
       "      <td>0.0</td>\n",
       "      <td>Amplo imóvel para venda com 2 quartos, sendo 0...</td>\n",
       "    </tr>\n",
       "  </tbody>\n",
       "</table>\n",
       "</div>"
      ],
      "text/plain": [
       "  imovel_tipos_propriedade imovel_endereco_bairro  \\\n",
       "0                     Casa           Engenho Novo   \n",
       "1                Cobertura          Vargem Grande   \n",
       "2         Imóvel Comercial                Ribeira   \n",
       "3              Apartamento             Praça Seca   \n",
       "4              Apartamento         Honório Gurgel   \n",
       "\n",
       "  imovel_endereco_localizacao_type imovel_endereco_localizacao_coordinates  \\\n",
       "0                            Point              [-43.2634918, -22.8971768]   \n",
       "1                            Point               [-43.4907917, -22.988122]   \n",
       "2                            Point              [-43.1690005, -22.8239272]   \n",
       "3                            Point                                  [0, 0]   \n",
       "4                            Point              [-43.3614243, -22.8416031]   \n",
       "\n",
       "   imovel_vagasGaragem  imovel_area  \\\n",
       "0                    0            0   \n",
       "1                    1           61   \n",
       "2                    4          180   \n",
       "3                    1           50   \n",
       "4                    0          148   \n",
       "\n",
       "                  imovel_caracteristicas_propriedade  \\\n",
       "0  ['Sauna', 'Terraço', 'Acessibilidade', 'Mobili...   \n",
       "1                                                 []   \n",
       "2  ['Vista Panorâmica', 'Acessibilidade', 'Área d...   \n",
       "3                   ['Sauna', 'Quarto/WC Empregada']   \n",
       "4  ['Terraço', 'Piscina', 'Gás Encanado', 'Acessi...   \n",
       "\n",
       "                   imovel_caracteristicas_condominio  \\\n",
       "0  ['Estacionamento Coberto', 'Estacionamento Vis...   \n",
       "1  ['Estacionamento Visitantes', 'Estacionamento ...   \n",
       "2  ['Segurança Interna', 'Salão de Festas', 'Acad...   \n",
       "3  ['Salão de Jogos', 'Segurança Interna', 'Estac...   \n",
       "4  ['Sauna', 'Bicicletário', 'Academia', 'Serviço...   \n",
       "\n",
       "                      imovel_caracteristicas_entorno anuncio_tipos_publicacao  \\\n",
       "0  ['Próximo a Serviços de Saúde', 'Próximo ao Sh...                   Padrão   \n",
       "1  ['Próximo ao Metrô', 'Próximo a Praia', 'Próxi...                 Destaque   \n",
       "2  ['Próximo a Restaurante', 'Próximo a Praia', '...                   Padrão   \n",
       "3  ['Próximo ao Shopping', 'Próximo a Escola Part...                   Padrão   \n",
       "4  ['Próximo a Serviços de Saúde', 'Próximo a Far...                 Destaque   \n",
       "\n",
       "  anuncio_tipos_listagem  anuncio_valores_venda  anuncio_valores_aluguel  \\\n",
       "0                  Usado               195772.0                      0.0   \n",
       "1                  Usado               305000.0                      0.0   \n",
       "2                  Usado              1050000.0                      0.0   \n",
       "3                  Usado               250000.0                      0.0   \n",
       "4             Lançamento               165000.0                      0.0   \n",
       "\n",
       "   anuncio_valores_condominio  anuncio_valores_iptu  \\\n",
       "0                         0.0                   0.0   \n",
       "1                       667.0                 162.0   \n",
       "2                         0.0                 315.0   \n",
       "3                       350.0                 150.0   \n",
       "4                       270.0                   0.0   \n",
       "\n",
       "                                   anuncio_descricao  \n",
       "0  Amplo imóvel para venda com 0 quartos, sendo 0...  \n",
       "1  Amplo imóvel para venda com 2 quartos, sendo 0...  \n",
       "2  Amplo imóvel para venda com 3 quartos, sendo 1...  \n",
       "3  Amplo imóvel para venda com 2 quartos, sendo 0...  \n",
       "4  Amplo imóvel para venda com 2 quartos, sendo 0...  "
      ]
     },
     "execution_count": 22,
     "metadata": {},
     "output_type": "execute_result"
    }
   ],
   "source": [
    "data_highlights_listings = pd.json_normalize(data = data.highlights, \n",
    "                                        sep = '_',  \n",
    "                                        record_path = ['listings']\n",
    "                                        )\n",
    "data_highlights_listings.head()"
   ]
  },
  {
   "cell_type": "markdown",
   "metadata": {
    "id": "cpaDGnecevgX"
   },
   "source": [
    "## Trabalhando com dados textuais"
   ]
  },
  {
   "cell_type": "markdown",
   "metadata": {
    "id": "CMgPdhFNevgX"
   },
   "source": [
    "### Transformando *strings* em listas do Python"
   ]
  },
  {
   "cell_type": "code",
   "execution_count": 23,
   "metadata": {
    "id": "vJmnnHZ_evgY",
    "scrolled": true
   },
   "outputs": [
    {
     "data": {
      "text/html": [
       "<div>\n",
       "<style scoped>\n",
       "    .dataframe tbody tr th:only-of-type {\n",
       "        vertical-align: middle;\n",
       "    }\n",
       "\n",
       "    .dataframe tbody tr th {\n",
       "        vertical-align: top;\n",
       "    }\n",
       "\n",
       "    .dataframe thead th {\n",
       "        text-align: right;\n",
       "    }\n",
       "</style>\n",
       "<table border=\"1\" class=\"dataframe\">\n",
       "  <thead>\n",
       "    <tr style=\"text-align: right;\">\n",
       "      <th></th>\n",
       "      <th>imovel_tipos_propriedade</th>\n",
       "      <th>imovel_endereco_bairro</th>\n",
       "      <th>imovel_endereco_localizacao_type</th>\n",
       "      <th>imovel_endereco_localizacao_coordinates</th>\n",
       "      <th>imovel_vagasGaragem</th>\n",
       "      <th>imovel_area</th>\n",
       "      <th>imovel_caracteristicas_propriedade</th>\n",
       "      <th>imovel_caracteristicas_condominio</th>\n",
       "      <th>imovel_caracteristicas_entorno</th>\n",
       "      <th>anuncio_tipos_publicacao</th>\n",
       "      <th>anuncio_tipos_listagem</th>\n",
       "      <th>anuncio_valores_venda</th>\n",
       "      <th>anuncio_valores_aluguel</th>\n",
       "      <th>anuncio_valores_condominio</th>\n",
       "      <th>anuncio_valores_iptu</th>\n",
       "      <th>anuncio_descricao</th>\n",
       "    </tr>\n",
       "  </thead>\n",
       "  <tbody>\n",
       "    <tr>\n",
       "      <th>0</th>\n",
       "      <td>Casa</td>\n",
       "      <td>Barra da Tijuca</td>\n",
       "      <td>Point</td>\n",
       "      <td>[-43.3039086, -23.0139692]</td>\n",
       "      <td>4</td>\n",
       "      <td>279</td>\n",
       "      <td>['Área de Serviço', 'Terraço', 'Churrasqueira'...</td>\n",
       "      <td>['Churrasqueira', 'Salão de Jogos', 'Sauna', '...</td>\n",
       "      <td>['Próximo a Escola Particular', 'Próximo ao Me...</td>\n",
       "      <td>Padrão</td>\n",
       "      <td>Lançamento</td>\n",
       "      <td>2400000.0</td>\n",
       "      <td>0.0</td>\n",
       "      <td>790.0</td>\n",
       "      <td>5700.0</td>\n",
       "      <td>Amplo imóvel para venda com 3 quartos, sendo 1...</td>\n",
       "    </tr>\n",
       "    <tr>\n",
       "      <th>1</th>\n",
       "      <td>Apartamento</td>\n",
       "      <td>Campo Grande</td>\n",
       "      <td>Point</td>\n",
       "      <td>[0, 0]</td>\n",
       "      <td>1</td>\n",
       "      <td>60</td>\n",
       "      <td>['Sauna']</td>\n",
       "      <td>['Elevador', 'Playground', 'Salão de Festas', ...</td>\n",
       "      <td>['Próximo ao Shopping', 'Próximo a Áreas de La...</td>\n",
       "      <td>Padrão</td>\n",
       "      <td>Usado</td>\n",
       "      <td>200000.0</td>\n",
       "      <td>0.0</td>\n",
       "      <td>0.0</td>\n",
       "      <td>0.0</td>\n",
       "      <td>Amplo imóvel para venda com 2 quartos, sendo 0...</td>\n",
       "    </tr>\n",
       "    <tr>\n",
       "      <th>2</th>\n",
       "      <td>Cobertura</td>\n",
       "      <td>Barra da Tijuca</td>\n",
       "      <td>Point</td>\n",
       "      <td>[-43.3037186, -22.9951304]</td>\n",
       "      <td>2</td>\n",
       "      <td>380</td>\n",
       "      <td>['Acessibilidade', 'Área de Serviço', 'Sauna',...</td>\n",
       "      <td>['Sauna', 'Playground', 'Quadra Poliesportiva'...</td>\n",
       "      <td>['Próximo a Escola Particular']</td>\n",
       "      <td>Premium</td>\n",
       "      <td>Usado</td>\n",
       "      <td>4400000.0</td>\n",
       "      <td>0.0</td>\n",
       "      <td>1200.0</td>\n",
       "      <td>850.0</td>\n",
       "      <td>Amplo imóvel para venda com 5 quartos, sendo 4...</td>\n",
       "    </tr>\n",
       "    <tr>\n",
       "      <th>3</th>\n",
       "      <td>Cobertura</td>\n",
       "      <td>Barra da Tijuca</td>\n",
       "      <td>Point</td>\n",
       "      <td>[-43.3548121, -23.0097423]</td>\n",
       "      <td>1</td>\n",
       "      <td>73</td>\n",
       "      <td>['Vista Panorâmica', 'Piscina', 'Sauna', 'Clos...</td>\n",
       "      <td>['Quadra Poliesportiva', 'Aceita Pet', 'Playgr...</td>\n",
       "      <td>['Próximo a Farmácia', 'Próximo a Academia', '...</td>\n",
       "      <td>Padrão</td>\n",
       "      <td>Usado</td>\n",
       "      <td>1100000.0</td>\n",
       "      <td>0.0</td>\n",
       "      <td>1300.0</td>\n",
       "      <td>364.0</td>\n",
       "      <td>Amplo imóvel para venda com 2 quartos, sendo 1...</td>\n",
       "    </tr>\n",
       "    <tr>\n",
       "      <th>4</th>\n",
       "      <td>Sala Comercial</td>\n",
       "      <td>Glória</td>\n",
       "      <td>Point</td>\n",
       "      <td>[-43.1779703, -22.9174894]</td>\n",
       "      <td>1</td>\n",
       "      <td>32</td>\n",
       "      <td>['Armários Planejados']</td>\n",
       "      <td>['Quadra Poliesportiva', 'Porteiro 24 Horas', ...</td>\n",
       "      <td>['Próximo a Centro Empresarial', 'Próximo a Ár...</td>\n",
       "      <td>Padrão</td>\n",
       "      <td>Usado</td>\n",
       "      <td>260000.0</td>\n",
       "      <td>0.0</td>\n",
       "      <td>450.0</td>\n",
       "      <td>800.0</td>\n",
       "      <td>Amplo imóvel para venda com 0 quartos, sendo 0...</td>\n",
       "    </tr>\n",
       "  </tbody>\n",
       "</table>\n",
       "</div>"
      ],
      "text/plain": [
       "  imovel_tipos_propriedade imovel_endereco_bairro  \\\n",
       "0                     Casa        Barra da Tijuca   \n",
       "1              Apartamento           Campo Grande   \n",
       "2                Cobertura        Barra da Tijuca   \n",
       "3                Cobertura        Barra da Tijuca   \n",
       "4           Sala Comercial                 Glória   \n",
       "\n",
       "  imovel_endereco_localizacao_type imovel_endereco_localizacao_coordinates  \\\n",
       "0                            Point              [-43.3039086, -23.0139692]   \n",
       "1                            Point                                  [0, 0]   \n",
       "2                            Point              [-43.3037186, -22.9951304]   \n",
       "3                            Point              [-43.3548121, -23.0097423]   \n",
       "4                            Point              [-43.1779703, -22.9174894]   \n",
       "\n",
       "   imovel_vagasGaragem  imovel_area  \\\n",
       "0                    4          279   \n",
       "1                    1           60   \n",
       "2                    2          380   \n",
       "3                    1           73   \n",
       "4                    1           32   \n",
       "\n",
       "                  imovel_caracteristicas_propriedade  \\\n",
       "0  ['Área de Serviço', 'Terraço', 'Churrasqueira'...   \n",
       "1                                          ['Sauna']   \n",
       "2  ['Acessibilidade', 'Área de Serviço', 'Sauna',...   \n",
       "3  ['Vista Panorâmica', 'Piscina', 'Sauna', 'Clos...   \n",
       "4                            ['Armários Planejados']   \n",
       "\n",
       "                   imovel_caracteristicas_condominio  \\\n",
       "0  ['Churrasqueira', 'Salão de Jogos', 'Sauna', '...   \n",
       "1  ['Elevador', 'Playground', 'Salão de Festas', ...   \n",
       "2  ['Sauna', 'Playground', 'Quadra Poliesportiva'...   \n",
       "3  ['Quadra Poliesportiva', 'Aceita Pet', 'Playgr...   \n",
       "4  ['Quadra Poliesportiva', 'Porteiro 24 Horas', ...   \n",
       "\n",
       "                      imovel_caracteristicas_entorno anuncio_tipos_publicacao  \\\n",
       "0  ['Próximo a Escola Particular', 'Próximo ao Me...                   Padrão   \n",
       "1  ['Próximo ao Shopping', 'Próximo a Áreas de La...                   Padrão   \n",
       "2                    ['Próximo a Escola Particular']                  Premium   \n",
       "3  ['Próximo a Farmácia', 'Próximo a Academia', '...                   Padrão   \n",
       "4  ['Próximo a Centro Empresarial', 'Próximo a Ár...                   Padrão   \n",
       "\n",
       "  anuncio_tipos_listagem  anuncio_valores_venda  anuncio_valores_aluguel  \\\n",
       "0             Lançamento              2400000.0                      0.0   \n",
       "1                  Usado               200000.0                      0.0   \n",
       "2                  Usado              4400000.0                      0.0   \n",
       "3                  Usado              1100000.0                      0.0   \n",
       "4                  Usado               260000.0                      0.0   \n",
       "\n",
       "   anuncio_valores_condominio  anuncio_valores_iptu  \\\n",
       "0                       790.0                5700.0   \n",
       "1                         0.0                   0.0   \n",
       "2                      1200.0                 850.0   \n",
       "3                      1300.0                 364.0   \n",
       "4                       450.0                 800.0   \n",
       "\n",
       "                                   anuncio_descricao  \n",
       "0  Amplo imóvel para venda com 3 quartos, sendo 1...  \n",
       "1  Amplo imóvel para venda com 2 quartos, sendo 0...  \n",
       "2  Amplo imóvel para venda com 5 quartos, sendo 4...  \n",
       "3  Amplo imóvel para venda com 2 quartos, sendo 1...  \n",
       "4  Amplo imóvel para venda com 0 quartos, sendo 0...  "
      ]
     },
     "execution_count": 23,
     "metadata": {},
     "output_type": "execute_result"
    }
   ],
   "source": [
    "data_normal_listings.head()"
   ]
  },
  {
   "cell_type": "code",
   "execution_count": 24,
   "metadata": {
    "id": "karvMBcBifJf"
   },
   "outputs": [
    {
     "data": {
      "text/plain": [
       "\"['Área de Serviço', 'Terraço', 'Churrasqueira', 'Quarto/WC Empregada', 'Sauna', 'Varanda', 'Gás Encanado', 'Closet', 'Piscina', 'Mobiliado', 'Armários Planejados', 'Acessibilidade']\""
      ]
     },
     "execution_count": 24,
     "metadata": {},
     "output_type": "execute_result"
    }
   ],
   "source": [
    "str_list = data_normal_listings.loc[0, 'imovel_caracteristicas_propriedade']\n",
    "str_list"
   ]
  },
  {
   "cell_type": "code",
   "execution_count": 25,
   "metadata": {
    "id": "Cw5aR9T4ifJg"
   },
   "outputs": [
    {
     "data": {
      "text/plain": [
       "str"
      ]
     },
     "execution_count": 25,
     "metadata": {},
     "output_type": "execute_result"
    }
   ],
   "source": [
    "type(str_list)"
   ]
  },
  {
   "cell_type": "markdown",
   "metadata": {
    "id": "cYPl0qylifJj"
   },
   "source": [
    "#### Métodos de *strings*\n",
    "\n",
    "[Documentação](https://docs.python.org/3.6/library/stdtypes.html#string-methods)"
   ]
  },
  {
   "cell_type": "code",
   "execution_count": 26,
   "metadata": {
    "id": "IYEo2u_bifJl"
   },
   "outputs": [
    {
     "data": {
      "text/plain": [
       "['Área de Serviço',\n",
       " 'Terraço',\n",
       " 'Churrasqueira',\n",
       " 'Quarto/WC Empregada',\n",
       " 'Sauna',\n",
       " 'Varanda',\n",
       " 'Gás Encanado',\n",
       " 'Closet',\n",
       " 'Piscina',\n",
       " 'Mobiliado',\n",
       " 'Armários Planejados',\n",
       " 'Acessibilidade']"
      ]
     },
     "execution_count": 26,
     "metadata": {},
     "output_type": "execute_result"
    }
   ],
   "source": [
    "str_list[1:-1].replace(\"'\", \"\").split(', ')"
   ]
  },
  {
   "cell_type": "code",
   "execution_count": 27,
   "metadata": {
    "id": "QEy7_TWJevgZ"
   },
   "outputs": [
    {
     "data": {
      "text/plain": [
       "0    [Área de Serviço, Terraço, Churrasqueira, Quar...\n",
       "1                                              [Sauna]\n",
       "2    [Acessibilidade, Área de Serviço, Sauna, Ambie...\n",
       "3    [Vista Panorâmica, Piscina, Sauna, Closet, Mob...\n",
       "4                                [Armários Planejados]\n",
       "Name: imovel_caracteristicas_propriedade, dtype: object"
      ]
     },
     "execution_count": 27,
     "metadata": {},
     "output_type": "execute_result"
    }
   ],
   "source": [
    "# alternative method\n",
    "# text.str[1:-1].str.replace(\"'\", \"\").str.split(', ')\n",
    "text = data_normal_listings.loc[:, 'imovel_caracteristicas_propriedade'].apply(lambda x : x[1:-1].replace(\"'\", \"\").split(', '))\n",
    "text.head()"
   ]
  },
  {
   "cell_type": "markdown",
   "metadata": {
    "id": "8Ak250BYevga"
   },
   "source": [
    "#### `str`\n",
    "\n",
    "[Documentação](https://pandas.pydata.org/pandas-docs/stable/reference/api/pandas.Series.str.html)"
   ]
  },
  {
   "cell_type": "markdown",
   "metadata": {
    "id": "udrVGc3_evgb"
   },
   "source": [
    "#### `filter`\n",
    "\n",
    "[Documentação](https://pandas.pydata.org/pandas-docs/stable/reference/api/pandas.DataFrame.filter.html)"
   ]
  },
  {
   "cell_type": "code",
   "execution_count": 28,
   "metadata": {
    "id": "7uNZ9jOCevgc"
   },
   "outputs": [
    {
     "data": {
      "text/html": [
       "<div>\n",
       "<style scoped>\n",
       "    .dataframe tbody tr th:only-of-type {\n",
       "        vertical-align: middle;\n",
       "    }\n",
       "\n",
       "    .dataframe tbody tr th {\n",
       "        vertical-align: top;\n",
       "    }\n",
       "\n",
       "    .dataframe thead th {\n",
       "        text-align: right;\n",
       "    }\n",
       "</style>\n",
       "<table border=\"1\" class=\"dataframe\">\n",
       "  <thead>\n",
       "    <tr style=\"text-align: right;\">\n",
       "      <th></th>\n",
       "      <th>imovel_caracteristicas_propriedade</th>\n",
       "      <th>imovel_caracteristicas_condominio</th>\n",
       "      <th>imovel_caracteristicas_entorno</th>\n",
       "    </tr>\n",
       "  </thead>\n",
       "  <tbody>\n",
       "    <tr>\n",
       "      <th>0</th>\n",
       "      <td>['Área de Serviço', 'Terraço', 'Churrasqueira'...</td>\n",
       "      <td>['Churrasqueira', 'Salão de Jogos', 'Sauna', '...</td>\n",
       "      <td>['Próximo a Escola Particular', 'Próximo ao Me...</td>\n",
       "    </tr>\n",
       "    <tr>\n",
       "      <th>1</th>\n",
       "      <td>['Sauna']</td>\n",
       "      <td>['Elevador', 'Playground', 'Salão de Festas', ...</td>\n",
       "      <td>['Próximo ao Shopping', 'Próximo a Áreas de La...</td>\n",
       "    </tr>\n",
       "    <tr>\n",
       "      <th>2</th>\n",
       "      <td>['Acessibilidade', 'Área de Serviço', 'Sauna',...</td>\n",
       "      <td>['Sauna', 'Playground', 'Quadra Poliesportiva'...</td>\n",
       "      <td>['Próximo a Escola Particular']</td>\n",
       "    </tr>\n",
       "    <tr>\n",
       "      <th>3</th>\n",
       "      <td>['Vista Panorâmica', 'Piscina', 'Sauna', 'Clos...</td>\n",
       "      <td>['Quadra Poliesportiva', 'Aceita Pet', 'Playgr...</td>\n",
       "      <td>['Próximo a Farmácia', 'Próximo a Academia', '...</td>\n",
       "    </tr>\n",
       "    <tr>\n",
       "      <th>4</th>\n",
       "      <td>['Armários Planejados']</td>\n",
       "      <td>['Quadra Poliesportiva', 'Porteiro 24 Horas', ...</td>\n",
       "      <td>['Próximo a Centro Empresarial', 'Próximo a Ár...</td>\n",
       "    </tr>\n",
       "  </tbody>\n",
       "</table>\n",
       "</div>"
      ],
      "text/plain": [
       "                  imovel_caracteristicas_propriedade  \\\n",
       "0  ['Área de Serviço', 'Terraço', 'Churrasqueira'...   \n",
       "1                                          ['Sauna']   \n",
       "2  ['Acessibilidade', 'Área de Serviço', 'Sauna',...   \n",
       "3  ['Vista Panorâmica', 'Piscina', 'Sauna', 'Clos...   \n",
       "4                            ['Armários Planejados']   \n",
       "\n",
       "                   imovel_caracteristicas_condominio  \\\n",
       "0  ['Churrasqueira', 'Salão de Jogos', 'Sauna', '...   \n",
       "1  ['Elevador', 'Playground', 'Salão de Festas', ...   \n",
       "2  ['Sauna', 'Playground', 'Quadra Poliesportiva'...   \n",
       "3  ['Quadra Poliesportiva', 'Aceita Pet', 'Playgr...   \n",
       "4  ['Quadra Poliesportiva', 'Porteiro 24 Horas', ...   \n",
       "\n",
       "                      imovel_caracteristicas_entorno  \n",
       "0  ['Próximo a Escola Particular', 'Próximo ao Me...  \n",
       "1  ['Próximo ao Shopping', 'Próximo a Áreas de La...  \n",
       "2                    ['Próximo a Escola Particular']  \n",
       "3  ['Próximo a Farmácia', 'Próximo a Academia', '...  \n",
       "4  ['Próximo a Centro Empresarial', 'Próximo a Ár...  "
      ]
     },
     "execution_count": 28,
     "metadata": {},
     "output_type": "execute_result"
    }
   ],
   "source": [
    "data_normal_listings.filter(like='imovel_caracteristicas').head()"
   ]
  },
  {
   "cell_type": "code",
   "execution_count": 29,
   "metadata": {
    "id": "S1vRA6-pifKN",
    "scrolled": true
   },
   "outputs": [
    {
     "data": {
      "text/plain": [
       "Index(['imovel_caracteristicas_propriedade',\n",
       "       'imovel_caracteristicas_condominio', 'imovel_caracteristicas_entorno'],\n",
       "      dtype='object')"
      ]
     },
     "execution_count": 29,
     "metadata": {},
     "output_type": "execute_result"
    }
   ],
   "source": [
    "# possible to iterate\n",
    "data_normal_listings.filter(like='imovel_caracteristicas').columns"
   ]
  },
  {
   "cell_type": "code",
   "execution_count": 30,
   "metadata": {},
   "outputs": [],
   "source": [
    "columns = data_normal_listings.filter(like='imovel_caracteristicas').columns"
   ]
  },
  {
   "cell_type": "code",
   "execution_count": 31,
   "metadata": {},
   "outputs": [
    {
     "data": {
      "text/html": [
       "<div>\n",
       "<style scoped>\n",
       "    .dataframe tbody tr th:only-of-type {\n",
       "        vertical-align: middle;\n",
       "    }\n",
       "\n",
       "    .dataframe tbody tr th {\n",
       "        vertical-align: top;\n",
       "    }\n",
       "\n",
       "    .dataframe thead th {\n",
       "        text-align: right;\n",
       "    }\n",
       "</style>\n",
       "<table border=\"1\" class=\"dataframe\">\n",
       "  <thead>\n",
       "    <tr style=\"text-align: right;\">\n",
       "      <th></th>\n",
       "      <th>imovel_caracteristicas_propriedade</th>\n",
       "      <th>imovel_caracteristicas_condominio</th>\n",
       "      <th>imovel_caracteristicas_entorno</th>\n",
       "    </tr>\n",
       "  </thead>\n",
       "  <tbody>\n",
       "    <tr>\n",
       "      <th>0</th>\n",
       "      <td>['Área de Serviço', 'Terraço', 'Churrasqueira'...</td>\n",
       "      <td>['Churrasqueira', 'Salão de Jogos', 'Sauna', '...</td>\n",
       "      <td>['Próximo a Escola Particular', 'Próximo ao Me...</td>\n",
       "    </tr>\n",
       "    <tr>\n",
       "      <th>1</th>\n",
       "      <td>['Sauna']</td>\n",
       "      <td>['Elevador', 'Playground', 'Salão de Festas', ...</td>\n",
       "      <td>['Próximo ao Shopping', 'Próximo a Áreas de La...</td>\n",
       "    </tr>\n",
       "    <tr>\n",
       "      <th>2</th>\n",
       "      <td>['Acessibilidade', 'Área de Serviço', 'Sauna',...</td>\n",
       "      <td>['Sauna', 'Playground', 'Quadra Poliesportiva'...</td>\n",
       "      <td>['Próximo a Escola Particular']</td>\n",
       "    </tr>\n",
       "    <tr>\n",
       "      <th>3</th>\n",
       "      <td>['Vista Panorâmica', 'Piscina', 'Sauna', 'Clos...</td>\n",
       "      <td>['Quadra Poliesportiva', 'Aceita Pet', 'Playgr...</td>\n",
       "      <td>['Próximo a Farmácia', 'Próximo a Academia', '...</td>\n",
       "    </tr>\n",
       "    <tr>\n",
       "      <th>4</th>\n",
       "      <td>['Armários Planejados']</td>\n",
       "      <td>['Quadra Poliesportiva', 'Porteiro 24 Horas', ...</td>\n",
       "      <td>['Próximo a Centro Empresarial', 'Próximo a Ár...</td>\n",
       "    </tr>\n",
       "  </tbody>\n",
       "</table>\n",
       "</div>"
      ],
      "text/plain": [
       "                  imovel_caracteristicas_propriedade  \\\n",
       "0  ['Área de Serviço', 'Terraço', 'Churrasqueira'...   \n",
       "1                                          ['Sauna']   \n",
       "2  ['Acessibilidade', 'Área de Serviço', 'Sauna',...   \n",
       "3  ['Vista Panorâmica', 'Piscina', 'Sauna', 'Clos...   \n",
       "4                            ['Armários Planejados']   \n",
       "\n",
       "                   imovel_caracteristicas_condominio  \\\n",
       "0  ['Churrasqueira', 'Salão de Jogos', 'Sauna', '...   \n",
       "1  ['Elevador', 'Playground', 'Salão de Festas', ...   \n",
       "2  ['Sauna', 'Playground', 'Quadra Poliesportiva'...   \n",
       "3  ['Quadra Poliesportiva', 'Aceita Pet', 'Playgr...   \n",
       "4  ['Quadra Poliesportiva', 'Porteiro 24 Horas', ...   \n",
       "\n",
       "                      imovel_caracteristicas_entorno  \n",
       "0  ['Próximo a Escola Particular', 'Próximo ao Me...  \n",
       "1  ['Próximo ao Shopping', 'Próximo a Áreas de La...  \n",
       "2                    ['Próximo a Escola Particular']  \n",
       "3  ['Próximo a Farmácia', 'Próximo a Academia', '...  \n",
       "4  ['Próximo a Centro Empresarial', 'Próximo a Ár...  "
      ]
     },
     "execution_count": 31,
     "metadata": {},
     "output_type": "execute_result"
    }
   ],
   "source": [
    "data_normal_listings.loc[:, columns].head()"
   ]
  },
  {
   "cell_type": "code",
   "execution_count": 32,
   "metadata": {},
   "outputs": [
    {
     "data": {
      "text/html": [
       "<div>\n",
       "<style scoped>\n",
       "    .dataframe tbody tr th:only-of-type {\n",
       "        vertical-align: middle;\n",
       "    }\n",
       "\n",
       "    .dataframe tbody tr th {\n",
       "        vertical-align: top;\n",
       "    }\n",
       "\n",
       "    .dataframe thead th {\n",
       "        text-align: right;\n",
       "    }\n",
       "</style>\n",
       "<table border=\"1\" class=\"dataframe\">\n",
       "  <thead>\n",
       "    <tr style=\"text-align: right;\">\n",
       "      <th></th>\n",
       "      <th>imovel_caracteristicas_propriedade</th>\n",
       "      <th>imovel_caracteristicas_condominio</th>\n",
       "      <th>imovel_caracteristicas_entorno</th>\n",
       "    </tr>\n",
       "  </thead>\n",
       "  <tbody>\n",
       "    <tr>\n",
       "      <th>0</th>\n",
       "      <td>[Área de Serviço,  Terraço,  Churrasqueira,  Q...</td>\n",
       "      <td>[Churrasqueira,  Salão de Jogos,  Sauna,  Esta...</td>\n",
       "      <td>[Próximo a Escola Particular,  Próximo ao Metr...</td>\n",
       "    </tr>\n",
       "    <tr>\n",
       "      <th>1</th>\n",
       "      <td>[Sauna]</td>\n",
       "      <td>[Elevador,  Playground,  Salão de Festas,  Sis...</td>\n",
       "      <td>[Próximo ao Shopping,  Próximo a Áreas de Laze...</td>\n",
       "    </tr>\n",
       "    <tr>\n",
       "      <th>2</th>\n",
       "      <td>[Acessibilidade,  Área de Serviço,  Sauna,  Am...</td>\n",
       "      <td>[Sauna,  Playground,  Quadra Poliesportiva,  S...</td>\n",
       "      <td>[Próximo a Escola Particular]</td>\n",
       "    </tr>\n",
       "    <tr>\n",
       "      <th>3</th>\n",
       "      <td>[Vista Panorâmica,  Piscina,  Sauna,  Closet, ...</td>\n",
       "      <td>[Quadra Poliesportiva,  Aceita Pet,  Playgroun...</td>\n",
       "      <td>[Próximo a Farmácia,  Próximo a Academia,  Pró...</td>\n",
       "    </tr>\n",
       "    <tr>\n",
       "      <th>4</th>\n",
       "      <td>[Armários Planejados]</td>\n",
       "      <td>[Quadra Poliesportiva,  Porteiro 24 Horas,  El...</td>\n",
       "      <td>[Próximo a Centro Empresarial,  Próximo a Área...</td>\n",
       "    </tr>\n",
       "  </tbody>\n",
       "</table>\n",
       "</div>"
      ],
      "text/plain": [
       "                  imovel_caracteristicas_propriedade  \\\n",
       "0  [Área de Serviço,  Terraço,  Churrasqueira,  Q...   \n",
       "1                                            [Sauna]   \n",
       "2  [Acessibilidade,  Área de Serviço,  Sauna,  Am...   \n",
       "3  [Vista Panorâmica,  Piscina,  Sauna,  Closet, ...   \n",
       "4                              [Armários Planejados]   \n",
       "\n",
       "                   imovel_caracteristicas_condominio  \\\n",
       "0  [Churrasqueira,  Salão de Jogos,  Sauna,  Esta...   \n",
       "1  [Elevador,  Playground,  Salão de Festas,  Sis...   \n",
       "2  [Sauna,  Playground,  Quadra Poliesportiva,  S...   \n",
       "3  [Quadra Poliesportiva,  Aceita Pet,  Playgroun...   \n",
       "4  [Quadra Poliesportiva,  Porteiro 24 Horas,  El...   \n",
       "\n",
       "                      imovel_caracteristicas_entorno  \n",
       "0  [Próximo a Escola Particular,  Próximo ao Metr...  \n",
       "1  [Próximo ao Shopping,  Próximo a Áreas de Laze...  \n",
       "2                      [Próximo a Escola Particular]  \n",
       "3  [Próximo a Farmácia,  Próximo a Academia,  Pró...  \n",
       "4  [Próximo a Centro Empresarial,  Próximo a Área...  "
      ]
     },
     "execution_count": 32,
     "metadata": {},
     "output_type": "execute_result"
    }
   ],
   "source": [
    "data_normal_listings[columns].apply( lambda x : x.str[1:-1].str.replace(\"'\", \"\").str.split(\",\") ).head()"
   ]
  },
  {
   "cell_type": "code",
   "execution_count": 33,
   "metadata": {},
   "outputs": [],
   "source": [
    "data_normal_listings.loc[:, columns] = data_normal_listings[columns].apply( lambda x : x.str[1:-1].str.replace(\"'\", \"\").str.split(\",\") ).head()"
   ]
  },
  {
   "cell_type": "code",
   "execution_count": 34,
   "metadata": {},
   "outputs": [
    {
     "data": {
      "text/plain": [
       "'dados_normal_listings = data_normal_listings.copy()\\ndados_highlights_listings = data_highlights_listings.copy()\\n\\nfor column in columns: \\n    dados_normal_listings[column] = dados_normal_listings[column].str[1:-1].str.replace(\"\\'\",\"\").str.split(\",\")\\n    dados_highlights_listings[column] = dados_highlights_listings[column].str[1:-1].str.replace(\"\\'\",\"\").str.split(\",\")'"
      ]
     },
     "execution_count": 34,
     "metadata": {},
     "output_type": "execute_result"
    }
   ],
   "source": [
    "\"\"\"dados_normal_listings = data_normal_listings.copy()\n",
    "dados_highlights_listings = data_highlights_listings.copy()\n",
    "\n",
    "for column in columns: \n",
    "    dados_normal_listings[column] = dados_normal_listings[column].str[1:-1].str.replace(\"'\",\"\").str.split(\",\")\n",
    "    dados_highlights_listings[column] = dados_highlights_listings[column].str[1:-1].str.replace(\"'\",\"\").str.split(\",\")\"\"\""
   ]
  },
  {
   "cell_type": "markdown",
   "metadata": {
    "id": "1NRyywesevgc"
   },
   "source": [
    "# COMBINANDO CONJUNTOS DE DADOS\n",
    "---"
   ]
  },
  {
   "cell_type": "code",
   "execution_count": 40,
   "metadata": {
    "id": "fVukYp7wevgc"
   },
   "outputs": [
    {
     "data": {
      "text/plain": [
       "array([ True,  True,  True,  True,  True,  True,  True,  True,  True,\n",
       "        True,  True,  True,  True,  True,  True,  True])"
      ]
     },
     "execution_count": 40,
     "metadata": {},
     "output_type": "execute_result"
    }
   ],
   "source": [
    "data_highlights_listings.columns == data_normal_listings.columns"
   ]
  },
  {
   "cell_type": "markdown",
   "metadata": {
    "id": "rZgiUKLdevgc"
   },
   "source": [
    "## Empilhando *DataFrames*"
   ]
  },
  {
   "cell_type": "markdown",
   "metadata": {
    "id": "-h32tlhVevgd"
   },
   "source": [
    "### `append`\n",
    "\n",
    "[Documentação](https://pandas.pydata.org/pandas-docs/stable/reference/api/pandas.DataFrame.append.html)"
   ]
  },
  {
   "cell_type": "code",
   "execution_count": 43,
   "metadata": {
    "id": "LHCKRDJ_evgd",
    "scrolled": true
   },
   "outputs": [
    {
     "data": {
      "text/html": [
       "<div>\n",
       "<style scoped>\n",
       "    .dataframe tbody tr th:only-of-type {\n",
       "        vertical-align: middle;\n",
       "    }\n",
       "\n",
       "    .dataframe tbody tr th {\n",
       "        vertical-align: top;\n",
       "    }\n",
       "\n",
       "    .dataframe thead th {\n",
       "        text-align: right;\n",
       "    }\n",
       "</style>\n",
       "<table border=\"1\" class=\"dataframe\">\n",
       "  <thead>\n",
       "    <tr style=\"text-align: right;\">\n",
       "      <th></th>\n",
       "      <th>imovel_tipos_propriedade</th>\n",
       "      <th>imovel_endereco_bairro</th>\n",
       "      <th>imovel_endereco_localizacao_type</th>\n",
       "      <th>imovel_endereco_localizacao_coordinates</th>\n",
       "      <th>imovel_vagasGaragem</th>\n",
       "      <th>imovel_area</th>\n",
       "      <th>imovel_caracteristicas_propriedade</th>\n",
       "      <th>imovel_caracteristicas_condominio</th>\n",
       "      <th>imovel_caracteristicas_entorno</th>\n",
       "      <th>anuncio_tipos_publicacao</th>\n",
       "      <th>anuncio_tipos_listagem</th>\n",
       "      <th>anuncio_valores_venda</th>\n",
       "      <th>anuncio_valores_aluguel</th>\n",
       "      <th>anuncio_valores_condominio</th>\n",
       "      <th>anuncio_valores_iptu</th>\n",
       "      <th>anuncio_descricao</th>\n",
       "    </tr>\n",
       "  </thead>\n",
       "  <tbody>\n",
       "    <tr>\n",
       "      <th>0</th>\n",
       "      <td>Casa</td>\n",
       "      <td>Barra da Tijuca</td>\n",
       "      <td>Point</td>\n",
       "      <td>[-43.3039086, -23.0139692]</td>\n",
       "      <td>4</td>\n",
       "      <td>279</td>\n",
       "      <td>[Área de Serviço,  Terraço,  Churrasqueira,  Q...</td>\n",
       "      <td>[Churrasqueira,  Salão de Jogos,  Sauna,  Esta...</td>\n",
       "      <td>[Próximo a Escola Particular,  Próximo ao Metr...</td>\n",
       "      <td>Padrão</td>\n",
       "      <td>Lançamento</td>\n",
       "      <td>2400000.0</td>\n",
       "      <td>0.0</td>\n",
       "      <td>790.0</td>\n",
       "      <td>5700.0</td>\n",
       "      <td>Amplo imóvel para venda com 3 quartos, sendo 1...</td>\n",
       "    </tr>\n",
       "    <tr>\n",
       "      <th>1</th>\n",
       "      <td>Apartamento</td>\n",
       "      <td>Campo Grande</td>\n",
       "      <td>Point</td>\n",
       "      <td>[0, 0]</td>\n",
       "      <td>1</td>\n",
       "      <td>60</td>\n",
       "      <td>[Sauna]</td>\n",
       "      <td>[Elevador,  Playground,  Salão de Festas,  Sis...</td>\n",
       "      <td>[Próximo ao Shopping,  Próximo a Áreas de Laze...</td>\n",
       "      <td>Padrão</td>\n",
       "      <td>Usado</td>\n",
       "      <td>200000.0</td>\n",
       "      <td>0.0</td>\n",
       "      <td>0.0</td>\n",
       "      <td>0.0</td>\n",
       "      <td>Amplo imóvel para venda com 2 quartos, sendo 0...</td>\n",
       "    </tr>\n",
       "    <tr>\n",
       "      <th>2</th>\n",
       "      <td>Cobertura</td>\n",
       "      <td>Barra da Tijuca</td>\n",
       "      <td>Point</td>\n",
       "      <td>[-43.3037186, -22.9951304]</td>\n",
       "      <td>2</td>\n",
       "      <td>380</td>\n",
       "      <td>[Acessibilidade,  Área de Serviço,  Sauna,  Am...</td>\n",
       "      <td>[Sauna,  Playground,  Quadra Poliesportiva,  S...</td>\n",
       "      <td>[Próximo a Escola Particular]</td>\n",
       "      <td>Premium</td>\n",
       "      <td>Usado</td>\n",
       "      <td>4400000.0</td>\n",
       "      <td>0.0</td>\n",
       "      <td>1200.0</td>\n",
       "      <td>850.0</td>\n",
       "      <td>Amplo imóvel para venda com 5 quartos, sendo 4...</td>\n",
       "    </tr>\n",
       "    <tr>\n",
       "      <th>3</th>\n",
       "      <td>Cobertura</td>\n",
       "      <td>Barra da Tijuca</td>\n",
       "      <td>Point</td>\n",
       "      <td>[-43.3548121, -23.0097423]</td>\n",
       "      <td>1</td>\n",
       "      <td>73</td>\n",
       "      <td>[Vista Panorâmica,  Piscina,  Sauna,  Closet, ...</td>\n",
       "      <td>[Quadra Poliesportiva,  Aceita Pet,  Playgroun...</td>\n",
       "      <td>[Próximo a Farmácia,  Próximo a Academia,  Pró...</td>\n",
       "      <td>Padrão</td>\n",
       "      <td>Usado</td>\n",
       "      <td>1100000.0</td>\n",
       "      <td>0.0</td>\n",
       "      <td>1300.0</td>\n",
       "      <td>364.0</td>\n",
       "      <td>Amplo imóvel para venda com 2 quartos, sendo 1...</td>\n",
       "    </tr>\n",
       "    <tr>\n",
       "      <th>4</th>\n",
       "      <td>Sala Comercial</td>\n",
       "      <td>Glória</td>\n",
       "      <td>Point</td>\n",
       "      <td>[-43.1779703, -22.9174894]</td>\n",
       "      <td>1</td>\n",
       "      <td>32</td>\n",
       "      <td>[Armários Planejados]</td>\n",
       "      <td>[Quadra Poliesportiva,  Porteiro 24 Horas,  El...</td>\n",
       "      <td>[Próximo a Centro Empresarial,  Próximo a Área...</td>\n",
       "      <td>Padrão</td>\n",
       "      <td>Usado</td>\n",
       "      <td>260000.0</td>\n",
       "      <td>0.0</td>\n",
       "      <td>450.0</td>\n",
       "      <td>800.0</td>\n",
       "      <td>Amplo imóvel para venda com 0 quartos, sendo 0...</td>\n",
       "    </tr>\n",
       "    <tr>\n",
       "      <th>...</th>\n",
       "      <td>...</td>\n",
       "      <td>...</td>\n",
       "      <td>...</td>\n",
       "      <td>...</td>\n",
       "      <td>...</td>\n",
       "      <td>...</td>\n",
       "      <td>...</td>\n",
       "      <td>...</td>\n",
       "      <td>...</td>\n",
       "      <td>...</td>\n",
       "      <td>...</td>\n",
       "      <td>...</td>\n",
       "      <td>...</td>\n",
       "      <td>...</td>\n",
       "      <td>...</td>\n",
       "      <td>...</td>\n",
       "    </tr>\n",
       "    <tr>\n",
       "      <th>65</th>\n",
       "      <td>Apartamento</td>\n",
       "      <td>Copacabana</td>\n",
       "      <td>Point</td>\n",
       "      <td>[-43.1943902, -22.9816847]</td>\n",
       "      <td>1</td>\n",
       "      <td>216</td>\n",
       "      <td>['Cozinha Americana', 'Quarto/WC Empregada', '...</td>\n",
       "      <td>['Elevador', 'Salão de Festas', 'Porteiro 24 H...</td>\n",
       "      <td>['Próximo a Farmácia', 'Próximo a Academia', '...</td>\n",
       "      <td>Padrão</td>\n",
       "      <td>Usado</td>\n",
       "      <td>1800000.0</td>\n",
       "      <td>0.0</td>\n",
       "      <td>2000.0</td>\n",
       "      <td>2300.0</td>\n",
       "      <td>Amplo imóvel para venda com 4 quartos, sendo 2...</td>\n",
       "    </tr>\n",
       "    <tr>\n",
       "      <th>66</th>\n",
       "      <td>Apartamento</td>\n",
       "      <td>Leblon</td>\n",
       "      <td>Point</td>\n",
       "      <td>[-43.2253114, -22.9843603]</td>\n",
       "      <td>1</td>\n",
       "      <td>218</td>\n",
       "      <td>['Piscina', 'Gás Encanado']</td>\n",
       "      <td>['Academia', 'Aceita Pet', 'Sistema de Incêndi...</td>\n",
       "      <td>['Próximo a Comércio Diversos', 'Próximo a Cen...</td>\n",
       "      <td>Premium</td>\n",
       "      <td>Usado</td>\n",
       "      <td>4500000.0</td>\n",
       "      <td>0.0</td>\n",
       "      <td>3600.0</td>\n",
       "      <td>7000.0</td>\n",
       "      <td>Amplo imóvel para venda com 3 quartos, sendo 1...</td>\n",
       "    </tr>\n",
       "    <tr>\n",
       "      <th>67</th>\n",
       "      <td>Casa</td>\n",
       "      <td>Copacabana</td>\n",
       "      <td>Point</td>\n",
       "      <td>[-43.1951842, -22.9818646]</td>\n",
       "      <td>0</td>\n",
       "      <td>25</td>\n",
       "      <td>['Closet', 'Armários Planejados', 'Quarto/WC E...</td>\n",
       "      <td>['Bicicletário', 'Sistema de Incêndio', 'Segur...</td>\n",
       "      <td>[]</td>\n",
       "      <td>Destaque</td>\n",
       "      <td>Usado</td>\n",
       "      <td>350000.0</td>\n",
       "      <td>0.0</td>\n",
       "      <td>290.0</td>\n",
       "      <td>182.0</td>\n",
       "      <td>Amplo imóvel para venda com 1 quartos, sendo 0...</td>\n",
       "    </tr>\n",
       "    <tr>\n",
       "      <th>68</th>\n",
       "      <td>Sala Comercial</td>\n",
       "      <td>Cachambi</td>\n",
       "      <td>Point</td>\n",
       "      <td>[-43.2781994, -22.8917611]</td>\n",
       "      <td>2</td>\n",
       "      <td>138</td>\n",
       "      <td>['Gás Encanado', 'Acessibilidade', 'Ambientes ...</td>\n",
       "      <td>['Playground', 'Depósito Privativo', 'Academia...</td>\n",
       "      <td>['Próximo a Praia', 'Próximo a Serviços de Saú...</td>\n",
       "      <td>Premium</td>\n",
       "      <td>Usado</td>\n",
       "      <td>619000.0</td>\n",
       "      <td>0.0</td>\n",
       "      <td>506.0</td>\n",
       "      <td>1404.0</td>\n",
       "      <td>Amplo imóvel para venda com 3 quartos, sendo 1...</td>\n",
       "    </tr>\n",
       "    <tr>\n",
       "      <th>69</th>\n",
       "      <td>Apartamento</td>\n",
       "      <td>Tijuca</td>\n",
       "      <td>Point</td>\n",
       "      <td>[-43.2356544, -22.9264543]</td>\n",
       "      <td>0</td>\n",
       "      <td>100</td>\n",
       "      <td>['Churrasqueira', 'Gás Encanado', 'Quarto/WC E...</td>\n",
       "      <td>['Academia', 'Quadra Poliesportiva', 'Sauna', ...</td>\n",
       "      <td>['Próximo a Comércio Diversos', 'Próximo a Áre...</td>\n",
       "      <td>Padrão</td>\n",
       "      <td>Usado</td>\n",
       "      <td>580000.0</td>\n",
       "      <td>0.0</td>\n",
       "      <td>0.0</td>\n",
       "      <td>0.0</td>\n",
       "      <td>Amplo imóvel para venda com 3 quartos, sendo 1...</td>\n",
       "    </tr>\n",
       "  </tbody>\n",
       "</table>\n",
       "<p>70 rows × 16 columns</p>\n",
       "</div>"
      ],
      "text/plain": [
       "   imovel_tipos_propriedade imovel_endereco_bairro  \\\n",
       "0                      Casa        Barra da Tijuca   \n",
       "1               Apartamento           Campo Grande   \n",
       "2                 Cobertura        Barra da Tijuca   \n",
       "3                 Cobertura        Barra da Tijuca   \n",
       "4            Sala Comercial                 Glória   \n",
       "..                      ...                    ...   \n",
       "65              Apartamento             Copacabana   \n",
       "66              Apartamento                 Leblon   \n",
       "67                     Casa             Copacabana   \n",
       "68           Sala Comercial               Cachambi   \n",
       "69              Apartamento                 Tijuca   \n",
       "\n",
       "   imovel_endereco_localizacao_type imovel_endereco_localizacao_coordinates  \\\n",
       "0                             Point              [-43.3039086, -23.0139692]   \n",
       "1                             Point                                  [0, 0]   \n",
       "2                             Point              [-43.3037186, -22.9951304]   \n",
       "3                             Point              [-43.3548121, -23.0097423]   \n",
       "4                             Point              [-43.1779703, -22.9174894]   \n",
       "..                              ...                                     ...   \n",
       "65                            Point              [-43.1943902, -22.9816847]   \n",
       "66                            Point              [-43.2253114, -22.9843603]   \n",
       "67                            Point              [-43.1951842, -22.9818646]   \n",
       "68                            Point              [-43.2781994, -22.8917611]   \n",
       "69                            Point              [-43.2356544, -22.9264543]   \n",
       "\n",
       "    imovel_vagasGaragem  imovel_area  \\\n",
       "0                     4          279   \n",
       "1                     1           60   \n",
       "2                     2          380   \n",
       "3                     1           73   \n",
       "4                     1           32   \n",
       "..                  ...          ...   \n",
       "65                    1          216   \n",
       "66                    1          218   \n",
       "67                    0           25   \n",
       "68                    2          138   \n",
       "69                    0          100   \n",
       "\n",
       "                   imovel_caracteristicas_propriedade  \\\n",
       "0   [Área de Serviço,  Terraço,  Churrasqueira,  Q...   \n",
       "1                                             [Sauna]   \n",
       "2   [Acessibilidade,  Área de Serviço,  Sauna,  Am...   \n",
       "3   [Vista Panorâmica,  Piscina,  Sauna,  Closet, ...   \n",
       "4                               [Armários Planejados]   \n",
       "..                                                ...   \n",
       "65  ['Cozinha Americana', 'Quarto/WC Empregada', '...   \n",
       "66                        ['Piscina', 'Gás Encanado']   \n",
       "67  ['Closet', 'Armários Planejados', 'Quarto/WC E...   \n",
       "68  ['Gás Encanado', 'Acessibilidade', 'Ambientes ...   \n",
       "69  ['Churrasqueira', 'Gás Encanado', 'Quarto/WC E...   \n",
       "\n",
       "                    imovel_caracteristicas_condominio  \\\n",
       "0   [Churrasqueira,  Salão de Jogos,  Sauna,  Esta...   \n",
       "1   [Elevador,  Playground,  Salão de Festas,  Sis...   \n",
       "2   [Sauna,  Playground,  Quadra Poliesportiva,  S...   \n",
       "3   [Quadra Poliesportiva,  Aceita Pet,  Playgroun...   \n",
       "4   [Quadra Poliesportiva,  Porteiro 24 Horas,  El...   \n",
       "..                                                ...   \n",
       "65  ['Elevador', 'Salão de Festas', 'Porteiro 24 H...   \n",
       "66  ['Academia', 'Aceita Pet', 'Sistema de Incêndi...   \n",
       "67  ['Bicicletário', 'Sistema de Incêndio', 'Segur...   \n",
       "68  ['Playground', 'Depósito Privativo', 'Academia...   \n",
       "69  ['Academia', 'Quadra Poliesportiva', 'Sauna', ...   \n",
       "\n",
       "                       imovel_caracteristicas_entorno  \\\n",
       "0   [Próximo a Escola Particular,  Próximo ao Metr...   \n",
       "1   [Próximo ao Shopping,  Próximo a Áreas de Laze...   \n",
       "2                       [Próximo a Escola Particular]   \n",
       "3   [Próximo a Farmácia,  Próximo a Academia,  Pró...   \n",
       "4   [Próximo a Centro Empresarial,  Próximo a Área...   \n",
       "..                                                ...   \n",
       "65  ['Próximo a Farmácia', 'Próximo a Academia', '...   \n",
       "66  ['Próximo a Comércio Diversos', 'Próximo a Cen...   \n",
       "67                                                 []   \n",
       "68  ['Próximo a Praia', 'Próximo a Serviços de Saú...   \n",
       "69  ['Próximo a Comércio Diversos', 'Próximo a Áre...   \n",
       "\n",
       "   anuncio_tipos_publicacao anuncio_tipos_listagem  anuncio_valores_venda  \\\n",
       "0                    Padrão             Lançamento              2400000.0   \n",
       "1                    Padrão                  Usado               200000.0   \n",
       "2                   Premium                  Usado              4400000.0   \n",
       "3                    Padrão                  Usado              1100000.0   \n",
       "4                    Padrão                  Usado               260000.0   \n",
       "..                      ...                    ...                    ...   \n",
       "65                   Padrão                  Usado              1800000.0   \n",
       "66                  Premium                  Usado              4500000.0   \n",
       "67                 Destaque                  Usado               350000.0   \n",
       "68                  Premium                  Usado               619000.0   \n",
       "69                   Padrão                  Usado               580000.0   \n",
       "\n",
       "    anuncio_valores_aluguel  anuncio_valores_condominio  anuncio_valores_iptu  \\\n",
       "0                       0.0                       790.0                5700.0   \n",
       "1                       0.0                         0.0                   0.0   \n",
       "2                       0.0                      1200.0                 850.0   \n",
       "3                       0.0                      1300.0                 364.0   \n",
       "4                       0.0                       450.0                 800.0   \n",
       "..                      ...                         ...                   ...   \n",
       "65                      0.0                      2000.0                2300.0   \n",
       "66                      0.0                      3600.0                7000.0   \n",
       "67                      0.0                       290.0                 182.0   \n",
       "68                      0.0                       506.0                1404.0   \n",
       "69                      0.0                         0.0                   0.0   \n",
       "\n",
       "                                    anuncio_descricao  \n",
       "0   Amplo imóvel para venda com 3 quartos, sendo 1...  \n",
       "1   Amplo imóvel para venda com 2 quartos, sendo 0...  \n",
       "2   Amplo imóvel para venda com 5 quartos, sendo 4...  \n",
       "3   Amplo imóvel para venda com 2 quartos, sendo 1...  \n",
       "4   Amplo imóvel para venda com 0 quartos, sendo 0...  \n",
       "..                                                ...  \n",
       "65  Amplo imóvel para venda com 4 quartos, sendo 2...  \n",
       "66  Amplo imóvel para venda com 3 quartos, sendo 1...  \n",
       "67  Amplo imóvel para venda com 1 quartos, sendo 0...  \n",
       "68  Amplo imóvel para venda com 3 quartos, sendo 1...  \n",
       "69  Amplo imóvel para venda com 3 quartos, sendo 1...  \n",
       "\n",
       "[70 rows x 16 columns]"
      ]
     },
     "execution_count": 43,
     "metadata": {},
     "output_type": "execute_result"
    }
   ],
   "source": [
    "data_normal_listings.append(data_highlights_listings, ignore_index=True)"
   ]
  },
  {
   "cell_type": "code",
   "execution_count": 44,
   "metadata": {
    "id": "tF1g0sR2evgd",
    "scrolled": true
   },
   "outputs": [],
   "source": [
    "data_listings = data_normal_listings.append(data_highlights_listings, ignore_index=True)"
   ]
  },
  {
   "cell_type": "markdown",
   "metadata": {
    "id": "r2--u5uMevgd"
   },
   "source": [
    "### `concat`\n",
    "\n",
    "[Documentação](https://pandas.pydata.org/pandas-docs/stable/reference/api/pandas.concat.html)"
   ]
  },
  {
   "cell_type": "code",
   "execution_count": 46,
   "metadata": {
    "id": "Slce5RQdevge"
   },
   "outputs": [],
   "source": [
    "data_listings = pd.concat([data_normal_listings, data_highlights_listings], ignore_index=True)"
   ]
  },
  {
   "cell_type": "code",
   "execution_count": 47,
   "metadata": {
    "id": "44uiNz8Oevge"
   },
   "outputs": [
    {
     "data": {
      "text/html": [
       "<div>\n",
       "<style scoped>\n",
       "    .dataframe tbody tr th:only-of-type {\n",
       "        vertical-align: middle;\n",
       "    }\n",
       "\n",
       "    .dataframe tbody tr th {\n",
       "        vertical-align: top;\n",
       "    }\n",
       "\n",
       "    .dataframe thead th {\n",
       "        text-align: right;\n",
       "    }\n",
       "</style>\n",
       "<table border=\"1\" class=\"dataframe\">\n",
       "  <thead>\n",
       "    <tr style=\"text-align: right;\">\n",
       "      <th></th>\n",
       "      <th>imovel_tipos_propriedade</th>\n",
       "      <th>imovel_endereco_bairro</th>\n",
       "      <th>imovel_endereco_localizacao_type</th>\n",
       "      <th>imovel_endereco_localizacao_coordinates</th>\n",
       "      <th>imovel_vagasGaragem</th>\n",
       "      <th>imovel_area</th>\n",
       "      <th>imovel_caracteristicas_propriedade</th>\n",
       "      <th>imovel_caracteristicas_condominio</th>\n",
       "      <th>imovel_caracteristicas_entorno</th>\n",
       "      <th>anuncio_tipos_publicacao</th>\n",
       "      <th>anuncio_tipos_listagem</th>\n",
       "      <th>anuncio_valores_venda</th>\n",
       "      <th>anuncio_valores_aluguel</th>\n",
       "      <th>anuncio_valores_condominio</th>\n",
       "      <th>anuncio_valores_iptu</th>\n",
       "      <th>anuncio_descricao</th>\n",
       "    </tr>\n",
       "  </thead>\n",
       "  <tbody>\n",
       "    <tr>\n",
       "      <th>0</th>\n",
       "      <td>Casa</td>\n",
       "      <td>Barra da Tijuca</td>\n",
       "      <td>Point</td>\n",
       "      <td>[-43.3039086, -23.0139692]</td>\n",
       "      <td>4</td>\n",
       "      <td>279</td>\n",
       "      <td>[Área de Serviço,  Terraço,  Churrasqueira,  Q...</td>\n",
       "      <td>[Churrasqueira,  Salão de Jogos,  Sauna,  Esta...</td>\n",
       "      <td>[Próximo a Escola Particular,  Próximo ao Metr...</td>\n",
       "      <td>Padrão</td>\n",
       "      <td>Lançamento</td>\n",
       "      <td>2400000.0</td>\n",
       "      <td>0.0</td>\n",
       "      <td>790.0</td>\n",
       "      <td>5700.0</td>\n",
       "      <td>Amplo imóvel para venda com 3 quartos, sendo 1...</td>\n",
       "    </tr>\n",
       "    <tr>\n",
       "      <th>1</th>\n",
       "      <td>Apartamento</td>\n",
       "      <td>Campo Grande</td>\n",
       "      <td>Point</td>\n",
       "      <td>[0, 0]</td>\n",
       "      <td>1</td>\n",
       "      <td>60</td>\n",
       "      <td>[Sauna]</td>\n",
       "      <td>[Elevador,  Playground,  Salão de Festas,  Sis...</td>\n",
       "      <td>[Próximo ao Shopping,  Próximo a Áreas de Laze...</td>\n",
       "      <td>Padrão</td>\n",
       "      <td>Usado</td>\n",
       "      <td>200000.0</td>\n",
       "      <td>0.0</td>\n",
       "      <td>0.0</td>\n",
       "      <td>0.0</td>\n",
       "      <td>Amplo imóvel para venda com 2 quartos, sendo 0...</td>\n",
       "    </tr>\n",
       "    <tr>\n",
       "      <th>2</th>\n",
       "      <td>Cobertura</td>\n",
       "      <td>Barra da Tijuca</td>\n",
       "      <td>Point</td>\n",
       "      <td>[-43.3037186, -22.9951304]</td>\n",
       "      <td>2</td>\n",
       "      <td>380</td>\n",
       "      <td>[Acessibilidade,  Área de Serviço,  Sauna,  Am...</td>\n",
       "      <td>[Sauna,  Playground,  Quadra Poliesportiva,  S...</td>\n",
       "      <td>[Próximo a Escola Particular]</td>\n",
       "      <td>Premium</td>\n",
       "      <td>Usado</td>\n",
       "      <td>4400000.0</td>\n",
       "      <td>0.0</td>\n",
       "      <td>1200.0</td>\n",
       "      <td>850.0</td>\n",
       "      <td>Amplo imóvel para venda com 5 quartos, sendo 4...</td>\n",
       "    </tr>\n",
       "    <tr>\n",
       "      <th>3</th>\n",
       "      <td>Cobertura</td>\n",
       "      <td>Barra da Tijuca</td>\n",
       "      <td>Point</td>\n",
       "      <td>[-43.3548121, -23.0097423]</td>\n",
       "      <td>1</td>\n",
       "      <td>73</td>\n",
       "      <td>[Vista Panorâmica,  Piscina,  Sauna,  Closet, ...</td>\n",
       "      <td>[Quadra Poliesportiva,  Aceita Pet,  Playgroun...</td>\n",
       "      <td>[Próximo a Farmácia,  Próximo a Academia,  Pró...</td>\n",
       "      <td>Padrão</td>\n",
       "      <td>Usado</td>\n",
       "      <td>1100000.0</td>\n",
       "      <td>0.0</td>\n",
       "      <td>1300.0</td>\n",
       "      <td>364.0</td>\n",
       "      <td>Amplo imóvel para venda com 2 quartos, sendo 1...</td>\n",
       "    </tr>\n",
       "    <tr>\n",
       "      <th>4</th>\n",
       "      <td>Sala Comercial</td>\n",
       "      <td>Glória</td>\n",
       "      <td>Point</td>\n",
       "      <td>[-43.1779703, -22.9174894]</td>\n",
       "      <td>1</td>\n",
       "      <td>32</td>\n",
       "      <td>[Armários Planejados]</td>\n",
       "      <td>[Quadra Poliesportiva,  Porteiro 24 Horas,  El...</td>\n",
       "      <td>[Próximo a Centro Empresarial,  Próximo a Área...</td>\n",
       "      <td>Padrão</td>\n",
       "      <td>Usado</td>\n",
       "      <td>260000.0</td>\n",
       "      <td>0.0</td>\n",
       "      <td>450.0</td>\n",
       "      <td>800.0</td>\n",
       "      <td>Amplo imóvel para venda com 0 quartos, sendo 0...</td>\n",
       "    </tr>\n",
       "    <tr>\n",
       "      <th>...</th>\n",
       "      <td>...</td>\n",
       "      <td>...</td>\n",
       "      <td>...</td>\n",
       "      <td>...</td>\n",
       "      <td>...</td>\n",
       "      <td>...</td>\n",
       "      <td>...</td>\n",
       "      <td>...</td>\n",
       "      <td>...</td>\n",
       "      <td>...</td>\n",
       "      <td>...</td>\n",
       "      <td>...</td>\n",
       "      <td>...</td>\n",
       "      <td>...</td>\n",
       "      <td>...</td>\n",
       "      <td>...</td>\n",
       "    </tr>\n",
       "    <tr>\n",
       "      <th>65</th>\n",
       "      <td>Apartamento</td>\n",
       "      <td>Copacabana</td>\n",
       "      <td>Point</td>\n",
       "      <td>[-43.1943902, -22.9816847]</td>\n",
       "      <td>1</td>\n",
       "      <td>216</td>\n",
       "      <td>['Cozinha Americana', 'Quarto/WC Empregada', '...</td>\n",
       "      <td>['Elevador', 'Salão de Festas', 'Porteiro 24 H...</td>\n",
       "      <td>['Próximo a Farmácia', 'Próximo a Academia', '...</td>\n",
       "      <td>Padrão</td>\n",
       "      <td>Usado</td>\n",
       "      <td>1800000.0</td>\n",
       "      <td>0.0</td>\n",
       "      <td>2000.0</td>\n",
       "      <td>2300.0</td>\n",
       "      <td>Amplo imóvel para venda com 4 quartos, sendo 2...</td>\n",
       "    </tr>\n",
       "    <tr>\n",
       "      <th>66</th>\n",
       "      <td>Apartamento</td>\n",
       "      <td>Leblon</td>\n",
       "      <td>Point</td>\n",
       "      <td>[-43.2253114, -22.9843603]</td>\n",
       "      <td>1</td>\n",
       "      <td>218</td>\n",
       "      <td>['Piscina', 'Gás Encanado']</td>\n",
       "      <td>['Academia', 'Aceita Pet', 'Sistema de Incêndi...</td>\n",
       "      <td>['Próximo a Comércio Diversos', 'Próximo a Cen...</td>\n",
       "      <td>Premium</td>\n",
       "      <td>Usado</td>\n",
       "      <td>4500000.0</td>\n",
       "      <td>0.0</td>\n",
       "      <td>3600.0</td>\n",
       "      <td>7000.0</td>\n",
       "      <td>Amplo imóvel para venda com 3 quartos, sendo 1...</td>\n",
       "    </tr>\n",
       "    <tr>\n",
       "      <th>67</th>\n",
       "      <td>Casa</td>\n",
       "      <td>Copacabana</td>\n",
       "      <td>Point</td>\n",
       "      <td>[-43.1951842, -22.9818646]</td>\n",
       "      <td>0</td>\n",
       "      <td>25</td>\n",
       "      <td>['Closet', 'Armários Planejados', 'Quarto/WC E...</td>\n",
       "      <td>['Bicicletário', 'Sistema de Incêndio', 'Segur...</td>\n",
       "      <td>[]</td>\n",
       "      <td>Destaque</td>\n",
       "      <td>Usado</td>\n",
       "      <td>350000.0</td>\n",
       "      <td>0.0</td>\n",
       "      <td>290.0</td>\n",
       "      <td>182.0</td>\n",
       "      <td>Amplo imóvel para venda com 1 quartos, sendo 0...</td>\n",
       "    </tr>\n",
       "    <tr>\n",
       "      <th>68</th>\n",
       "      <td>Sala Comercial</td>\n",
       "      <td>Cachambi</td>\n",
       "      <td>Point</td>\n",
       "      <td>[-43.2781994, -22.8917611]</td>\n",
       "      <td>2</td>\n",
       "      <td>138</td>\n",
       "      <td>['Gás Encanado', 'Acessibilidade', 'Ambientes ...</td>\n",
       "      <td>['Playground', 'Depósito Privativo', 'Academia...</td>\n",
       "      <td>['Próximo a Praia', 'Próximo a Serviços de Saú...</td>\n",
       "      <td>Premium</td>\n",
       "      <td>Usado</td>\n",
       "      <td>619000.0</td>\n",
       "      <td>0.0</td>\n",
       "      <td>506.0</td>\n",
       "      <td>1404.0</td>\n",
       "      <td>Amplo imóvel para venda com 3 quartos, sendo 1...</td>\n",
       "    </tr>\n",
       "    <tr>\n",
       "      <th>69</th>\n",
       "      <td>Apartamento</td>\n",
       "      <td>Tijuca</td>\n",
       "      <td>Point</td>\n",
       "      <td>[-43.2356544, -22.9264543]</td>\n",
       "      <td>0</td>\n",
       "      <td>100</td>\n",
       "      <td>['Churrasqueira', 'Gás Encanado', 'Quarto/WC E...</td>\n",
       "      <td>['Academia', 'Quadra Poliesportiva', 'Sauna', ...</td>\n",
       "      <td>['Próximo a Comércio Diversos', 'Próximo a Áre...</td>\n",
       "      <td>Padrão</td>\n",
       "      <td>Usado</td>\n",
       "      <td>580000.0</td>\n",
       "      <td>0.0</td>\n",
       "      <td>0.0</td>\n",
       "      <td>0.0</td>\n",
       "      <td>Amplo imóvel para venda com 3 quartos, sendo 1...</td>\n",
       "    </tr>\n",
       "  </tbody>\n",
       "</table>\n",
       "<p>70 rows × 16 columns</p>\n",
       "</div>"
      ],
      "text/plain": [
       "   imovel_tipos_propriedade imovel_endereco_bairro  \\\n",
       "0                      Casa        Barra da Tijuca   \n",
       "1               Apartamento           Campo Grande   \n",
       "2                 Cobertura        Barra da Tijuca   \n",
       "3                 Cobertura        Barra da Tijuca   \n",
       "4            Sala Comercial                 Glória   \n",
       "..                      ...                    ...   \n",
       "65              Apartamento             Copacabana   \n",
       "66              Apartamento                 Leblon   \n",
       "67                     Casa             Copacabana   \n",
       "68           Sala Comercial               Cachambi   \n",
       "69              Apartamento                 Tijuca   \n",
       "\n",
       "   imovel_endereco_localizacao_type imovel_endereco_localizacao_coordinates  \\\n",
       "0                             Point              [-43.3039086, -23.0139692]   \n",
       "1                             Point                                  [0, 0]   \n",
       "2                             Point              [-43.3037186, -22.9951304]   \n",
       "3                             Point              [-43.3548121, -23.0097423]   \n",
       "4                             Point              [-43.1779703, -22.9174894]   \n",
       "..                              ...                                     ...   \n",
       "65                            Point              [-43.1943902, -22.9816847]   \n",
       "66                            Point              [-43.2253114, -22.9843603]   \n",
       "67                            Point              [-43.1951842, -22.9818646]   \n",
       "68                            Point              [-43.2781994, -22.8917611]   \n",
       "69                            Point              [-43.2356544, -22.9264543]   \n",
       "\n",
       "    imovel_vagasGaragem  imovel_area  \\\n",
       "0                     4          279   \n",
       "1                     1           60   \n",
       "2                     2          380   \n",
       "3                     1           73   \n",
       "4                     1           32   \n",
       "..                  ...          ...   \n",
       "65                    1          216   \n",
       "66                    1          218   \n",
       "67                    0           25   \n",
       "68                    2          138   \n",
       "69                    0          100   \n",
       "\n",
       "                   imovel_caracteristicas_propriedade  \\\n",
       "0   [Área de Serviço,  Terraço,  Churrasqueira,  Q...   \n",
       "1                                             [Sauna]   \n",
       "2   [Acessibilidade,  Área de Serviço,  Sauna,  Am...   \n",
       "3   [Vista Panorâmica,  Piscina,  Sauna,  Closet, ...   \n",
       "4                               [Armários Planejados]   \n",
       "..                                                ...   \n",
       "65  ['Cozinha Americana', 'Quarto/WC Empregada', '...   \n",
       "66                        ['Piscina', 'Gás Encanado']   \n",
       "67  ['Closet', 'Armários Planejados', 'Quarto/WC E...   \n",
       "68  ['Gás Encanado', 'Acessibilidade', 'Ambientes ...   \n",
       "69  ['Churrasqueira', 'Gás Encanado', 'Quarto/WC E...   \n",
       "\n",
       "                    imovel_caracteristicas_condominio  \\\n",
       "0   [Churrasqueira,  Salão de Jogos,  Sauna,  Esta...   \n",
       "1   [Elevador,  Playground,  Salão de Festas,  Sis...   \n",
       "2   [Sauna,  Playground,  Quadra Poliesportiva,  S...   \n",
       "3   [Quadra Poliesportiva,  Aceita Pet,  Playgroun...   \n",
       "4   [Quadra Poliesportiva,  Porteiro 24 Horas,  El...   \n",
       "..                                                ...   \n",
       "65  ['Elevador', 'Salão de Festas', 'Porteiro 24 H...   \n",
       "66  ['Academia', 'Aceita Pet', 'Sistema de Incêndi...   \n",
       "67  ['Bicicletário', 'Sistema de Incêndio', 'Segur...   \n",
       "68  ['Playground', 'Depósito Privativo', 'Academia...   \n",
       "69  ['Academia', 'Quadra Poliesportiva', 'Sauna', ...   \n",
       "\n",
       "                       imovel_caracteristicas_entorno  \\\n",
       "0   [Próximo a Escola Particular,  Próximo ao Metr...   \n",
       "1   [Próximo ao Shopping,  Próximo a Áreas de Laze...   \n",
       "2                       [Próximo a Escola Particular]   \n",
       "3   [Próximo a Farmácia,  Próximo a Academia,  Pró...   \n",
       "4   [Próximo a Centro Empresarial,  Próximo a Área...   \n",
       "..                                                ...   \n",
       "65  ['Próximo a Farmácia', 'Próximo a Academia', '...   \n",
       "66  ['Próximo a Comércio Diversos', 'Próximo a Cen...   \n",
       "67                                                 []   \n",
       "68  ['Próximo a Praia', 'Próximo a Serviços de Saú...   \n",
       "69  ['Próximo a Comércio Diversos', 'Próximo a Áre...   \n",
       "\n",
       "   anuncio_tipos_publicacao anuncio_tipos_listagem  anuncio_valores_venda  \\\n",
       "0                    Padrão             Lançamento              2400000.0   \n",
       "1                    Padrão                  Usado               200000.0   \n",
       "2                   Premium                  Usado              4400000.0   \n",
       "3                    Padrão                  Usado              1100000.0   \n",
       "4                    Padrão                  Usado               260000.0   \n",
       "..                      ...                    ...                    ...   \n",
       "65                   Padrão                  Usado              1800000.0   \n",
       "66                  Premium                  Usado              4500000.0   \n",
       "67                 Destaque                  Usado               350000.0   \n",
       "68                  Premium                  Usado               619000.0   \n",
       "69                   Padrão                  Usado               580000.0   \n",
       "\n",
       "    anuncio_valores_aluguel  anuncio_valores_condominio  anuncio_valores_iptu  \\\n",
       "0                       0.0                       790.0                5700.0   \n",
       "1                       0.0                         0.0                   0.0   \n",
       "2                       0.0                      1200.0                 850.0   \n",
       "3                       0.0                      1300.0                 364.0   \n",
       "4                       0.0                       450.0                 800.0   \n",
       "..                      ...                         ...                   ...   \n",
       "65                      0.0                      2000.0                2300.0   \n",
       "66                      0.0                      3600.0                7000.0   \n",
       "67                      0.0                       290.0                 182.0   \n",
       "68                      0.0                       506.0                1404.0   \n",
       "69                      0.0                         0.0                   0.0   \n",
       "\n",
       "                                    anuncio_descricao  \n",
       "0   Amplo imóvel para venda com 3 quartos, sendo 1...  \n",
       "1   Amplo imóvel para venda com 2 quartos, sendo 0...  \n",
       "2   Amplo imóvel para venda com 5 quartos, sendo 4...  \n",
       "3   Amplo imóvel para venda com 2 quartos, sendo 1...  \n",
       "4   Amplo imóvel para venda com 0 quartos, sendo 0...  \n",
       "..                                                ...  \n",
       "65  Amplo imóvel para venda com 4 quartos, sendo 2...  \n",
       "66  Amplo imóvel para venda com 3 quartos, sendo 1...  \n",
       "67  Amplo imóvel para venda com 1 quartos, sendo 0...  \n",
       "68  Amplo imóvel para venda com 3 quartos, sendo 1...  \n",
       "69  Amplo imóvel para venda com 3 quartos, sendo 1...  \n",
       "\n",
       "[70 rows x 16 columns]"
      ]
     },
     "execution_count": 47,
     "metadata": {},
     "output_type": "execute_result"
    }
   ],
   "source": [
    "data_listings"
   ]
  },
  {
   "cell_type": "markdown",
   "metadata": {
    "id": "GJbtme1Gevge"
   },
   "source": [
    "## Combinando *DataFrames* a partir de uma chave de ligação"
   ]
  },
  {
   "cell_type": "code",
   "execution_count": 49,
   "metadata": {
    "id": "-wKGhtQ0evge"
   },
   "outputs": [
    {
     "data": {
      "text/html": [
       "<div>\n",
       "<style scoped>\n",
       "    .dataframe tbody tr th:only-of-type {\n",
       "        vertical-align: middle;\n",
       "    }\n",
       "\n",
       "    .dataframe tbody tr th {\n",
       "        vertical-align: top;\n",
       "    }\n",
       "\n",
       "    .dataframe thead th {\n",
       "        text-align: right;\n",
       "    }\n",
       "</style>\n",
       "<table border=\"1\" class=\"dataframe\">\n",
       "  <thead>\n",
       "    <tr style=\"text-align: right;\">\n",
       "      <th></th>\n",
       "      <th>imovel_tipos_propriedade</th>\n",
       "      <th>imovel_endereco_bairro</th>\n",
       "      <th>imovel_endereco_localizacao_type</th>\n",
       "      <th>imovel_endereco_localizacao_coordinates</th>\n",
       "      <th>imovel_vagasGaragem</th>\n",
       "      <th>imovel_area</th>\n",
       "      <th>imovel_caracteristicas_propriedade</th>\n",
       "      <th>imovel_caracteristicas_condominio</th>\n",
       "      <th>imovel_caracteristicas_entorno</th>\n",
       "      <th>anuncio_tipos_publicacao</th>\n",
       "      <th>anuncio_tipos_listagem</th>\n",
       "      <th>anuncio_valores_venda</th>\n",
       "      <th>anuncio_valores_aluguel</th>\n",
       "      <th>anuncio_valores_condominio</th>\n",
       "      <th>anuncio_valores_iptu</th>\n",
       "      <th>anuncio_descricao</th>\n",
       "    </tr>\n",
       "  </thead>\n",
       "  <tbody>\n",
       "    <tr>\n",
       "      <th>0</th>\n",
       "      <td>Casa</td>\n",
       "      <td>Barra da Tijuca</td>\n",
       "      <td>Point</td>\n",
       "      <td>[-43.3039086, -23.0139692]</td>\n",
       "      <td>4</td>\n",
       "      <td>279</td>\n",
       "      <td>[Área de Serviço,  Terraço,  Churrasqueira,  Q...</td>\n",
       "      <td>[Churrasqueira,  Salão de Jogos,  Sauna,  Esta...</td>\n",
       "      <td>[Próximo a Escola Particular,  Próximo ao Metr...</td>\n",
       "      <td>Padrão</td>\n",
       "      <td>Lançamento</td>\n",
       "      <td>2400000.0</td>\n",
       "      <td>0.0</td>\n",
       "      <td>790.0</td>\n",
       "      <td>5700.0</td>\n",
       "      <td>Amplo imóvel para venda com 3 quartos, sendo 1...</td>\n",
       "    </tr>\n",
       "    <tr>\n",
       "      <th>1</th>\n",
       "      <td>Apartamento</td>\n",
       "      <td>Campo Grande</td>\n",
       "      <td>Point</td>\n",
       "      <td>[0, 0]</td>\n",
       "      <td>1</td>\n",
       "      <td>60</td>\n",
       "      <td>[Sauna]</td>\n",
       "      <td>[Elevador,  Playground,  Salão de Festas,  Sis...</td>\n",
       "      <td>[Próximo ao Shopping,  Próximo a Áreas de Laze...</td>\n",
       "      <td>Padrão</td>\n",
       "      <td>Usado</td>\n",
       "      <td>200000.0</td>\n",
       "      <td>0.0</td>\n",
       "      <td>0.0</td>\n",
       "      <td>0.0</td>\n",
       "      <td>Amplo imóvel para venda com 2 quartos, sendo 0...</td>\n",
       "    </tr>\n",
       "  </tbody>\n",
       "</table>\n",
       "</div>"
      ],
      "text/plain": [
       "  imovel_tipos_propriedade imovel_endereco_bairro  \\\n",
       "0                     Casa        Barra da Tijuca   \n",
       "1              Apartamento           Campo Grande   \n",
       "\n",
       "  imovel_endereco_localizacao_type imovel_endereco_localizacao_coordinates  \\\n",
       "0                            Point              [-43.3039086, -23.0139692]   \n",
       "1                            Point                                  [0, 0]   \n",
       "\n",
       "   imovel_vagasGaragem  imovel_area  \\\n",
       "0                    4          279   \n",
       "1                    1           60   \n",
       "\n",
       "                  imovel_caracteristicas_propriedade  \\\n",
       "0  [Área de Serviço,  Terraço,  Churrasqueira,  Q...   \n",
       "1                                            [Sauna]   \n",
       "\n",
       "                   imovel_caracteristicas_condominio  \\\n",
       "0  [Churrasqueira,  Salão de Jogos,  Sauna,  Esta...   \n",
       "1  [Elevador,  Playground,  Salão de Festas,  Sis...   \n",
       "\n",
       "                      imovel_caracteristicas_entorno anuncio_tipos_publicacao  \\\n",
       "0  [Próximo a Escola Particular,  Próximo ao Metr...                   Padrão   \n",
       "1  [Próximo ao Shopping,  Próximo a Áreas de Laze...                   Padrão   \n",
       "\n",
       "  anuncio_tipos_listagem  anuncio_valores_venda  anuncio_valores_aluguel  \\\n",
       "0             Lançamento              2400000.0                      0.0   \n",
       "1                  Usado               200000.0                      0.0   \n",
       "\n",
       "   anuncio_valores_condominio  anuncio_valores_iptu  \\\n",
       "0                       790.0                5700.0   \n",
       "1                         0.0                   0.0   \n",
       "\n",
       "                                   anuncio_descricao  \n",
       "0  Amplo imóvel para venda com 3 quartos, sendo 1...  \n",
       "1  Amplo imóvel para venda com 2 quartos, sendo 0...  "
      ]
     },
     "execution_count": 49,
     "metadata": {},
     "output_type": "execute_result"
    }
   ],
   "source": [
    "data_listings.head(2)"
   ]
  },
  {
   "cell_type": "code",
   "execution_count": 50,
   "metadata": {
    "id": "JphM_Y6Vevge"
   },
   "outputs": [
    {
     "data": {
      "text/html": [
       "<div>\n",
       "<style scoped>\n",
       "    .dataframe tbody tr th:only-of-type {\n",
       "        vertical-align: middle;\n",
       "    }\n",
       "\n",
       "    .dataframe tbody tr th {\n",
       "        vertical-align: top;\n",
       "    }\n",
       "\n",
       "    .dataframe thead th {\n",
       "        text-align: right;\n",
       "    }\n",
       "</style>\n",
       "<table border=\"1\" class=\"dataframe\">\n",
       "  <thead>\n",
       "    <tr style=\"text-align: right;\">\n",
       "      <th></th>\n",
       "      <th></th>\n",
       "      <th>Sqm_value</th>\n",
       "    </tr>\n",
       "    <tr>\n",
       "      <th>Neighborhood</th>\n",
       "      <th>Type</th>\n",
       "      <th></th>\n",
       "    </tr>\n",
       "  </thead>\n",
       "  <tbody>\n",
       "    <tr>\n",
       "      <th rowspan=\"5\" valign=\"top\">São Cristóvão</th>\n",
       "      <th>Casa</th>\n",
       "      <td>13793</td>\n",
       "    </tr>\n",
       "    <tr>\n",
       "      <th>Apartamento</th>\n",
       "      <td>6306</td>\n",
       "    </tr>\n",
       "    <tr>\n",
       "      <th>Cobertura</th>\n",
       "      <td>11695</td>\n",
       "    </tr>\n",
       "    <tr>\n",
       "      <th>Consultório</th>\n",
       "      <td>6991</td>\n",
       "    </tr>\n",
       "    <tr>\n",
       "      <th>Imóvel Comercial</th>\n",
       "      <td>19633</td>\n",
       "    </tr>\n",
       "    <tr>\n",
       "      <th>...</th>\n",
       "      <th>...</th>\n",
       "      <td>...</td>\n",
       "    </tr>\n",
       "    <tr>\n",
       "      <th rowspan=\"5\" valign=\"top\">Vista Alegre</th>\n",
       "      <th>Cobertura</th>\n",
       "      <td>16567</td>\n",
       "    </tr>\n",
       "    <tr>\n",
       "      <th>Consultório</th>\n",
       "      <td>5812</td>\n",
       "    </tr>\n",
       "    <tr>\n",
       "      <th>Imóvel Comercial</th>\n",
       "      <td>12895</td>\n",
       "    </tr>\n",
       "    <tr>\n",
       "      <th>Loja</th>\n",
       "      <td>6182</td>\n",
       "    </tr>\n",
       "    <tr>\n",
       "      <th>Sala Comercial</th>\n",
       "      <td>3377</td>\n",
       "    </tr>\n",
       "  </tbody>\n",
       "</table>\n",
       "<p>1127 rows × 1 columns</p>\n",
       "</div>"
      ],
      "text/plain": [
       "                                Sqm_value\n",
       "Neighborhood  Type                       \n",
       "São Cristóvão Casa                  13793\n",
       "              Apartamento            6306\n",
       "              Cobertura             11695\n",
       "              Consultório            6991\n",
       "              Imóvel Comercial      19633\n",
       "...                                   ...\n",
       "Vista Alegre  Cobertura             16567\n",
       "              Consultório            5812\n",
       "              Imóvel Comercial      12895\n",
       "              Loja                   6182\n",
       "              Sala Comercial         3377\n",
       "\n",
       "[1127 rows x 1 columns]"
      ]
     },
     "execution_count": 50,
     "metadata": {},
     "output_type": "execute_result"
    }
   ],
   "source": [
    "neighborhood"
   ]
  },
  {
   "cell_type": "markdown",
   "metadata": {
    "id": "iWSZcYnuevgf"
   },
   "source": [
    "### Tratando a variável de ligação"
   ]
  },
  {
   "cell_type": "markdown",
   "metadata": {
    "id": "EnAauv0Qevgf"
   },
   "source": [
    "#### Selecionando a variável de ligação nos dois *DataFrames*"
   ]
  },
  {
   "cell_type": "code",
   "execution_count": 51,
   "metadata": {
    "id": "9ZROypsOevgf"
   },
   "outputs": [],
   "source": [
    "nb_sample = data_listings['imovel_endereco_bairro']"
   ]
  },
  {
   "cell_type": "markdown",
   "metadata": {
    "id": "l38MglWkevgf"
   },
   "source": [
    "[Documentação: `get_level_values`](https://pandas.pydata.org/pandas-docs/stable/reference/api/pandas.MultiIndex.get_level_values.html)"
   ]
  },
  {
   "cell_type": "code",
   "execution_count": 53,
   "metadata": {
    "id": "PqOX0cVRevgf"
   },
   "outputs": [
    {
     "data": {
      "text/plain": [
       "Index(['São Cristóvão', 'São Cristóvão', 'São Cristóvão', 'São Cristóvão',\n",
       "       'São Cristóvão', 'São Cristóvão', 'São Cristóvão', 'Benfica', 'Benfica',\n",
       "       'Benfica',\n",
       "       ...\n",
       "       'Vila Kosmos', 'Vila Kosmos', 'Vila Kosmos', 'Vista Alegre',\n",
       "       'Vista Alegre', 'Vista Alegre', 'Vista Alegre', 'Vista Alegre',\n",
       "       'Vista Alegre', 'Vista Alegre'],\n",
       "      dtype='object', name='Neighborhood', length=1127)"
      ]
     },
     "execution_count": 53,
     "metadata": {},
     "output_type": "execute_result"
    }
   ],
   "source": [
    "nb_all = neighborhood.index.get_level_values('Neighborhood')\n",
    "nb_all"
   ]
  },
  {
   "cell_type": "markdown",
   "metadata": {
    "id": "mQQGRwbVevgg"
   },
   "source": [
    "#### Identificando e eliminando valores duplicados - `nunique` e `unique`\n",
    "\n",
    "[Documentação: `nunique`](https://pandas.pydata.org/pandas-docs/stable/reference/api/pandas.Series.nunique.html)\n",
    "\n",
    "[Documentação: `unique`](https://pandas.pydata.org/pandas-docs/stable/reference/api/pandas.Series.unique.html)"
   ]
  },
  {
   "cell_type": "code",
   "execution_count": 54,
   "metadata": {
    "id": "oQ7JrM4oevgg"
   },
   "outputs": [
    {
     "data": {
      "text/plain": [
       "(70,)"
      ]
     },
     "execution_count": 54,
     "metadata": {},
     "output_type": "execute_result"
    }
   ],
   "source": [
    "nb_sample.shape"
   ]
  },
  {
   "cell_type": "code",
   "execution_count": 55,
   "metadata": {
    "id": "3EseTUMGevgg"
   },
   "outputs": [
    {
     "data": {
      "text/plain": [
       "30"
      ]
     },
     "execution_count": 55,
     "metadata": {},
     "output_type": "execute_result"
    }
   ],
   "source": [
    "nb_sample.nunique()"
   ]
  },
  {
   "cell_type": "code",
   "execution_count": 56,
   "metadata": {
    "id": "wTzTjSG4evgg"
   },
   "outputs": [
    {
     "data": {
      "text/plain": [
       "array(['Barra da Tijuca', 'Campo Grande', 'Glória', 'Vila Isabel',\n",
       "       'Andaraí', 'Copacabana', 'Recreio dos Bandeirantes', 'Tijuca',\n",
       "       'Méier', 'Ipanema', 'Paciência', 'Freguesia (Jacarepaguá)',\n",
       "       'Vargem Pequena', 'Pechincha', 'Freguesia', 'Botafogo',\n",
       "       'Vila da Penha', 'Jacarepaguá', 'Laranjeiras', 'Ribeira', 'Lapa',\n",
       "       'Rocha', 'Flamengo', 'Engenho Novo', 'Vargem Grande', 'Praça Seca',\n",
       "       'Honório Gurgel', 'Lagoa', 'Leblon', 'Cachambi'], dtype=object)"
      ]
     },
     "execution_count": 56,
     "metadata": {},
     "output_type": "execute_result"
    }
   ],
   "source": [
    "nb_sample.unique()"
   ]
  },
  {
   "cell_type": "code",
   "execution_count": 59,
   "metadata": {
    "id": "phexF7SWevgg"
   },
   "outputs": [],
   "source": [
    "nb_sample = pd.Series(nb_sample.unique())"
   ]
  },
  {
   "cell_type": "code",
   "execution_count": 60,
   "metadata": {
    "id": "P8IO0v72evgh",
    "scrolled": true
   },
   "outputs": [
    {
     "data": {
      "text/plain": [
       "(30,)"
      ]
     },
     "execution_count": 60,
     "metadata": {},
     "output_type": "execute_result"
    }
   ],
   "source": [
    "nb_sample.shape"
   ]
  },
  {
   "cell_type": "markdown",
   "metadata": {
    "id": "SzEMZcrBevgh"
   },
   "source": [
    "---"
   ]
  },
  {
   "cell_type": "code",
   "execution_count": 58,
   "metadata": {
    "id": "QDoTILAcevgh"
   },
   "outputs": [
    {
     "data": {
      "text/plain": [
       "(1127,)"
      ]
     },
     "execution_count": 58,
     "metadata": {},
     "output_type": "execute_result"
    }
   ],
   "source": [
    "nb_all.shape"
   ]
  },
  {
   "cell_type": "code",
   "execution_count": 62,
   "metadata": {
    "id": "P8VPy0fmevgh"
   },
   "outputs": [
    {
     "data": {
      "text/plain": [
       "161"
      ]
     },
     "execution_count": 62,
     "metadata": {},
     "output_type": "execute_result"
    }
   ],
   "source": [
    "nb_all.nunique()"
   ]
  },
  {
   "cell_type": "code",
   "execution_count": 63,
   "metadata": {
    "id": "d2r54C34evgi",
    "scrolled": true
   },
   "outputs": [
    {
     "data": {
      "text/plain": [
       "(161,)"
      ]
     },
     "execution_count": 63,
     "metadata": {},
     "output_type": "execute_result"
    }
   ],
   "source": [
    "nb_all = pd.Series(nb_all.unique())\n",
    "nb_all.shape"
   ]
  },
  {
   "cell_type": "markdown",
   "metadata": {
    "id": "ivrVtUQlevgi"
   },
   "source": [
    "#### Verificando se existe correspondência entre as variáveis de ligação\n",
    "\n",
    "[Documentação](https://pandas.pydata.org/pandas-docs/stable/reference/api/pandas.Series.isin.html)"
   ]
  },
  {
   "cell_type": "code",
   "execution_count": 67,
   "metadata": {
    "id": "RCPjMO2levgi",
    "scrolled": false
   },
   "outputs": [
    {
     "data": {
      "text/plain": [
       "0      True\n",
       "1      True\n",
       "2      True\n",
       "3      True\n",
       "4      True\n",
       "5      True\n",
       "6      True\n",
       "7      True\n",
       "8      True\n",
       "9      True\n",
       "10     True\n",
       "11    False\n",
       "12     True\n",
       "13     True\n",
       "14     True\n",
       "15     True\n",
       "16     True\n",
       "17     True\n",
       "18     True\n",
       "19     True\n",
       "20     True\n",
       "21     True\n",
       "22     True\n",
       "23     True\n",
       "24     True\n",
       "25     True\n",
       "26     True\n",
       "27     True\n",
       "28     True\n",
       "29     True\n",
       "dtype: bool"
      ]
     },
     "execution_count": 67,
     "metadata": {},
     "output_type": "execute_result"
    }
   ],
   "source": [
    "nb_sample.isin(nb_all)"
   ]
  },
  {
   "cell_type": "code",
   "execution_count": 68,
   "metadata": {},
   "outputs": [
    {
     "data": {
      "text/plain": [
       "'Freguesia (Jacarepaguá)'"
      ]
     },
     "execution_count": 68,
     "metadata": {},
     "output_type": "execute_result"
    }
   ],
   "source": [
    "nb_sample.iloc[11]"
   ]
  },
  {
   "cell_type": "code",
   "execution_count": 69,
   "metadata": {
    "id": "IFWWnS4Kevgi",
    "scrolled": true
   },
   "outputs": [
    {
     "data": {
      "text/html": [
       "<div>\n",
       "<style scoped>\n",
       "    .dataframe tbody tr th:only-of-type {\n",
       "        vertical-align: middle;\n",
       "    }\n",
       "\n",
       "    .dataframe tbody tr th {\n",
       "        vertical-align: top;\n",
       "    }\n",
       "\n",
       "    .dataframe thead th {\n",
       "        text-align: right;\n",
       "    }\n",
       "</style>\n",
       "<table border=\"1\" class=\"dataframe\">\n",
       "  <thead>\n",
       "    <tr style=\"text-align: right;\">\n",
       "      <th></th>\n",
       "      <th>Sqm_value</th>\n",
       "    </tr>\n",
       "    <tr>\n",
       "      <th>Type</th>\n",
       "      <th></th>\n",
       "    </tr>\n",
       "  </thead>\n",
       "  <tbody>\n",
       "    <tr>\n",
       "      <th>Casa</th>\n",
       "      <td>15156</td>\n",
       "    </tr>\n",
       "    <tr>\n",
       "      <th>Apartamento</th>\n",
       "      <td>7930</td>\n",
       "    </tr>\n",
       "    <tr>\n",
       "      <th>Cobertura</th>\n",
       "      <td>15391</td>\n",
       "    </tr>\n",
       "    <tr>\n",
       "      <th>Consultório</th>\n",
       "      <td>4479</td>\n",
       "    </tr>\n",
       "    <tr>\n",
       "      <th>Imóvel Comercial</th>\n",
       "      <td>16730</td>\n",
       "    </tr>\n",
       "    <tr>\n",
       "      <th>Loja</th>\n",
       "      <td>7095</td>\n",
       "    </tr>\n",
       "    <tr>\n",
       "      <th>Sala Comercial</th>\n",
       "      <td>8666</td>\n",
       "    </tr>\n",
       "  </tbody>\n",
       "</table>\n",
       "</div>"
      ],
      "text/plain": [
       "                  Sqm_value\n",
       "Type                       \n",
       "Casa                  15156\n",
       "Apartamento            7930\n",
       "Cobertura             15391\n",
       "Consultório            4479\n",
       "Imóvel Comercial      16730\n",
       "Loja                   7095\n",
       "Sala Comercial         8666"
      ]
     },
     "execution_count": 69,
     "metadata": {},
     "output_type": "execute_result"
    }
   ],
   "source": [
    "neighborhood.loc['Freguesia']"
   ]
  },
  {
   "cell_type": "code",
   "execution_count": 72,
   "metadata": {
    "id": "uiacZ9lnevgi"
   },
   "outputs": [
    {
     "data": {
      "text/html": [
       "<div>\n",
       "<style scoped>\n",
       "    .dataframe tbody tr th:only-of-type {\n",
       "        vertical-align: middle;\n",
       "    }\n",
       "\n",
       "    .dataframe tbody tr th {\n",
       "        vertical-align: top;\n",
       "    }\n",
       "\n",
       "    .dataframe thead th {\n",
       "        text-align: right;\n",
       "    }\n",
       "</style>\n",
       "<table border=\"1\" class=\"dataframe\">\n",
       "  <thead>\n",
       "    <tr style=\"text-align: right;\">\n",
       "      <th></th>\n",
       "      <th>Sqm_value</th>\n",
       "    </tr>\n",
       "    <tr>\n",
       "      <th>Type</th>\n",
       "      <th></th>\n",
       "    </tr>\n",
       "  </thead>\n",
       "  <tbody>\n",
       "    <tr>\n",
       "      <th>Casa</th>\n",
       "      <td>19073</td>\n",
       "    </tr>\n",
       "    <tr>\n",
       "      <th>Apartamento</th>\n",
       "      <td>8574</td>\n",
       "    </tr>\n",
       "    <tr>\n",
       "      <th>Cobertura</th>\n",
       "      <td>16140</td>\n",
       "    </tr>\n",
       "    <tr>\n",
       "      <th>Consultório</th>\n",
       "      <td>7554</td>\n",
       "    </tr>\n",
       "    <tr>\n",
       "      <th>Imóvel Comercial</th>\n",
       "      <td>10599</td>\n",
       "    </tr>\n",
       "    <tr>\n",
       "      <th>Loja</th>\n",
       "      <td>7305</td>\n",
       "    </tr>\n",
       "    <tr>\n",
       "      <th>Sala Comercial</th>\n",
       "      <td>5023</td>\n",
       "    </tr>\n",
       "  </tbody>\n",
       "</table>\n",
       "</div>"
      ],
      "text/plain": [
       "                  Sqm_value\n",
       "Type                       \n",
       "Casa                  19073\n",
       "Apartamento            8574\n",
       "Cobertura             16140\n",
       "Consultório            7554\n",
       "Imóvel Comercial      10599\n",
       "Loja                   7305\n",
       "Sala Comercial         5023"
      ]
     },
     "execution_count": 72,
     "metadata": {},
     "output_type": "execute_result"
    }
   ],
   "source": [
    "neighborhood.loc['Jacarepaguá']"
   ]
  },
  {
   "cell_type": "markdown",
   "metadata": {
    "id": "poxpGTtuevgj"
   },
   "source": [
    "#### Ajustando os valores\n",
    "\n",
    "[Documentação](https://pandas.pydata.org/pandas-docs/stable/reference/api/pandas.Series.replace.html)"
   ]
  },
  {
   "cell_type": "code",
   "execution_count": 73,
   "metadata": {
    "id": "XTDo7AvYevgk"
   },
   "outputs": [],
   "source": [
    "data_listings['imovel_endereco_bairro'].replace('Freguesia (Jacarepaguá)', 'Freguesia', inplace=True)"
   ]
  },
  {
   "cell_type": "code",
   "execution_count": 77,
   "metadata": {
    "id": "NAqMX05Yevgk",
    "scrolled": true
   },
   "outputs": [],
   "source": [
    "nb_sample = pd.Series(data_listings['imovel_endereco_bairro'].unique())"
   ]
  },
  {
   "cell_type": "code",
   "execution_count": 75,
   "metadata": {
    "id": "iGudgRQ6evgk",
    "scrolled": false
   },
   "outputs": [
    {
     "data": {
      "text/plain": [
       "True"
      ]
     },
     "execution_count": 75,
     "metadata": {},
     "output_type": "execute_result"
    }
   ],
   "source": [
    "all(nb_sample.isin(nb_all))"
   ]
  },
  {
   "cell_type": "markdown",
   "metadata": {
    "id": "3btbFOGeevgl"
   },
   "source": [
    "### Combinando os *DataFrames*"
   ]
  },
  {
   "cell_type": "markdown",
   "metadata": {
    "id": "CBTdNyc1evgl"
   },
   "source": [
    "#### `merge`\n",
    "\n",
    "[Documentação](https://pandas.pydata.org/pandas-docs/stable/reference/api/pandas.merge.html)\n",
    "\n",
    "```\n",
    "pandas.merge(left, right, how='inner', on=None, left_on=None, right_on=None, left_index=False, right_index=False, sort=False, suffixes='_x', '_y', copy=True, indicator=False, validate=None)\n",
    "```\n",
    "\n",
    "**Parameters**\n",
    "\n",
    "- **left**: DataFrame\n",
    "\n",
    "\n",
    "- **right**: DataFrame\n",
    "    \n",
    "\n",
    "- **how**: {‘left’, ‘right’, ‘outer’, ‘inner’}, *default* ‘inner’\n",
    "\n",
    "        Tipo de junção que será realizada.\n",
    "\n",
    "        - left: usa apenas as chaves do DataFrame especificado no parâmetro left.\n",
    "\n",
    "        - right: usa apenas as chaves do DataFrame especificado no parâmetro right.\n",
    "\n",
    "        - outer: considera todos os registros dos DataFrames especificados nos parâmetros left e right, isto é, faz a união das chaves.\n",
    "\n",
    "        - inner: considera apenas a interseção das chaves dos DataFrames especificados nos parâmetros left e right.\n",
    "    \n",
    "\n",
    "- **on**: label ou list\n",
    "\n",
    "        Nomes das colunas ou dos índices que serão utilizados na junção. Estes devem ser encontrados em ambos os DataFrames.\n",
    "        \n",
    "\n",
    "- **left_on**: label ou list, or array-like\n",
    "\n",
    "        Nomes das colunas ou dos índices do DataFrame especificado em left que serão utilizados na junção.\n",
    "        \n",
    "\n",
    "- **right_on**: label or list, or array-like\n",
    "\n",
    "        Nomes das colunas ou dos índices do DataFrame especificado em right que serão utilizados na junção.\n",
    "    \n",
    "\n",
    "- **left_index**: bool, *default False*\n",
    "\n",
    "        Indica se o índice do DataFrame especificado no parâmetro left deve ser utilizado como chave de junção.\n",
    "        \n",
    "\n",
    "- **right_index**: bool, *default False*\n",
    "\n",
    "        Indica se o índice do DataFrame especificado no parâmetro right deve ser utilizado como chave de junção."
   ]
  },
  {
   "cell_type": "code",
   "execution_count": 79,
   "metadata": {
    "id": "wo8ttXKcevgn",
    "scrolled": true
   },
   "outputs": [
    {
     "data": {
      "text/html": [
       "<div>\n",
       "<style scoped>\n",
       "    .dataframe tbody tr th:only-of-type {\n",
       "        vertical-align: middle;\n",
       "    }\n",
       "\n",
       "    .dataframe tbody tr th {\n",
       "        vertical-align: top;\n",
       "    }\n",
       "\n",
       "    .dataframe thead th {\n",
       "        text-align: right;\n",
       "    }\n",
       "</style>\n",
       "<table border=\"1\" class=\"dataframe\">\n",
       "  <thead>\n",
       "    <tr style=\"text-align: right;\">\n",
       "      <th></th>\n",
       "      <th>imovel_tipos_propriedade</th>\n",
       "      <th>imovel_endereco_bairro</th>\n",
       "      <th>imovel_endereco_localizacao_type</th>\n",
       "      <th>imovel_endereco_localizacao_coordinates</th>\n",
       "      <th>imovel_vagasGaragem</th>\n",
       "      <th>imovel_area</th>\n",
       "      <th>imovel_caracteristicas_propriedade</th>\n",
       "      <th>imovel_caracteristicas_condominio</th>\n",
       "      <th>imovel_caracteristicas_entorno</th>\n",
       "      <th>anuncio_tipos_publicacao</th>\n",
       "      <th>anuncio_tipos_listagem</th>\n",
       "      <th>anuncio_valores_venda</th>\n",
       "      <th>anuncio_valores_aluguel</th>\n",
       "      <th>anuncio_valores_condominio</th>\n",
       "      <th>anuncio_valores_iptu</th>\n",
       "      <th>anuncio_descricao</th>\n",
       "      <th>Sqm_value</th>\n",
       "    </tr>\n",
       "  </thead>\n",
       "  <tbody>\n",
       "    <tr>\n",
       "      <th>0</th>\n",
       "      <td>Casa</td>\n",
       "      <td>Barra da Tijuca</td>\n",
       "      <td>Point</td>\n",
       "      <td>[-43.3039086, -23.0139692]</td>\n",
       "      <td>4</td>\n",
       "      <td>279</td>\n",
       "      <td>[Área de Serviço,  Terraço,  Churrasqueira,  Q...</td>\n",
       "      <td>[Churrasqueira,  Salão de Jogos,  Sauna,  Esta...</td>\n",
       "      <td>[Próximo a Escola Particular,  Próximo ao Metr...</td>\n",
       "      <td>Padrão</td>\n",
       "      <td>Lançamento</td>\n",
       "      <td>2400000.0</td>\n",
       "      <td>0.0</td>\n",
       "      <td>790.0</td>\n",
       "      <td>5700.0</td>\n",
       "      <td>Amplo imóvel para venda com 3 quartos, sendo 1...</td>\n",
       "      <td>12835</td>\n",
       "    </tr>\n",
       "    <tr>\n",
       "      <th>47</th>\n",
       "      <td>Casa</td>\n",
       "      <td>Barra da Tijuca</td>\n",
       "      <td>Point</td>\n",
       "      <td>[-43.3413206, -22.99961]</td>\n",
       "      <td>0</td>\n",
       "      <td>370</td>\n",
       "      <td>NaN</td>\n",
       "      <td>NaN</td>\n",
       "      <td>NaN</td>\n",
       "      <td>Super Destaque</td>\n",
       "      <td>Usado</td>\n",
       "      <td>3200000.0</td>\n",
       "      <td>0.0</td>\n",
       "      <td>2520.0</td>\n",
       "      <td>7600.0</td>\n",
       "      <td>Amplo imóvel para venda com 4 quartos, sendo 1...</td>\n",
       "      <td>12835</td>\n",
       "    </tr>\n",
       "    <tr>\n",
       "      <th>1</th>\n",
       "      <td>Apartamento</td>\n",
       "      <td>Campo Grande</td>\n",
       "      <td>Point</td>\n",
       "      <td>[0, 0]</td>\n",
       "      <td>1</td>\n",
       "      <td>60</td>\n",
       "      <td>[Sauna]</td>\n",
       "      <td>[Elevador,  Playground,  Salão de Festas,  Sis...</td>\n",
       "      <td>[Próximo ao Shopping,  Próximo a Áreas de Laze...</td>\n",
       "      <td>Padrão</td>\n",
       "      <td>Usado</td>\n",
       "      <td>200000.0</td>\n",
       "      <td>0.0</td>\n",
       "      <td>0.0</td>\n",
       "      <td>0.0</td>\n",
       "      <td>Amplo imóvel para venda com 2 quartos, sendo 0...</td>\n",
       "      <td>6425</td>\n",
       "    </tr>\n",
       "    <tr>\n",
       "      <th>16</th>\n",
       "      <td>Apartamento</td>\n",
       "      <td>Campo Grande</td>\n",
       "      <td>Point</td>\n",
       "      <td>[-43.1728965, -22.9068467]</td>\n",
       "      <td>0</td>\n",
       "      <td>40</td>\n",
       "      <td>NaN</td>\n",
       "      <td>NaN</td>\n",
       "      <td>NaN</td>\n",
       "      <td>Padrão</td>\n",
       "      <td>Usado</td>\n",
       "      <td>700000.0</td>\n",
       "      <td>0.0</td>\n",
       "      <td>0.0</td>\n",
       "      <td>0.0</td>\n",
       "      <td>Amplo imóvel para venda com 2 quartos, sendo 0...</td>\n",
       "      <td>6425</td>\n",
       "    </tr>\n",
       "    <tr>\n",
       "      <th>2</th>\n",
       "      <td>Cobertura</td>\n",
       "      <td>Barra da Tijuca</td>\n",
       "      <td>Point</td>\n",
       "      <td>[-43.3037186, -22.9951304]</td>\n",
       "      <td>2</td>\n",
       "      <td>380</td>\n",
       "      <td>[Acessibilidade,  Área de Serviço,  Sauna,  Am...</td>\n",
       "      <td>[Sauna,  Playground,  Quadra Poliesportiva,  S...</td>\n",
       "      <td>[Próximo a Escola Particular]</td>\n",
       "      <td>Premium</td>\n",
       "      <td>Usado</td>\n",
       "      <td>4400000.0</td>\n",
       "      <td>0.0</td>\n",
       "      <td>1200.0</td>\n",
       "      <td>850.0</td>\n",
       "      <td>Amplo imóvel para venda com 5 quartos, sendo 4...</td>\n",
       "      <td>12585</td>\n",
       "    </tr>\n",
       "    <tr>\n",
       "      <th>...</th>\n",
       "      <td>...</td>\n",
       "      <td>...</td>\n",
       "      <td>...</td>\n",
       "      <td>...</td>\n",
       "      <td>...</td>\n",
       "      <td>...</td>\n",
       "      <td>...</td>\n",
       "      <td>...</td>\n",
       "      <td>...</td>\n",
       "      <td>...</td>\n",
       "      <td>...</td>\n",
       "      <td>...</td>\n",
       "      <td>...</td>\n",
       "      <td>...</td>\n",
       "      <td>...</td>\n",
       "      <td>...</td>\n",
       "      <td>...</td>\n",
       "    </tr>\n",
       "    <tr>\n",
       "      <th>60</th>\n",
       "      <td>Apartamento</td>\n",
       "      <td>Vila Isabel</td>\n",
       "      <td>Point</td>\n",
       "      <td>[-43.2508337, -22.9167328]</td>\n",
       "      <td>1</td>\n",
       "      <td>70</td>\n",
       "      <td>['Gás Encanado', 'Quarto/WC Empregada', 'Terra...</td>\n",
       "      <td>['Academia']</td>\n",
       "      <td>['Próximo a Mercado', 'Próximo a Praia', 'Próx...</td>\n",
       "      <td>Padrão</td>\n",
       "      <td>Usado</td>\n",
       "      <td>370000.0</td>\n",
       "      <td>0.0</td>\n",
       "      <td>500.0</td>\n",
       "      <td>0.0</td>\n",
       "      <td>Amplo imóvel para venda com 2 quartos, sendo 0...</td>\n",
       "      <td>5964</td>\n",
       "    </tr>\n",
       "    <tr>\n",
       "      <th>63</th>\n",
       "      <td>Cobertura</td>\n",
       "      <td>Méier</td>\n",
       "      <td>Point</td>\n",
       "      <td>[-43.279874, -22.894531]</td>\n",
       "      <td>0</td>\n",
       "      <td>0</td>\n",
       "      <td>[]</td>\n",
       "      <td>['Playground', 'Elevador', 'Salão de Festas', ...</td>\n",
       "      <td>['Próximo a Restaurante', 'Próximo a Mercado',...</td>\n",
       "      <td>Padrão</td>\n",
       "      <td>Usado</td>\n",
       "      <td>350000.0</td>\n",
       "      <td>0.0</td>\n",
       "      <td>0.0</td>\n",
       "      <td>0.0</td>\n",
       "      <td>Amplo imóvel para venda com 0 quartos, sendo 0...</td>\n",
       "      <td>17199</td>\n",
       "    </tr>\n",
       "    <tr>\n",
       "      <th>64</th>\n",
       "      <td>Cobertura</td>\n",
       "      <td>Méier</td>\n",
       "      <td>Point</td>\n",
       "      <td>[0, 0]</td>\n",
       "      <td>0</td>\n",
       "      <td>62</td>\n",
       "      <td>['Terraço', 'Área de Serviço', 'Sauna', 'Churr...</td>\n",
       "      <td>['Acessibilidade', 'Bicicletário', 'Aceita Pet...</td>\n",
       "      <td>['Próximo ao Metrô', 'Próximo a Restaurante', ...</td>\n",
       "      <td>Padrão</td>\n",
       "      <td>Usado</td>\n",
       "      <td>265000.0</td>\n",
       "      <td>0.0</td>\n",
       "      <td>220.0</td>\n",
       "      <td>0.0</td>\n",
       "      <td>Amplo imóvel para venda com 3 quartos, sendo 0...</td>\n",
       "      <td>17199</td>\n",
       "    </tr>\n",
       "    <tr>\n",
       "      <th>66</th>\n",
       "      <td>Apartamento</td>\n",
       "      <td>Leblon</td>\n",
       "      <td>Point</td>\n",
       "      <td>[-43.2253114, -22.9843603]</td>\n",
       "      <td>1</td>\n",
       "      <td>218</td>\n",
       "      <td>['Piscina', 'Gás Encanado']</td>\n",
       "      <td>['Academia', 'Aceita Pet', 'Sistema de Incêndi...</td>\n",
       "      <td>['Próximo a Comércio Diversos', 'Próximo a Cen...</td>\n",
       "      <td>Premium</td>\n",
       "      <td>Usado</td>\n",
       "      <td>4500000.0</td>\n",
       "      <td>0.0</td>\n",
       "      <td>3600.0</td>\n",
       "      <td>7000.0</td>\n",
       "      <td>Amplo imóvel para venda com 3 quartos, sendo 1...</td>\n",
       "      <td>6388</td>\n",
       "    </tr>\n",
       "    <tr>\n",
       "      <th>68</th>\n",
       "      <td>Sala Comercial</td>\n",
       "      <td>Cachambi</td>\n",
       "      <td>Point</td>\n",
       "      <td>[-43.2781994, -22.8917611]</td>\n",
       "      <td>2</td>\n",
       "      <td>138</td>\n",
       "      <td>['Gás Encanado', 'Acessibilidade', 'Ambientes ...</td>\n",
       "      <td>['Playground', 'Depósito Privativo', 'Academia...</td>\n",
       "      <td>['Próximo a Praia', 'Próximo a Serviços de Saú...</td>\n",
       "      <td>Premium</td>\n",
       "      <td>Usado</td>\n",
       "      <td>619000.0</td>\n",
       "      <td>0.0</td>\n",
       "      <td>506.0</td>\n",
       "      <td>1404.0</td>\n",
       "      <td>Amplo imóvel para venda com 3 quartos, sendo 1...</td>\n",
       "      <td>6727</td>\n",
       "    </tr>\n",
       "  </tbody>\n",
       "</table>\n",
       "<p>70 rows × 17 columns</p>\n",
       "</div>"
      ],
      "text/plain": [
       "   imovel_tipos_propriedade imovel_endereco_bairro  \\\n",
       "0                      Casa        Barra da Tijuca   \n",
       "47                     Casa        Barra da Tijuca   \n",
       "1               Apartamento           Campo Grande   \n",
       "16              Apartamento           Campo Grande   \n",
       "2                 Cobertura        Barra da Tijuca   \n",
       "..                      ...                    ...   \n",
       "60              Apartamento            Vila Isabel   \n",
       "63                Cobertura                  Méier   \n",
       "64                Cobertura                  Méier   \n",
       "66              Apartamento                 Leblon   \n",
       "68           Sala Comercial               Cachambi   \n",
       "\n",
       "   imovel_endereco_localizacao_type imovel_endereco_localizacao_coordinates  \\\n",
       "0                             Point              [-43.3039086, -23.0139692]   \n",
       "47                            Point                [-43.3413206, -22.99961]   \n",
       "1                             Point                                  [0, 0]   \n",
       "16                            Point              [-43.1728965, -22.9068467]   \n",
       "2                             Point              [-43.3037186, -22.9951304]   \n",
       "..                              ...                                     ...   \n",
       "60                            Point              [-43.2508337, -22.9167328]   \n",
       "63                            Point                [-43.279874, -22.894531]   \n",
       "64                            Point                                  [0, 0]   \n",
       "66                            Point              [-43.2253114, -22.9843603]   \n",
       "68                            Point              [-43.2781994, -22.8917611]   \n",
       "\n",
       "    imovel_vagasGaragem  imovel_area  \\\n",
       "0                     4          279   \n",
       "47                    0          370   \n",
       "1                     1           60   \n",
       "16                    0           40   \n",
       "2                     2          380   \n",
       "..                  ...          ...   \n",
       "60                    1           70   \n",
       "63                    0            0   \n",
       "64                    0           62   \n",
       "66                    1          218   \n",
       "68                    2          138   \n",
       "\n",
       "                   imovel_caracteristicas_propriedade  \\\n",
       "0   [Área de Serviço,  Terraço,  Churrasqueira,  Q...   \n",
       "47                                                NaN   \n",
       "1                                             [Sauna]   \n",
       "16                                                NaN   \n",
       "2   [Acessibilidade,  Área de Serviço,  Sauna,  Am...   \n",
       "..                                                ...   \n",
       "60  ['Gás Encanado', 'Quarto/WC Empregada', 'Terra...   \n",
       "63                                                 []   \n",
       "64  ['Terraço', 'Área de Serviço', 'Sauna', 'Churr...   \n",
       "66                        ['Piscina', 'Gás Encanado']   \n",
       "68  ['Gás Encanado', 'Acessibilidade', 'Ambientes ...   \n",
       "\n",
       "                    imovel_caracteristicas_condominio  \\\n",
       "0   [Churrasqueira,  Salão de Jogos,  Sauna,  Esta...   \n",
       "47                                                NaN   \n",
       "1   [Elevador,  Playground,  Salão de Festas,  Sis...   \n",
       "16                                                NaN   \n",
       "2   [Sauna,  Playground,  Quadra Poliesportiva,  S...   \n",
       "..                                                ...   \n",
       "60                                       ['Academia']   \n",
       "63  ['Playground', 'Elevador', 'Salão de Festas', ...   \n",
       "64  ['Acessibilidade', 'Bicicletário', 'Aceita Pet...   \n",
       "66  ['Academia', 'Aceita Pet', 'Sistema de Incêndi...   \n",
       "68  ['Playground', 'Depósito Privativo', 'Academia...   \n",
       "\n",
       "                       imovel_caracteristicas_entorno  \\\n",
       "0   [Próximo a Escola Particular,  Próximo ao Metr...   \n",
       "47                                                NaN   \n",
       "1   [Próximo ao Shopping,  Próximo a Áreas de Laze...   \n",
       "16                                                NaN   \n",
       "2                       [Próximo a Escola Particular]   \n",
       "..                                                ...   \n",
       "60  ['Próximo a Mercado', 'Próximo a Praia', 'Próx...   \n",
       "63  ['Próximo a Restaurante', 'Próximo a Mercado',...   \n",
       "64  ['Próximo ao Metrô', 'Próximo a Restaurante', ...   \n",
       "66  ['Próximo a Comércio Diversos', 'Próximo a Cen...   \n",
       "68  ['Próximo a Praia', 'Próximo a Serviços de Saú...   \n",
       "\n",
       "   anuncio_tipos_publicacao anuncio_tipos_listagem  anuncio_valores_venda  \\\n",
       "0                    Padrão             Lançamento              2400000.0   \n",
       "47           Super Destaque                  Usado              3200000.0   \n",
       "1                    Padrão                  Usado               200000.0   \n",
       "16                   Padrão                  Usado               700000.0   \n",
       "2                   Premium                  Usado              4400000.0   \n",
       "..                      ...                    ...                    ...   \n",
       "60                   Padrão                  Usado               370000.0   \n",
       "63                   Padrão                  Usado               350000.0   \n",
       "64                   Padrão                  Usado               265000.0   \n",
       "66                  Premium                  Usado              4500000.0   \n",
       "68                  Premium                  Usado               619000.0   \n",
       "\n",
       "    anuncio_valores_aluguel  anuncio_valores_condominio  anuncio_valores_iptu  \\\n",
       "0                       0.0                       790.0                5700.0   \n",
       "47                      0.0                      2520.0                7600.0   \n",
       "1                       0.0                         0.0                   0.0   \n",
       "16                      0.0                         0.0                   0.0   \n",
       "2                       0.0                      1200.0                 850.0   \n",
       "..                      ...                         ...                   ...   \n",
       "60                      0.0                       500.0                   0.0   \n",
       "63                      0.0                         0.0                   0.0   \n",
       "64                      0.0                       220.0                   0.0   \n",
       "66                      0.0                      3600.0                7000.0   \n",
       "68                      0.0                       506.0                1404.0   \n",
       "\n",
       "                                    anuncio_descricao  Sqm_value  \n",
       "0   Amplo imóvel para venda com 3 quartos, sendo 1...      12835  \n",
       "47  Amplo imóvel para venda com 4 quartos, sendo 1...      12835  \n",
       "1   Amplo imóvel para venda com 2 quartos, sendo 0...       6425  \n",
       "16  Amplo imóvel para venda com 2 quartos, sendo 0...       6425  \n",
       "2   Amplo imóvel para venda com 5 quartos, sendo 4...      12585  \n",
       "..                                                ...        ...  \n",
       "60  Amplo imóvel para venda com 2 quartos, sendo 0...       5964  \n",
       "63  Amplo imóvel para venda com 0 quartos, sendo 0...      17199  \n",
       "64  Amplo imóvel para venda com 3 quartos, sendo 0...      17199  \n",
       "66  Amplo imóvel para venda com 3 quartos, sendo 1...       6388  \n",
       "68  Amplo imóvel para venda com 3 quartos, sendo 1...       6727  \n",
       "\n",
       "[70 rows x 17 columns]"
      ]
     },
     "execution_count": 79,
     "metadata": {},
     "output_type": "execute_result"
    }
   ],
   "source": [
    "data_listings = pd.merge(\n",
    "    left = data_listings, \n",
    "    right = neighborhood,\n",
    "    left_on = ['imovel_endereco_bairro', 'imovel_tipos_propriedade'],\n",
    "    right_index = True\n",
    ")\n",
    "data_listings"
   ]
  },
  {
   "cell_type": "markdown",
   "metadata": {
    "id": "ymrhrLaYevgn"
   },
   "source": [
    "# ADICIONANDO INFORMAÇÕES\n",
    "---"
   ]
  },
  {
   "cell_type": "markdown",
   "metadata": {
    "id": "4aqxo4l-evgn"
   },
   "source": [
    "## Criando as colunas `quartos`, `suites` e `banheiros`"
   ]
  },
  {
   "cell_type": "code",
   "execution_count": 80,
   "metadata": {
    "id": "giBGU4gOevgs"
   },
   "outputs": [
    {
     "data": {
      "text/plain": [
       "array(['Amplo imóvel para venda com 3 quartos, sendo 1 suítes, e 2 banheiros no total.',\n",
       "       'Amplo imóvel para venda com 4 quartos, sendo 1 suítes, e 2 banheiros no total.',\n",
       "       'Amplo imóvel para venda com 2 quartos, sendo 0 suítes, e 1 banheiros no total.',\n",
       "       'Amplo imóvel para venda com 2 quartos, sendo 0 suítes, e 1 banheiros no total.',\n",
       "       'Amplo imóvel para venda com 5 quartos, sendo 4 suítes, e 5 banheiros no total.',\n",
       "       'Amplo imóvel para venda com 2 quartos, sendo 1 suítes, e 2 banheiros no total.',\n",
       "       'Amplo imóvel para venda com 0 quartos, sendo 0 suítes, e 1 banheiros no total.',\n",
       "       'Amplo imóvel para venda com 1 quartos, sendo 0 suítes, e 0 banheiros no total.',\n",
       "       'Amplo imóvel para venda com 2 quartos, sendo 0 suítes, e 1 banheiros no total.',\n",
       "       'Amplo imóvel para venda com 2 quartos, sendo 0 suítes, e 1 banheiros no total.'],\n",
       "      dtype=object)"
      ]
     },
     "execution_count": 80,
     "metadata": {},
     "output_type": "execute_result"
    }
   ],
   "source": [
    "data_listings['anuncio_descricao'].values[:10]"
   ]
  },
  {
   "cell_type": "markdown",
   "metadata": {
    "id": "nya9Yy7Kevgs"
   },
   "source": [
    "### `str.extractall`\n",
    "\n",
    "[Documentação](https://pandas.pydata.org/pandas-docs/stable/reference/api/pandas.Series.str.extractall.html)"
   ]
  },
  {
   "cell_type": "code",
   "execution_count": 96,
   "metadata": {
    "id": "Toi4yfM-evgs",
    "scrolled": true
   },
   "outputs": [
    {
     "data": {
      "text/html": [
       "<div>\n",
       "<style scoped>\n",
       "    .dataframe tbody tr th:only-of-type {\n",
       "        vertical-align: middle;\n",
       "    }\n",
       "\n",
       "    .dataframe tbody tr th {\n",
       "        vertical-align: top;\n",
       "    }\n",
       "\n",
       "    .dataframe thead th {\n",
       "        text-align: right;\n",
       "    }\n",
       "</style>\n",
       "<table border=\"1\" class=\"dataframe\">\n",
       "  <thead>\n",
       "    <tr style=\"text-align: right;\">\n",
       "      <th></th>\n",
       "      <th></th>\n",
       "      <th>0</th>\n",
       "    </tr>\n",
       "    <tr>\n",
       "      <th></th>\n",
       "      <th>match</th>\n",
       "      <th></th>\n",
       "    </tr>\n",
       "  </thead>\n",
       "  <tbody>\n",
       "    <tr>\n",
       "      <th rowspan=\"3\" valign=\"top\">0</th>\n",
       "      <th>0</th>\n",
       "      <td>3</td>\n",
       "    </tr>\n",
       "    <tr>\n",
       "      <th>1</th>\n",
       "      <td>1</td>\n",
       "    </tr>\n",
       "    <tr>\n",
       "      <th>2</th>\n",
       "      <td>2</td>\n",
       "    </tr>\n",
       "    <tr>\n",
       "      <th rowspan=\"3\" valign=\"top\">47</th>\n",
       "      <th>0</th>\n",
       "      <td>4</td>\n",
       "    </tr>\n",
       "    <tr>\n",
       "      <th>1</th>\n",
       "      <td>1</td>\n",
       "    </tr>\n",
       "    <tr>\n",
       "      <th>2</th>\n",
       "      <td>2</td>\n",
       "    </tr>\n",
       "    <tr>\n",
       "      <th rowspan=\"3\" valign=\"top\">1</th>\n",
       "      <th>0</th>\n",
       "      <td>2</td>\n",
       "    </tr>\n",
       "    <tr>\n",
       "      <th>1</th>\n",
       "      <td>0</td>\n",
       "    </tr>\n",
       "    <tr>\n",
       "      <th>2</th>\n",
       "      <td>1</td>\n",
       "    </tr>\n",
       "  </tbody>\n",
       "</table>\n",
       "</div>"
      ],
      "text/plain": [
       "          0\n",
       "   match   \n",
       "0  0      3\n",
       "   1      1\n",
       "   2      2\n",
       "47 0      4\n",
       "   1      1\n",
       "   2      2\n",
       "1  0      2\n",
       "   1      0\n",
       "   2      1"
      ]
     },
     "execution_count": 96,
     "metadata": {},
     "output_type": "execute_result"
    }
   ],
   "source": [
    "config = data_listings['anuncio_descricao'].str.extractall(\n",
    "    '(\\d+)'\n",
    ")\n",
    "config.head(9)"
   ]
  },
  {
   "cell_type": "markdown",
   "metadata": {
    "id": "p2bibVe9evgs"
   },
   "source": [
    "### `unstack`\n",
    "\n",
    "[Documentação](https://pandas.pydata.org/pandas-docs/stable/reference/api/pandas.DataFrame.unstack.html)"
   ]
  },
  {
   "cell_type": "code",
   "execution_count": 97,
   "metadata": {
    "id": "QXWYy2h8evgt"
   },
   "outputs": [
    {
     "data": {
      "text/html": [
       "<div>\n",
       "<style scoped>\n",
       "    .dataframe tbody tr th:only-of-type {\n",
       "        vertical-align: middle;\n",
       "    }\n",
       "\n",
       "    .dataframe tbody tr th {\n",
       "        vertical-align: top;\n",
       "    }\n",
       "\n",
       "    .dataframe thead tr th {\n",
       "        text-align: left;\n",
       "    }\n",
       "</style>\n",
       "<table border=\"1\" class=\"dataframe\">\n",
       "  <thead>\n",
       "    <tr>\n",
       "      <th></th>\n",
       "      <th colspan=\"3\" halign=\"left\">quartos</th>\n",
       "    </tr>\n",
       "    <tr>\n",
       "      <th>match</th>\n",
       "      <th>quartos</th>\n",
       "      <th>suites</th>\n",
       "      <th>banheiros</th>\n",
       "    </tr>\n",
       "  </thead>\n",
       "  <tbody>\n",
       "    <tr>\n",
       "      <th>0</th>\n",
       "      <td>3</td>\n",
       "      <td>1</td>\n",
       "      <td>2</td>\n",
       "    </tr>\n",
       "    <tr>\n",
       "      <th>1</th>\n",
       "      <td>2</td>\n",
       "      <td>0</td>\n",
       "      <td>1</td>\n",
       "    </tr>\n",
       "    <tr>\n",
       "      <th>2</th>\n",
       "      <td>5</td>\n",
       "      <td>4</td>\n",
       "      <td>5</td>\n",
       "    </tr>\n",
       "    <tr>\n",
       "      <th>3</th>\n",
       "      <td>2</td>\n",
       "      <td>1</td>\n",
       "      <td>2</td>\n",
       "    </tr>\n",
       "    <tr>\n",
       "      <th>4</th>\n",
       "      <td>0</td>\n",
       "      <td>0</td>\n",
       "      <td>1</td>\n",
       "    </tr>\n",
       "    <tr>\n",
       "      <th>...</th>\n",
       "      <td>...</td>\n",
       "      <td>...</td>\n",
       "      <td>...</td>\n",
       "    </tr>\n",
       "    <tr>\n",
       "      <th>65</th>\n",
       "      <td>4</td>\n",
       "      <td>2</td>\n",
       "      <td>3</td>\n",
       "    </tr>\n",
       "    <tr>\n",
       "      <th>66</th>\n",
       "      <td>3</td>\n",
       "      <td>1</td>\n",
       "      <td>2</td>\n",
       "    </tr>\n",
       "    <tr>\n",
       "      <th>67</th>\n",
       "      <td>1</td>\n",
       "      <td>0</td>\n",
       "      <td>1</td>\n",
       "    </tr>\n",
       "    <tr>\n",
       "      <th>68</th>\n",
       "      <td>3</td>\n",
       "      <td>1</td>\n",
       "      <td>2</td>\n",
       "    </tr>\n",
       "    <tr>\n",
       "      <th>69</th>\n",
       "      <td>3</td>\n",
       "      <td>1</td>\n",
       "      <td>2</td>\n",
       "    </tr>\n",
       "  </tbody>\n",
       "</table>\n",
       "<p>70 rows × 3 columns</p>\n",
       "</div>"
      ],
      "text/plain": [
       "      quartos                 \n",
       "match quartos suites banheiros\n",
       "0           3      1         2\n",
       "1           2      0         1\n",
       "2           5      4         5\n",
       "3           2      1         2\n",
       "4           0      0         1\n",
       "..        ...    ...       ...\n",
       "65          4      2         3\n",
       "66          3      1         2\n",
       "67          1      0         1\n",
       "68          3      1         2\n",
       "69          3      1         2\n",
       "\n",
       "[70 rows x 3 columns]"
      ]
     },
     "execution_count": 97,
     "metadata": {},
     "output_type": "execute_result"
    }
   ],
   "source": [
    "config = config.unstack().rename(columns={\n",
    "    0: 'quartos', 1: 'suites', 2: 'banheiros'\n",
    "})\n",
    "\n",
    "config"
   ]
  },
  {
   "cell_type": "markdown",
   "metadata": {
    "id": "-jVhoVI-evgt"
   },
   "source": [
    "### `droplevel`\n",
    "\n",
    "[Documentação](https://pandas.pydata.org/pandas-docs/stable/reference/api/pandas.DataFrame.droplevel.html)"
   ]
  },
  {
   "cell_type": "code",
   "execution_count": 99,
   "metadata": {
    "id": "TSojRmn9evgt"
   },
   "outputs": [
    {
     "data": {
      "text/html": [
       "<div>\n",
       "<style scoped>\n",
       "    .dataframe tbody tr th:only-of-type {\n",
       "        vertical-align: middle;\n",
       "    }\n",
       "\n",
       "    .dataframe tbody tr th {\n",
       "        vertical-align: top;\n",
       "    }\n",
       "\n",
       "    .dataframe thead th {\n",
       "        text-align: right;\n",
       "    }\n",
       "</style>\n",
       "<table border=\"1\" class=\"dataframe\">\n",
       "  <thead>\n",
       "    <tr style=\"text-align: right;\">\n",
       "      <th>match</th>\n",
       "      <th>quartos</th>\n",
       "      <th>suites</th>\n",
       "      <th>banheiros</th>\n",
       "    </tr>\n",
       "  </thead>\n",
       "  <tbody>\n",
       "    <tr>\n",
       "      <th>0</th>\n",
       "      <td>3</td>\n",
       "      <td>1</td>\n",
       "      <td>2</td>\n",
       "    </tr>\n",
       "    <tr>\n",
       "      <th>1</th>\n",
       "      <td>2</td>\n",
       "      <td>0</td>\n",
       "      <td>1</td>\n",
       "    </tr>\n",
       "    <tr>\n",
       "      <th>2</th>\n",
       "      <td>5</td>\n",
       "      <td>4</td>\n",
       "      <td>5</td>\n",
       "    </tr>\n",
       "    <tr>\n",
       "      <th>3</th>\n",
       "      <td>2</td>\n",
       "      <td>1</td>\n",
       "      <td>2</td>\n",
       "    </tr>\n",
       "    <tr>\n",
       "      <th>4</th>\n",
       "      <td>0</td>\n",
       "      <td>0</td>\n",
       "      <td>1</td>\n",
       "    </tr>\n",
       "    <tr>\n",
       "      <th>...</th>\n",
       "      <td>...</td>\n",
       "      <td>...</td>\n",
       "      <td>...</td>\n",
       "    </tr>\n",
       "    <tr>\n",
       "      <th>65</th>\n",
       "      <td>4</td>\n",
       "      <td>2</td>\n",
       "      <td>3</td>\n",
       "    </tr>\n",
       "    <tr>\n",
       "      <th>66</th>\n",
       "      <td>3</td>\n",
       "      <td>1</td>\n",
       "      <td>2</td>\n",
       "    </tr>\n",
       "    <tr>\n",
       "      <th>67</th>\n",
       "      <td>1</td>\n",
       "      <td>0</td>\n",
       "      <td>1</td>\n",
       "    </tr>\n",
       "    <tr>\n",
       "      <th>68</th>\n",
       "      <td>3</td>\n",
       "      <td>1</td>\n",
       "      <td>2</td>\n",
       "    </tr>\n",
       "    <tr>\n",
       "      <th>69</th>\n",
       "      <td>3</td>\n",
       "      <td>1</td>\n",
       "      <td>2</td>\n",
       "    </tr>\n",
       "  </tbody>\n",
       "</table>\n",
       "<p>70 rows × 3 columns</p>\n",
       "</div>"
      ],
      "text/plain": [
       "match quartos suites banheiros\n",
       "0           3      1         2\n",
       "1           2      0         1\n",
       "2           5      4         5\n",
       "3           2      1         2\n",
       "4           0      0         1\n",
       "..        ...    ...       ...\n",
       "65          4      2         3\n",
       "66          3      1         2\n",
       "67          1      0         1\n",
       "68          3      1         2\n",
       "69          3      1         2\n",
       "\n",
       "[70 rows x 3 columns]"
      ]
     },
     "execution_count": 99,
     "metadata": {},
     "output_type": "execute_result"
    }
   ],
   "source": [
    "config = config.droplevel(level=0, axis=1)\n",
    "config"
   ]
  },
  {
   "cell_type": "code",
   "execution_count": 100,
   "metadata": {
    "id": "ac4wLkEGevgt",
    "scrolled": true
   },
   "outputs": [
    {
     "data": {
      "text/html": [
       "<div>\n",
       "<style scoped>\n",
       "    .dataframe tbody tr th:only-of-type {\n",
       "        vertical-align: middle;\n",
       "    }\n",
       "\n",
       "    .dataframe tbody tr th {\n",
       "        vertical-align: top;\n",
       "    }\n",
       "\n",
       "    .dataframe thead th {\n",
       "        text-align: right;\n",
       "    }\n",
       "</style>\n",
       "<table border=\"1\" class=\"dataframe\">\n",
       "  <thead>\n",
       "    <tr style=\"text-align: right;\">\n",
       "      <th></th>\n",
       "      <th>imovel_tipos_propriedade</th>\n",
       "      <th>imovel_endereco_bairro</th>\n",
       "      <th>imovel_endereco_localizacao_type</th>\n",
       "      <th>imovel_endereco_localizacao_coordinates</th>\n",
       "      <th>imovel_vagasGaragem</th>\n",
       "      <th>imovel_area</th>\n",
       "      <th>imovel_caracteristicas_propriedade</th>\n",
       "      <th>imovel_caracteristicas_condominio</th>\n",
       "      <th>imovel_caracteristicas_entorno</th>\n",
       "      <th>anuncio_tipos_publicacao</th>\n",
       "      <th>anuncio_tipos_listagem</th>\n",
       "      <th>anuncio_valores_venda</th>\n",
       "      <th>anuncio_valores_aluguel</th>\n",
       "      <th>anuncio_valores_condominio</th>\n",
       "      <th>anuncio_valores_iptu</th>\n",
       "      <th>anuncio_descricao</th>\n",
       "      <th>Sqm_value</th>\n",
       "      <th>quartos</th>\n",
       "      <th>suites</th>\n",
       "      <th>banheiros</th>\n",
       "    </tr>\n",
       "  </thead>\n",
       "  <tbody>\n",
       "    <tr>\n",
       "      <th>0</th>\n",
       "      <td>Casa</td>\n",
       "      <td>Barra da Tijuca</td>\n",
       "      <td>Point</td>\n",
       "      <td>[-43.3039086, -23.0139692]</td>\n",
       "      <td>4</td>\n",
       "      <td>279</td>\n",
       "      <td>[Área de Serviço,  Terraço,  Churrasqueira,  Q...</td>\n",
       "      <td>[Churrasqueira,  Salão de Jogos,  Sauna,  Esta...</td>\n",
       "      <td>[Próximo a Escola Particular,  Próximo ao Metr...</td>\n",
       "      <td>Padrão</td>\n",
       "      <td>Lançamento</td>\n",
       "      <td>2400000.0</td>\n",
       "      <td>0.0</td>\n",
       "      <td>790.0</td>\n",
       "      <td>5700.0</td>\n",
       "      <td>Amplo imóvel para venda com 3 quartos, sendo 1...</td>\n",
       "      <td>12835</td>\n",
       "      <td>3</td>\n",
       "      <td>1</td>\n",
       "      <td>2</td>\n",
       "    </tr>\n",
       "    <tr>\n",
       "      <th>47</th>\n",
       "      <td>Casa</td>\n",
       "      <td>Barra da Tijuca</td>\n",
       "      <td>Point</td>\n",
       "      <td>[-43.3413206, -22.99961]</td>\n",
       "      <td>0</td>\n",
       "      <td>370</td>\n",
       "      <td>NaN</td>\n",
       "      <td>NaN</td>\n",
       "      <td>NaN</td>\n",
       "      <td>Super Destaque</td>\n",
       "      <td>Usado</td>\n",
       "      <td>3200000.0</td>\n",
       "      <td>0.0</td>\n",
       "      <td>2520.0</td>\n",
       "      <td>7600.0</td>\n",
       "      <td>Amplo imóvel para venda com 4 quartos, sendo 1...</td>\n",
       "      <td>12835</td>\n",
       "      <td>4</td>\n",
       "      <td>1</td>\n",
       "      <td>2</td>\n",
       "    </tr>\n",
       "    <tr>\n",
       "      <th>1</th>\n",
       "      <td>Apartamento</td>\n",
       "      <td>Campo Grande</td>\n",
       "      <td>Point</td>\n",
       "      <td>[0, 0]</td>\n",
       "      <td>1</td>\n",
       "      <td>60</td>\n",
       "      <td>[Sauna]</td>\n",
       "      <td>[Elevador,  Playground,  Salão de Festas,  Sis...</td>\n",
       "      <td>[Próximo ao Shopping,  Próximo a Áreas de Laze...</td>\n",
       "      <td>Padrão</td>\n",
       "      <td>Usado</td>\n",
       "      <td>200000.0</td>\n",
       "      <td>0.0</td>\n",
       "      <td>0.0</td>\n",
       "      <td>0.0</td>\n",
       "      <td>Amplo imóvel para venda com 2 quartos, sendo 0...</td>\n",
       "      <td>6425</td>\n",
       "      <td>2</td>\n",
       "      <td>0</td>\n",
       "      <td>1</td>\n",
       "    </tr>\n",
       "    <tr>\n",
       "      <th>16</th>\n",
       "      <td>Apartamento</td>\n",
       "      <td>Campo Grande</td>\n",
       "      <td>Point</td>\n",
       "      <td>[-43.1728965, -22.9068467]</td>\n",
       "      <td>0</td>\n",
       "      <td>40</td>\n",
       "      <td>NaN</td>\n",
       "      <td>NaN</td>\n",
       "      <td>NaN</td>\n",
       "      <td>Padrão</td>\n",
       "      <td>Usado</td>\n",
       "      <td>700000.0</td>\n",
       "      <td>0.0</td>\n",
       "      <td>0.0</td>\n",
       "      <td>0.0</td>\n",
       "      <td>Amplo imóvel para venda com 2 quartos, sendo 0...</td>\n",
       "      <td>6425</td>\n",
       "      <td>2</td>\n",
       "      <td>0</td>\n",
       "      <td>1</td>\n",
       "    </tr>\n",
       "    <tr>\n",
       "      <th>2</th>\n",
       "      <td>Cobertura</td>\n",
       "      <td>Barra da Tijuca</td>\n",
       "      <td>Point</td>\n",
       "      <td>[-43.3037186, -22.9951304]</td>\n",
       "      <td>2</td>\n",
       "      <td>380</td>\n",
       "      <td>[Acessibilidade,  Área de Serviço,  Sauna,  Am...</td>\n",
       "      <td>[Sauna,  Playground,  Quadra Poliesportiva,  S...</td>\n",
       "      <td>[Próximo a Escola Particular]</td>\n",
       "      <td>Premium</td>\n",
       "      <td>Usado</td>\n",
       "      <td>4400000.0</td>\n",
       "      <td>0.0</td>\n",
       "      <td>1200.0</td>\n",
       "      <td>850.0</td>\n",
       "      <td>Amplo imóvel para venda com 5 quartos, sendo 4...</td>\n",
       "      <td>12585</td>\n",
       "      <td>5</td>\n",
       "      <td>4</td>\n",
       "      <td>5</td>\n",
       "    </tr>\n",
       "  </tbody>\n",
       "</table>\n",
       "</div>"
      ],
      "text/plain": [
       "   imovel_tipos_propriedade imovel_endereco_bairro  \\\n",
       "0                      Casa        Barra da Tijuca   \n",
       "47                     Casa        Barra da Tijuca   \n",
       "1               Apartamento           Campo Grande   \n",
       "16              Apartamento           Campo Grande   \n",
       "2                 Cobertura        Barra da Tijuca   \n",
       "\n",
       "   imovel_endereco_localizacao_type imovel_endereco_localizacao_coordinates  \\\n",
       "0                             Point              [-43.3039086, -23.0139692]   \n",
       "47                            Point                [-43.3413206, -22.99961]   \n",
       "1                             Point                                  [0, 0]   \n",
       "16                            Point              [-43.1728965, -22.9068467]   \n",
       "2                             Point              [-43.3037186, -22.9951304]   \n",
       "\n",
       "    imovel_vagasGaragem  imovel_area  \\\n",
       "0                     4          279   \n",
       "47                    0          370   \n",
       "1                     1           60   \n",
       "16                    0           40   \n",
       "2                     2          380   \n",
       "\n",
       "                   imovel_caracteristicas_propriedade  \\\n",
       "0   [Área de Serviço,  Terraço,  Churrasqueira,  Q...   \n",
       "47                                                NaN   \n",
       "1                                             [Sauna]   \n",
       "16                                                NaN   \n",
       "2   [Acessibilidade,  Área de Serviço,  Sauna,  Am...   \n",
       "\n",
       "                    imovel_caracteristicas_condominio  \\\n",
       "0   [Churrasqueira,  Salão de Jogos,  Sauna,  Esta...   \n",
       "47                                                NaN   \n",
       "1   [Elevador,  Playground,  Salão de Festas,  Sis...   \n",
       "16                                                NaN   \n",
       "2   [Sauna,  Playground,  Quadra Poliesportiva,  S...   \n",
       "\n",
       "                       imovel_caracteristicas_entorno  \\\n",
       "0   [Próximo a Escola Particular,  Próximo ao Metr...   \n",
       "47                                                NaN   \n",
       "1   [Próximo ao Shopping,  Próximo a Áreas de Laze...   \n",
       "16                                                NaN   \n",
       "2                       [Próximo a Escola Particular]   \n",
       "\n",
       "   anuncio_tipos_publicacao anuncio_tipos_listagem  anuncio_valores_venda  \\\n",
       "0                    Padrão             Lançamento              2400000.0   \n",
       "47           Super Destaque                  Usado              3200000.0   \n",
       "1                    Padrão                  Usado               200000.0   \n",
       "16                   Padrão                  Usado               700000.0   \n",
       "2                   Premium                  Usado              4400000.0   \n",
       "\n",
       "    anuncio_valores_aluguel  anuncio_valores_condominio  anuncio_valores_iptu  \\\n",
       "0                       0.0                       790.0                5700.0   \n",
       "47                      0.0                      2520.0                7600.0   \n",
       "1                       0.0                         0.0                   0.0   \n",
       "16                      0.0                         0.0                   0.0   \n",
       "2                       0.0                      1200.0                 850.0   \n",
       "\n",
       "                                    anuncio_descricao  Sqm_value quartos  \\\n",
       "0   Amplo imóvel para venda com 3 quartos, sendo 1...      12835       3   \n",
       "47  Amplo imóvel para venda com 4 quartos, sendo 1...      12835       4   \n",
       "1   Amplo imóvel para venda com 2 quartos, sendo 0...       6425       2   \n",
       "16  Amplo imóvel para venda com 2 quartos, sendo 0...       6425       2   \n",
       "2   Amplo imóvel para venda com 5 quartos, sendo 4...      12585       5   \n",
       "\n",
       "   suites banheiros  \n",
       "0       1         2  \n",
       "47      1         2  \n",
       "1       0         1  \n",
       "16      0         1  \n",
       "2       4         5  "
      ]
     },
     "execution_count": 100,
     "metadata": {},
     "output_type": "execute_result"
    }
   ],
   "source": [
    "data_listings = pd.merge(\n",
    "    data_listings,\n",
    "    config,\n",
    "    left_index=True,\n",
    "    right_index=True\n",
    ")\n",
    "data_listings.head()"
   ]
  },
  {
   "cell_type": "markdown",
   "metadata": {
    "id": "m2CS8xkuevgu"
   },
   "source": [
    "## Criando novas classificações"
   ]
  },
  {
   "cell_type": "markdown",
   "metadata": {
    "id": "bJqulTItevgu"
   },
   "source": [
    "### Com dados categóricos - `map`\n",
    "\n",
    "[Documentação](https://pandas.pydata.org/pandas-docs/stable/reference/api/pandas.Series.map.html)"
   ]
  },
  {
   "cell_type": "code",
   "execution_count": 101,
   "metadata": {
    "id": "_l0qDgFzevgu"
   },
   "outputs": [],
   "source": [
    "tipo_uso = {\n",
    "    'Apartamento': 'Residencial',\n",
    "    'Casa': 'Residencial',\n",
    "    'Cobertura': 'Residencial',\n",
    "    'Consultório': 'Comercial',\n",
    "    'Imóvel Comercial': 'Comercial',\n",
    "    'Loja': 'Comercial',\n",
    "    'Sala Comercial': 'Comercial'\n",
    "}"
   ]
  },
  {
   "cell_type": "code",
   "execution_count": 102,
   "metadata": {
    "id": "DwyFjomsevgu",
    "scrolled": true
   },
   "outputs": [
    {
     "data": {
      "text/plain": [
       "0     Residencial\n",
       "47    Residencial\n",
       "1     Residencial\n",
       "16    Residencial\n",
       "2     Residencial\n",
       "         ...     \n",
       "60    Residencial\n",
       "63    Residencial\n",
       "64    Residencial\n",
       "66    Residencial\n",
       "68      Comercial\n",
       "Name: imovel_tipos_propriedade, Length: 70, dtype: object"
      ]
     },
     "execution_count": 102,
     "metadata": {},
     "output_type": "execute_result"
    }
   ],
   "source": [
    "data_listings.imovel_tipos_propriedade.map(tipo_uso)"
   ]
  },
  {
   "cell_type": "code",
   "execution_count": 103,
   "metadata": {
    "id": "X3B_8DLvevgv"
   },
   "outputs": [],
   "source": [
    "imovel_tipos_uso = data_listings.imovel_tipos_propriedade.map(tipo_uso)"
   ]
  },
  {
   "cell_type": "markdown",
   "metadata": {
    "id": "995hOzHhevgv"
   },
   "source": [
    "#### `insert`\n",
    "\n",
    "[Documentação](https://pandas.pydata.org/pandas-docs/stable/reference/api/pandas.DataFrame.insert.html)"
   ]
  },
  {
   "cell_type": "code",
   "execution_count": null,
   "metadata": {
    "id": "tuPwv1JTevgv"
   },
   "outputs": [],
   "source": []
  },
  {
   "cell_type": "code",
   "execution_count": null,
   "metadata": {
    "id": "IMSZeeIhevgw",
    "scrolled": true
   },
   "outputs": [],
   "source": []
  },
  {
   "cell_type": "markdown",
   "metadata": {
    "id": "1CRwFHsfevgw"
   },
   "source": [
    "### Com dados numéricos - `cut`\n",
    "\n",
    "[Documentação](https://pandas.pydata.org/pandas-docs/stable/reference/api/pandas.cut.html)"
   ]
  },
  {
   "cell_type": "markdown",
   "metadata": {
    "id": "2g4jSmX1evgw"
   },
   "source": [
    "#### Utilizando classes fixas"
   ]
  },
  {
   "cell_type": "code",
   "execution_count": null,
   "metadata": {
    "id": "0KTpjlnhevgx"
   },
   "outputs": [],
   "source": []
  },
  {
   "cell_type": "code",
   "execution_count": null,
   "metadata": {
    "id": "zapsO_NJAoj7"
   },
   "outputs": [],
   "source": []
  },
  {
   "cell_type": "code",
   "execution_count": null,
   "metadata": {
    "id": "ztdhjZ2mevgx"
   },
   "outputs": [],
   "source": []
  },
  {
   "cell_type": "code",
   "execution_count": null,
   "metadata": {
    "id": "je6VWPuYevgx",
    "scrolled": true
   },
   "outputs": [],
   "source": []
  },
  {
   "cell_type": "code",
   "execution_count": null,
   "metadata": {
    "id": "vY7d-5z5ceWO",
    "scrolled": true
   },
   "outputs": [],
   "source": []
  },
  {
   "cell_type": "code",
   "execution_count": null,
   "metadata": {
    "id": "q1ENkBM0evgy"
   },
   "outputs": [],
   "source": []
  },
  {
   "cell_type": "markdown",
   "metadata": {
    "id": "hGo5UyTsevgy"
   },
   "source": [
    "#### Utilizando classes personalizadas"
   ]
  },
  {
   "cell_type": "code",
   "execution_count": null,
   "metadata": {
    "id": "XzoW4Hasb8q7"
   },
   "outputs": [],
   "source": []
  },
  {
   "cell_type": "code",
   "execution_count": null,
   "metadata": {
    "id": "I65cC8pkevgz",
    "scrolled": true
   },
   "outputs": [],
   "source": []
  },
  {
   "cell_type": "code",
   "execution_count": null,
   "metadata": {
    "id": "mfZ0S5b0evgz",
    "scrolled": true
   },
   "outputs": [],
   "source": []
  },
  {
   "cell_type": "code",
   "execution_count": null,
   "metadata": {
    "id": "iHDPvSAPevgz"
   },
   "outputs": [],
   "source": []
  },
  {
   "cell_type": "markdown",
   "metadata": {
    "id": "zWGPxzcuevg0"
   },
   "source": [
    "## Novas colunas derivadas das informações existentes"
   ]
  },
  {
   "cell_type": "markdown",
   "metadata": {
    "id": "LLxPnrTHevg0"
   },
   "source": [
    "### Valor por m²"
   ]
  },
  {
   "cell_type": "code",
   "execution_count": null,
   "metadata": {
    "id": "ucf8dkBzevg0",
    "scrolled": true
   },
   "outputs": [],
   "source": []
  },
  {
   "cell_type": "code",
   "execution_count": null,
   "metadata": {
    "id": "RAPOfBHgevg0"
   },
   "outputs": [],
   "source": []
  },
  {
   "cell_type": "markdown",
   "metadata": {
    "id": "JxaCGr1Devg1"
   },
   "source": [
    "#### `apply`\n",
    "\n",
    "[Documentação](https://pandas.pydata.org/pandas-docs/stable/reference/api/pandas.DataFrame.apply.html)"
   ]
  },
  {
   "cell_type": "code",
   "execution_count": null,
   "metadata": {
    "id": "yNmvRWLievg1"
   },
   "outputs": [],
   "source": []
  },
  {
   "cell_type": "code",
   "execution_count": null,
   "metadata": {
    "id": "Xeqd609_evg1"
   },
   "outputs": [],
   "source": []
  },
  {
   "cell_type": "code",
   "execution_count": null,
   "metadata": {
    "id": "ZEvfUpFoevg2"
   },
   "outputs": [],
   "source": []
  },
  {
   "cell_type": "markdown",
   "metadata": {
    "id": "1Pcx255bevg2"
   },
   "source": [
    "### Piscina?"
   ]
  },
  {
   "cell_type": "code",
   "execution_count": null,
   "metadata": {
    "id": "U6z63nqXevg2"
   },
   "outputs": [],
   "source": []
  },
  {
   "cell_type": "markdown",
   "metadata": {
    "id": "KNSWnriMevg2"
   },
   "source": [
    "# TABULAÇÕES E SUMARIZAÇÕES\n",
    "---"
   ]
  },
  {
   "cell_type": "markdown",
   "metadata": {
    "id": "eiFZz3Gcevg2"
   },
   "source": [
    "## Agrupamentos"
   ]
  },
  {
   "cell_type": "code",
   "execution_count": null,
   "metadata": {
    "id": "GepN60rgevg2"
   },
   "outputs": [],
   "source": []
  },
  {
   "cell_type": "markdown",
   "metadata": {
    "id": "4VGAbY3Sevg3"
   },
   "source": [
    "### `aggregate`\n",
    "\n",
    "[Documentação](https://pandas.pydata.org/pandas-docs/stable/reference/api/pandas.DataFrame.aggregate.html)"
   ]
  },
  {
   "cell_type": "code",
   "execution_count": null,
   "metadata": {
    "id": "CJopCPinevg3"
   },
   "outputs": [],
   "source": []
  },
  {
   "cell_type": "code",
   "execution_count": null,
   "metadata": {
    "id": "fiQc4618evg3"
   },
   "outputs": [],
   "source": []
  },
  {
   "cell_type": "markdown",
   "metadata": {
    "id": "Y_T5j1Dkevg3"
   },
   "source": [
    "### `groupby`\n",
    "\n",
    "[Documentação](https://pandas.pydata.org/pandas-docs/stable/reference/api/pandas.DataFrame.groupby.html)"
   ]
  },
  {
   "cell_type": "code",
   "execution_count": null,
   "metadata": {
    "id": "Zu9QU8XYevg3"
   },
   "outputs": [],
   "source": []
  },
  {
   "cell_type": "code",
   "execution_count": null,
   "metadata": {
    "id": "UVdqyITfevg4"
   },
   "outputs": [],
   "source": []
  },
  {
   "cell_type": "code",
   "execution_count": null,
   "metadata": {
    "id": "QNe-9qufevg4"
   },
   "outputs": [],
   "source": []
  },
  {
   "cell_type": "code",
   "execution_count": null,
   "metadata": {
    "id": "2mF_L8cAevg4"
   },
   "outputs": [],
   "source": []
  },
  {
   "cell_type": "code",
   "execution_count": null,
   "metadata": {
    "id": "cafTo2wUevg4"
   },
   "outputs": [],
   "source": []
  },
  {
   "cell_type": "code",
   "execution_count": null,
   "metadata": {
    "id": "zVu7oxvYevg5"
   },
   "outputs": [],
   "source": []
  },
  {
   "cell_type": "markdown",
   "metadata": {
    "id": "AUBj_APUevg5"
   },
   "source": [
    "### `value_counts`\n",
    "\n",
    "[Documentação](https://pandas.pydata.org/pandas-docs/stable/reference/api/pandas.DataFrame.value_counts.html)"
   ]
  },
  {
   "cell_type": "code",
   "execution_count": null,
   "metadata": {
    "id": "EF2L8WmHevg5"
   },
   "outputs": [],
   "source": []
  },
  {
   "cell_type": "code",
   "execution_count": null,
   "metadata": {
    "id": "IOZ1Fb0Tevg5"
   },
   "outputs": [],
   "source": []
  },
  {
   "cell_type": "code",
   "execution_count": null,
   "metadata": {
    "id": "irStjJUvevg5"
   },
   "outputs": [],
   "source": []
  },
  {
   "cell_type": "markdown",
   "metadata": {
    "id": "KJtrt3l5evg6"
   },
   "source": [
    "#### `to_frame`\n",
    "\n",
    "[Documentação](https://pandas.pydata.org/pandas-docs/stable/reference/api/pandas.Series.to_frame.html)"
   ]
  },
  {
   "cell_type": "code",
   "execution_count": null,
   "metadata": {
    "id": "86UZBXs9evg6"
   },
   "outputs": [],
   "source": []
  },
  {
   "cell_type": "markdown",
   "metadata": {
    "id": "zfIcPdHpevg6"
   },
   "source": [
    "## Mudando o formato de um *DataFrame*"
   ]
  },
  {
   "cell_type": "markdown",
   "metadata": {
    "id": "FMI3APPqevg6"
   },
   "source": [
    "### `unstack`\n",
    "\n",
    "Faz a rotação ou o pivoteamento das linhas para as colunas.\n",
    "\n",
    "[Documentação](https://pandas.pydata.org/pandas-docs/stable/reference/api/pandas.DataFrame.unstack.html)"
   ]
  },
  {
   "cell_type": "code",
   "execution_count": null,
   "metadata": {
    "id": "ihUiFlUoevg6"
   },
   "outputs": [],
   "source": []
  },
  {
   "cell_type": "code",
   "execution_count": null,
   "metadata": {
    "id": "QJ4pCdlnevg6"
   },
   "outputs": [],
   "source": []
  },
  {
   "cell_type": "code",
   "execution_count": null,
   "metadata": {
    "id": "v_n21a8cevg7"
   },
   "outputs": [],
   "source": []
  },
  {
   "cell_type": "markdown",
   "metadata": {
    "id": "se1knkwkevg7"
   },
   "source": [
    "### `stack`\n",
    "\n",
    "Faz a rotação ou o pivoteamento das colunas de um *DataFrame* para as linhas.\n",
    "\n",
    "[Documentação](https://pandas.pydata.org/pandas-docs/stable/reference/api/pandas.DataFrame.stack.html)"
   ]
  },
  {
   "cell_type": "code",
   "execution_count": null,
   "metadata": {
    "id": "xJRpaXH_evg7"
   },
   "outputs": [],
   "source": []
  },
  {
   "cell_type": "code",
   "execution_count": null,
   "metadata": {
    "id": "QkWRUW1Hevg7"
   },
   "outputs": [],
   "source": []
  },
  {
   "cell_type": "code",
   "execution_count": null,
   "metadata": {
    "id": "dGE9_h4Eevg7",
    "scrolled": true
   },
   "outputs": [],
   "source": []
  },
  {
   "cell_type": "code",
   "execution_count": null,
   "metadata": {
    "id": "SYBirwOQevg7",
    "scrolled": true
   },
   "outputs": [],
   "source": []
  },
  {
   "cell_type": "markdown",
   "metadata": {
    "id": "721L30DGevg8"
   },
   "source": [
    "## Criando tabelas dinâmicas"
   ]
  },
  {
   "cell_type": "markdown",
   "metadata": {
    "id": "MT9R7ULTevg8"
   },
   "source": [
    "### `pivot`\n",
    "\n",
    "[Documentação](https://pandas.pydata.org/pandas-docs/stable/reference/api/pandas.DataFrame.pivot.html)"
   ]
  },
  {
   "cell_type": "code",
   "execution_count": null,
   "metadata": {
    "id": "TxCjxASHevg8"
   },
   "outputs": [],
   "source": []
  },
  {
   "cell_type": "markdown",
   "metadata": {
    "id": "KK2lRVTZevg8"
   },
   "source": [
    "#### `droplevel`\n",
    "\n",
    "[Documentação](https://pandas.pydata.org/pandas-docs/stable/reference/api/pandas.DataFrame.droplevel.html)"
   ]
  },
  {
   "cell_type": "code",
   "execution_count": null,
   "metadata": {
    "id": "WM8eGmWyevg9"
   },
   "outputs": [],
   "source": []
  },
  {
   "cell_type": "markdown",
   "metadata": {
    "id": "JV0cPfjjevg9"
   },
   "source": [
    "#### `reset_index`\n",
    "\n",
    "[Documentação](https://pandas.pydata.org/pandas-docs/stable/reference/api/pandas.DataFrame.reset_index.html)"
   ]
  },
  {
   "cell_type": "code",
   "execution_count": null,
   "metadata": {
    "id": "_2zbYlDUevg9",
    "scrolled": true
   },
   "outputs": [],
   "source": []
  },
  {
   "cell_type": "code",
   "execution_count": null,
   "metadata": {
    "id": "Tr3lQ7_Pevg9"
   },
   "outputs": [],
   "source": []
  },
  {
   "cell_type": "markdown",
   "metadata": {
    "id": "si3S5yVIevg9"
   },
   "source": [
    "### `pivot_table`\n",
    "\n",
    "[Documentação](https://pandas.pydata.org/pandas-docs/stable/reference/api/pandas.DataFrame.pivot_table.html)"
   ]
  },
  {
   "cell_type": "code",
   "execution_count": null,
   "metadata": {
    "id": "Cc8GufF3evg-"
   },
   "outputs": [],
   "source": []
  },
  {
   "cell_type": "code",
   "execution_count": null,
   "metadata": {
    "id": "VxFFo13gevg-"
   },
   "outputs": [],
   "source": []
  },
  {
   "cell_type": "code",
   "execution_count": null,
   "metadata": {
    "id": "5AzhTNwaevg-"
   },
   "outputs": [],
   "source": []
  },
  {
   "cell_type": "markdown",
   "metadata": {
    "id": "z3WPXV_1evg-"
   },
   "source": [
    "# TABULAÇÕES E ESTILIZAÇÃO\n",
    "---"
   ]
  },
  {
   "cell_type": "markdown",
   "metadata": {
    "id": "hEMpF1yYevg-"
   },
   "source": [
    "## Tabulações a partir de informações no formato de listas"
   ]
  },
  {
   "cell_type": "markdown",
   "metadata": {
    "id": "ZFqI6k6_evg-"
   },
   "source": [
    "### `explode`\n",
    "\n",
    "[Documentação](https://pandas.pydata.org/pandas-docs/stable/reference/api/pandas.DataFrame.explode.html)"
   ]
  },
  {
   "cell_type": "code",
   "execution_count": null,
   "metadata": {
    "id": "JFZCZ7Yuevg_",
    "scrolled": true
   },
   "outputs": [],
   "source": []
  },
  {
   "cell_type": "code",
   "execution_count": null,
   "metadata": {
    "id": "VhIcLAXzevg_"
   },
   "outputs": [],
   "source": []
  },
  {
   "cell_type": "code",
   "execution_count": null,
   "metadata": {
    "id": "q8dhRb3sevg_",
    "scrolled": false
   },
   "outputs": [],
   "source": []
  },
  {
   "cell_type": "markdown",
   "metadata": {
    "id": "f8aTRZ-Mevg_"
   },
   "source": [
    "#### `where`\n",
    "\n",
    "[Documentação](https://pandas.pydata.org/pandas-docs/stable/reference/api/pandas.Series.where.html)"
   ]
  },
  {
   "cell_type": "code",
   "execution_count": null,
   "metadata": {
    "id": "eVqYjcWievg_"
   },
   "outputs": [],
   "source": []
  },
  {
   "cell_type": "code",
   "execution_count": null,
   "metadata": {
    "id": "IRMPSZhvevhA"
   },
   "outputs": [],
   "source": []
  },
  {
   "cell_type": "markdown",
   "metadata": {
    "id": "Hqsk2TCqevhA"
   },
   "source": [
    "## Estilizando um DataFrame"
   ]
  },
  {
   "cell_type": "markdown",
   "metadata": {
    "id": "D9fI8e5TevhA"
   },
   "source": [
    "### `style`\n",
    "\n",
    "[Documentação](https://pandas.pydata.org/pandas-docs/stable/reference/api/pandas.DataFrame.style.html)"
   ]
  },
  {
   "cell_type": "code",
   "execution_count": null,
   "metadata": {
    "id": "6RSwWnIhevhA"
   },
   "outputs": [],
   "source": []
  },
  {
   "cell_type": "code",
   "execution_count": null,
   "metadata": {
    "id": "0m_-TJTuevhA"
   },
   "outputs": [],
   "source": []
  },
  {
   "cell_type": "code",
   "execution_count": null,
   "metadata": {
    "id": "1KnL7z-CevhA"
   },
   "outputs": [],
   "source": []
  },
  {
   "cell_type": "markdown",
   "metadata": {
    "id": "yvFSL0PAevhB"
   },
   "source": [
    "#### `format`\n",
    "\n",
    "[Documentação](https://pandas.pydata.org/pandas-docs/stable/reference/api/pandas.io.formats.style.Styler.format.html)"
   ]
  },
  {
   "cell_type": "code",
   "execution_count": null,
   "metadata": {
    "id": "r_0DbWypevhB"
   },
   "outputs": [],
   "source": []
  },
  {
   "cell_type": "markdown",
   "metadata": {
    "id": "ncaZ5etWevhB"
   },
   "source": [
    "#### `bar`\n",
    "\n",
    "[Documentação](https://pandas.pydata.org/pandas-docs/stable/reference/api/pandas.io.formats.style.Styler.bar.html)"
   ]
  },
  {
   "cell_type": "code",
   "execution_count": null,
   "metadata": {
    "id": "0DYposenevhB"
   },
   "outputs": [],
   "source": []
  },
  {
   "cell_type": "markdown",
   "metadata": {
    "id": "q9EV6PsZevhB"
   },
   "source": [
    "#### `applymap`\n",
    "\n",
    "[Documentação](https://pandas.pydata.org/pandas-docs/stable/reference/api/pandas.io.formats.style.Styler.applymap.html)"
   ]
  },
  {
   "cell_type": "code",
   "execution_count": null,
   "metadata": {
    "id": "dwRK5vwXevhB"
   },
   "outputs": [],
   "source": []
  },
  {
   "cell_type": "code",
   "execution_count": null,
   "metadata": {
    "id": "qyMctQrhevhD"
   },
   "outputs": [],
   "source": []
  },
  {
   "cell_type": "markdown",
   "metadata": {
    "id": "xklcN2wjevhD"
   },
   "source": [
    "#### `highlight_max` e `highlight_min`\n",
    "\n",
    "[Documentação: `highlight_max`](https://pandas.pydata.org/pandas-docs/stable/reference/api/pandas.io.formats.style.Styler.highlight_max.html)\n",
    "\n",
    "[Documentação: `highlight_min`](https://pandas.pydata.org/pandas-docs/stable/reference/api/pandas.io.formats.style.Styler.highlight_min.html)"
   ]
  },
  {
   "cell_type": "code",
   "execution_count": null,
   "metadata": {
    "id": "bH5k6L7FevhE"
   },
   "outputs": [],
   "source": []
  },
  {
   "cell_type": "code",
   "execution_count": null,
   "metadata": {
    "id": "QfSwVQg9evhE"
   },
   "outputs": [],
   "source": []
  },
  {
   "cell_type": "code",
   "execution_count": null,
   "metadata": {
    "id": "Q2WvRk1eevhF",
    "scrolled": true
   },
   "outputs": [],
   "source": []
  },
  {
   "cell_type": "code",
   "execution_count": null,
   "metadata": {
    "id": "JHoRZr3gevhG"
   },
   "outputs": [],
   "source": []
  },
  {
   "cell_type": "code",
   "execution_count": null,
   "metadata": {
    "id": "07rpMsdIevhG"
   },
   "outputs": [],
   "source": []
  },
  {
   "cell_type": "code",
   "execution_count": null,
   "metadata": {
    "id": "OkZyFqDdevhG"
   },
   "outputs": [],
   "source": []
  },
  {
   "cell_type": "code",
   "execution_count": null,
   "metadata": {
    "id": "WX5UuzeYevhG"
   },
   "outputs": [],
   "source": []
  },
  {
   "cell_type": "markdown",
   "metadata": {
    "id": "A13lh-6WevhH"
   },
   "source": [
    "#### `background_gradient`\n",
    "\n",
    "[Documentação](https://pandas.pydata.org/pandas-docs/stable/reference/api/pandas.io.formats.style.Styler.background_gradient.html)"
   ]
  },
  {
   "cell_type": "code",
   "execution_count": null,
   "metadata": {
    "id": "DUUt_GaRevhH"
   },
   "outputs": [],
   "source": []
  },
  {
   "cell_type": "code",
   "execution_count": null,
   "metadata": {
    "id": "Cqbg9GgvevhJ"
   },
   "outputs": [],
   "source": []
  },
  {
   "cell_type": "code",
   "execution_count": null,
   "metadata": {
    "id": "1YYNpDxbevhJ"
   },
   "outputs": [],
   "source": []
  },
  {
   "cell_type": "markdown",
   "metadata": {
    "id": "IKxU1RsFevhJ"
   },
   "source": [
    "#### `to_excel`\n",
    "\n",
    "[Documentação](https://pandas.pydata.org/pandas-docs/stable/reference/api/pandas.io.formats.style.Styler.to_excel.html)"
   ]
  },
  {
   "cell_type": "code",
   "execution_count": null,
   "metadata": {
    "id": "Hqc01SzXevhK"
   },
   "outputs": [],
   "source": []
  },
  {
   "cell_type": "markdown",
   "metadata": {
    "id": "A75CwZB0evhK"
   },
   "source": [
    "# ANEXOS\n",
    "---"
   ]
  },
  {
   "cell_type": "markdown",
   "metadata": {
    "id": "TcE_9F2eevhL"
   },
   "source": [
    "### Opções para o parâmetro `cmap`\n",
    "\n",
    "[Documentação](https://matplotlib.org/3.3.2/tutorials/colors/colormaps.html)"
   ]
  },
  {
   "cell_type": "code",
   "execution_count": 36,
   "metadata": {
    "id": "hpyWIdU2evhL"
   },
   "outputs": [],
   "source": [
    "import numpy as np\n",
    "import matplotlib as mpl\n",
    "import matplotlib.pyplot as plt\n",
    "from matplotlib import cm\n",
    "from collections import OrderedDict\n",
    "\n",
    "cmaps = OrderedDict()"
   ]
  },
  {
   "cell_type": "code",
   "execution_count": 37,
   "metadata": {
    "id": "DbvdFKVievhM"
   },
   "outputs": [],
   "source": [
    "cmaps['Perceptually Uniform Sequential'] = [\n",
    "            'viridis', 'plasma', 'inferno', 'magma', 'cividis']\n",
    "\n",
    "cmaps['Sequential'] = [\n",
    "            'Greys', 'Purples', 'Blues', 'Greens', 'Oranges', 'Reds',\n",
    "            'YlOrBr', 'YlOrRd', 'OrRd', 'PuRd', 'RdPu', 'BuPu',\n",
    "            'GnBu', 'PuBu', 'YlGnBu', 'PuBuGn', 'BuGn', 'YlGn']\n",
    "\n",
    "cmaps['Sequential (2)'] = [\n",
    "            'binary', 'gist_yarg', 'gist_gray', 'gray', 'bone', 'pink',\n",
    "            'spring', 'summer', 'autumn', 'winter', 'cool', 'Wistia',\n",
    "            'hot', 'afmhot', 'gist_heat', 'copper']\n",
    "\n",
    "cmaps['Diverging'] = [\n",
    "            'PiYG', 'PRGn', 'BrBG', 'PuOr', 'RdGy', 'RdBu',\n",
    "            'RdYlBu', 'RdYlGn', 'Spectral', 'coolwarm', 'bwr', 'seismic']\n",
    "\n",
    "cmaps['Cyclic'] = ['twilight', 'twilight_shifted', 'hsv']\n",
    "\n",
    "cmaps['Qualitative'] = ['Pastel1', 'Pastel2', 'Paired', 'Accent',\n",
    "                        'Dark2', 'Set1', 'Set2', 'Set3',\n",
    "                        'tab10', 'tab20', 'tab20b', 'tab20c']\n",
    "\n",
    "cmaps['Miscellaneous'] = [\n",
    "            'flag', 'prism', 'ocean', 'gist_earth', 'terrain', 'gist_stern',\n",
    "            'gnuplot', 'gnuplot2', 'CMRmap', 'cubehelix', 'brg',\n",
    "            'gist_rainbow', 'rainbow', 'jet', 'nipy_spectral',\n",
    "            'gist_ncar']"
   ]
  },
  {
   "cell_type": "code",
   "execution_count": 38,
   "metadata": {
    "id": "krg94xcfevhM",
    "scrolled": false
   },
   "outputs": [
    {
     "data": {
      "image/png": "[encoded data removed]",
      "text/plain": [
       "<Figure size 432x288 with 18 Axes>"
      ]
     },
     "metadata": {
      "needs_background": "light"
     },
     "output_type": "display_data"
    },
    {
     "data": {
      "image/png": "[encoded data removed]",
      "text/plain": [
       "<Figure size 432x288 with 18 Axes>"
      ]
     },
     "metadata": {
      "needs_background": "light"
     },
     "output_type": "display_data"
    },
    {
     "data": {
      "image/png": "[encoded data removed]",
      "text/plain": [
       "<Figure size 432x288 with 18 Axes>"
      ]
     },
     "metadata": {
      "needs_background": "light"
     },
     "output_type": "display_data"
    },
    {
     "data": {
      "image/png": "[encoded data removed]",
      "text/plain": [
       "<Figure size 432x288 with 18 Axes>"
      ]
     },
     "metadata": {
      "needs_background": "light"
     },
     "output_type": "display_data"
    },
    {
     "data": {
      "image/png": "[encoded data removed]",
      "text/plain": [
       "<Figure size 432x288 with 18 Axes>"
      ]
     },
     "metadata": {
      "needs_background": "light"
     },
     "output_type": "display_data"
    },
    {
     "data": {
      "image/png": "[encoded data removed]",
      "text/plain": [
       "<Figure size 432x288 with 18 Axes>"
      ]
     },
     "metadata": {
      "needs_background": "light"
     },
     "output_type": "display_data"
    },
    {
     "data": {
      "image/png": "[encoded data removed]",
      "text/plain": [
       "<Figure size 432x288 with 18 Axes>"
      ]
     },
     "metadata": {
      "needs_background": "light"
     },
     "output_type": "display_data"
    }
   ],
   "source": [
    "nrows = max(len(cmap_list) for cmap_category, cmap_list in cmaps.items())\n",
    "gradient = np.linspace(0, 1, 256)\n",
    "gradient = np.vstack((gradient, gradient))\n",
    "\n",
    "\n",
    "def plot_color_gradients(cmap_category, cmap_list, nrows):\n",
    "    fig, axes = plt.subplots(nrows=nrows)\n",
    "    fig.subplots_adjust(top=0.95, bottom=0.01, left=0.2, right=0.99)\n",
    "    axes[0].set_title(cmap_category + ' colormaps', fontsize=14)\n",
    "\n",
    "    for ax, name in zip(axes, cmap_list):\n",
    "        ax.imshow(gradient, aspect='auto', cmap=plt.get_cmap(name))\n",
    "        pos = list(ax.get_position().bounds)\n",
    "        x_text = pos[0] - 0.01\n",
    "        y_text = pos[1] + pos[3]/2.\n",
    "        fig.text(x_text, y_text, name, va='center', ha='right', fontsize=10)\n",
    "\n",
    "    # Turn off *all* ticks & spines, not just the ones with colormaps.\n",
    "    for ax in axes:\n",
    "        ax.set_axis_off()\n",
    "\n",
    "\n",
    "for cmap_category, cmap_list in cmaps.items():\n",
    "    plot_color_gradients(cmap_category, cmap_list, nrows)\n",
    "\n",
    "plt.show()"
   ]
  },
  {
   "cell_type": "code",
   "execution_count": null,
   "metadata": {
    "id": "vmmcXYh2evhN"
   },
   "outputs": [],
   "source": []
  }
 ],
 "metadata": {
  "colab": {
   "name": "Projeto.ipynb",
   "provenance": []
  },
  "kernelspec": {
   "display_name": "Python 3",
   "language": "python",
   "name": "python3"
  },
  "language_info": {
   "codemirror_mode": {
    "name": "ipython",
    "version": 3
   },
   "file_extension": ".py",
   "mimetype": "text/x-python",
   "name": "python",
   "nbconvert_exporter": "python",
   "pygments_lexer": "ipython3",
   "version": "3.8.8"
  },
  "toc": {
   "base_numbering": 1,
   "nav_menu": {},
   "number_sections": false,
   "sideBar": true,
   "skip_h1_title": false,
   "title_cell": "Table of Contents",
   "title_sidebar": "Contents",
   "toc_cell": false,
   "toc_position": {
    "height": "calc(100% - 180px)",
    "left": "10px",
    "top": "150px",
    "width": "268.2px"
   },
   "toc_section_display": true,
   "toc_window_display": false
  },
  "varInspector": {
   "cols": {
    "lenName": 16,
    "lenType": 16,
    "lenVar": 40
   },
   "kernels_config": {
    "python": {
     "delete_cmd_postfix": "",
     "delete_cmd_prefix": "del ",
     "library": "var_list.py",
     "varRefreshCmd": "print(var_dic_list())"
    },
    "r": {
     "delete_cmd_postfix": ") ",
     "delete_cmd_prefix": "rm(",
     "library": "var_list.r",
     "varRefreshCmd": "cat(var_dic_list()) "
    }
   },
   "types_to_exclude": [
    "module",
    "function",
    "builtin_function_or_method",
    "instance",
    "_Feature"
   ],
   "window_display": false
  }
 },
 "nbformat": 4,
 "nbformat_minor": 1
}
