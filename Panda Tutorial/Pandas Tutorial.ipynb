{
 "cells": [
  {
   "cell_type": "markdown",
   "metadata": {},
   "source": [
    "# Loading data into Pandas"
   ]
  },
  {
   "cell_type": "code",
   "execution_count": null,
   "metadata": {},
   "outputs": [],
   "source": [
    "import pandas as pd\n",
    "import re\n",
    "\n",
    "df = pd.read_csv(\"/Users/joaob/OneDrive/Data Science/datasets/pokemon_data.csv\")\n"
   ]
  },
  {
   "cell_type": "markdown",
   "metadata": {},
   "source": [
    "# Reading Data\n"
   ]
  },
  {
   "cell_type": "code",
   "execution_count": null,
   "metadata": {},
   "outputs": [],
   "source": [
    "# Read headers\n",
    "print(df.columns)\n",
    "\n",
    "# Read each column\n",
    "df[\"Name\"]\n",
    "df[\"Name\"][0:3]\n",
    "df.Name\n",
    "df.Name[1]\n",
    "\n",
    "# Read head row\n",
    "df.head(1)\n",
    "df.iloc[0]\n",
    "\n",
    "# Read specific location (R,C)\n",
    "df.iloc[2,1]\n",
    "for index, row in df.iterrows():\n",
    "    print(index, row)\n",
    "#specific column in the index for each row    \n",
    "for index, row in df.iterrows():\n",
    "    print(index, row[\"Name\"])\n",
    "#search for specific information: locate on X column where criteria Y meets\n",
    "df.loc[df[\"Type 1\"] == \"Fire\"]\n",
    "df.loc[df[\"Legendary\"] == True].sort_values(\"Name\", ascending=1)\n",
    "\n",
    "#search only some clumns\n",
    "df.iloc[:,4:10]\n"
   ]
  },
  {
   "cell_type": "markdown",
   "metadata": {},
   "source": [
    "# Sorting/Describing Data"
   ]
  },
  {
   "cell_type": "code",
   "execution_count": null,
   "metadata": {},
   "outputs": [],
   "source": [
    "# High level stats from dataset\n",
    "df.describe()\n",
    "\n",
    "# Sort values\n",
    "df.sort_values(\"Name\", ascending=True)\n",
    "#select multiple columns\n",
    "df.sort_values([\"Type 1\",\"HP\"],ascending=False)\n",
    "#chose ascending order from each column\n",
    "df.sort_values([\"Type 1\",\"HP\",\"Generation\"], ascending=[0,0,1])\n",
    "\n",
    "#how many unique types are in legendary?\n",
    "set(df.loc[df[\"Legendary\"] == True][\"Type 1\"])\n",
    "\n",
    "#which types are not legendary?\n",
    "print(set(df['Type 1']) - set(df.loc[df[\"Legendary\"] == True][\"Type 1\"]))\n",
    "\n"
   ]
  },
  {
   "cell_type": "markdown",
   "metadata": {},
   "source": [
    "# Making changes to the data"
   ]
  },
  {
   "cell_type": "code",
   "execution_count": null,
   "metadata": {},
   "outputs": [],
   "source": [
    "# Create new columns\n",
    "df['Total'] = df['HP'] + df['Attack'] + df['Defense'] + df['Sp. Atk'] + df['Sp. Def'] + df['Speed']\n",
    "#alternative\n",
    "# df['Total'] = df.iloc[:,4:10].sum(axis=1)\n",
    "\n",
    "# Delete colum\n",
    "#df = df.drop(columns=['Total'])\n",
    "\n",
    "# Shift columns\n",
    "cols = list(df.columns)\n",
    "# obs: just cols[-1] is a string, it need more brackets to become a list\n",
    "df = df[cols[0:4] + [cols[-1]] + cols[4:12]]\n"
   ]
  },
  {
   "cell_type": "markdown",
   "metadata": {},
   "source": [
    "# Saving your data"
   ]
  },
  {
   "cell_type": "code",
   "execution_count": null,
   "metadata": {},
   "outputs": [],
   "source": [
    "\n",
    "df.to_csv('modified.csv', index=False)\n",
    "\n",
    "df.to_excel('modified.xlsx', index=False)\n",
    "\n",
    "df.to_csv('modified.txt', index=False, sep=\"\\t\")\n"
   ]
  },
  {
   "cell_type": "markdown",
   "metadata": {},
   "source": [
    "# Filtering Data"
   ]
  },
  {
   "cell_type": "code",
   "execution_count": null,
   "metadata": {},
   "outputs": [],
   "source": [
    "# search for two specific conditions in dataset, list of poke with both grass and poison type\n",
    "df.loc[(df['Type 1'] == \"Grass\") & (df[\"Type 2\"] == 'Poison')]\n",
    "\n",
    "# add filter by HP > 70\n",
    "df.loc[(df['Type 1'] == \"Grass\") & (df[\"Type 2\"] == 'Poison') & (df['HP'] > 70)]\n",
    "\n",
    "# create a new filter variable\n",
    "new_df = df.loc[(df['Type 1'] == \"Grass\") & (df[\"Type 2\"] == 'Poison') & (df['HP'] > 70)].reset_index()\n",
    "# or new_df.reset_index(drop=True, inplace=True)\n",
    "\n",
    "# Filter specific text in 'Name' column\n",
    "df.loc[df['Name'].str.contains('Mega')]\n",
    "# not 'Mega' ->  df.loc[~df['Name'].str.contains('Mega')]\n",
    "\n",
    "# Filter using Regular Expressions     (flags=re.I -> ignore capptalization)\n",
    "df.loc[df['Type 1'].str.contains('fire|grass', flags=re.I, regex=True)]\n",
    "df.loc[df['Name'].str.contains('^pi[a-z]*', flags=re.I, regex=True)]"
   ]
  },
  {
   "cell_type": "markdown",
   "metadata": {},
   "source": [
    "# Conditional Changes"
   ]
  },
  {
   "cell_type": "code",
   "execution_count": null,
   "metadata": {},
   "outputs": [],
   "source": [
    "# change specific atributte in a column\n",
    "df.loc[df['Type 1'] == 'Fire', 'Type 1'] = 'Flamer'\n",
    "# reverse\n",
    "df.loc[df['Type 1'] == 'Flamer', 'Type 1'] = 'Fire'\n",
    "# make all fire poke to legendary\n",
    "df.loc[df['Type 1'] == 'Fire', 'Legendary'] = True\n",
    "# change multiple columns value given a certain criteria\n",
    "df.loc[df['Total'] > 500, ['Generation','Legendary']] = 'TEST VALUE'\n",
    "# or\n",
    "df.loc[df['Total'] > 500, ['Generation','Legendary']] = ['Test 1', 'Test 2']\n",
    "\n",
    "df.head()"
   ]
  },
  {
   "cell_type": "markdown",
   "metadata": {},
   "source": [
    "# Aggregate Statistics (Groupby)\n",
    "\n"
   ]
  },
  {
   "cell_type": "code",
   "execution_count": null,
   "metadata": {},
   "outputs": [],
   "source": [
    "\n",
    "#checkpoint\n",
    "df = pd.read_csv('modified.csv')\n",
    "\n",
    "# mean values group by Type 1\n",
    "df.groupby(['Type 1']).mean()\n",
    "# does Stell pokes have the higher defense?\n",
    "df.groupby(['Type 1']).mean().sort_values('Defense', ascending=False)\n",
    "# what group have the highest attack?\n",
    "df.groupby(['Type 1']).mean().sort_values('Attack', ascending=False)\n",
    "# group only legendary by type 1\n",
    "df.groupby(['Type 1']).sum()['Legendary']\n",
    "# count how much in each group\n",
    "df['count'] = 1\n",
    "df.groupby(['Type 1']).count()['count']\n",
    "# multiple sets\n",
    "df.groupby(['Type 1','Type 2']).count()['count']\n",
    "\n",
    "df.head()"
   ]
  },
  {
   "cell_type": "markdown",
   "metadata": {},
   "source": [
    "# Working with large datasets"
   ]
  },
  {
   "cell_type": "code",
   "execution_count": null,
   "metadata": {},
   "outputs": [],
   "source": [
    "#checkpoint\n",
    "df = pd.read_csv('modified.csv')\n",
    "\n",
    "# read data in chuncks (number of rows)\n",
    "\n",
    "# for df2 in pd.read_csv('modified.csv', chunksize=5):\n",
    "#     print('Chunk DF', i)\n",
    "#     print(df2)\n",
    "#     i += 1\n",
    "\n",
    "# append the data into the new data frame while making the interation\n",
    "df['count'] = 1\n",
    "new_df = pd.DataFrame(columns=df.columns)\n",
    "for df2 in pd.read_csv('modified.csv', chunksize=5):\n",
    "    results = df2.groupby(['Type 1']).count()\n",
    "    new_df = pd.concat([new_df, results])\n",
    "\n",
    "new_df.groupby(['Type 2']).count()\n",
    "    "
   ]
  },
  {
   "cell_type": "code",
   "execution_count": null,
   "metadata": {},
   "outputs": [],
   "source": [
    "r = df.groupby(['Type 1']).count()['count']\n",
    "r[0:7]"
   ]
  }
 ],
 "metadata": {
  "kernelspec": {
   "display_name": "Python 3",
   "language": "python",
   "name": "python3"
  },
  "language_info": {
   "codemirror_mode": {
    "name": "ipython",
    "version": 3
   },
   "file_extension": ".py",
   "mimetype": "text/x-python",
   "name": "python",
   "nbconvert_exporter": "python",
   "pygments_lexer": "ipython3",
   "version": "3.8.5"
  }
 },
 "nbformat": 4,
 "nbformat_minor": 4
}
